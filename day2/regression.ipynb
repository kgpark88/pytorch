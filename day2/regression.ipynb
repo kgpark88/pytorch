{
  "nbformat": 4,
  "nbformat_minor": 0,
  "metadata": {
    "colab": {
      "name": "Regression03.ipynb",
      "provenance": [],
      "collapsed_sections": []
    },
    "kernelspec": {
      "name": "python3",
      "display_name": "Python 3"
    },
    "language_info": {
      "name": "python"
    }
  },
  "cells": [
    {
      "cell_type": "markdown",
      "metadata": {
        "id": "view-in-github"
      },
      "source": [
        "<a href=\"https://colab.research.google.com/github/kgpark88/nlp/blob/main/02_Linear_Regression.ipynb\" target=\"_parent\"><img src=\"https://colab.research.google.com/assets/colab-badge.svg\" alt=\"Open In Colab\"/></a>"
      ]
    },
    {
      "cell_type": "markdown",
      "metadata": {
        "id": "TNAGmW1aso5I"
      },
      "source": [
        "출처 : https://towardsdatascience.com/linear-regression-with-pytorch-eb6dedead817"
      ]
    },
    {
      "cell_type": "markdown",
      "metadata": {
        "id": "rlg1l1GdSGCi"
      },
      "source": [
        "# 선형회귀(Linear Regression)"
      ]
    },
    {
      "cell_type": "markdown",
      "metadata": {
        "id": "fg48OtGySOEC"
      },
      "source": [
        "선형 회귀는 종속 변수 y와 한 개 이상의 독립 변수 (또는 설명 변수) X와의 선형 상관 관계를 모델링하는 회귀분석 기법이다.\n",
        "- x: 독립변수(independent variable), 예) 몸무게\n",
        "- y: 종속변수(dependent variable), 예) 키\n",
        "- $y = \\alpha x + b$"
      ]
    },
    {
      "cell_type": "markdown",
      "metadata": {
        "id": "HCc74hz1uBwP"
      },
      "source": [
        "![LR.jpeg](data:image/jpeg;base64,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)"
      ]
    },
    {
      "cell_type": "markdown",
      "metadata": {
        "id": "rjOFXwlJScYo"
      },
      "source": [
        "## 데이터셋"
      ]
    },
    {
      "cell_type": "code",
      "metadata": {
        "id": "PX5_j-75SQjH"
      },
      "source": [
        "import numpy as np"
      ],
      "execution_count": 1,
      "outputs": []
    },
    {
      "cell_type": "code",
      "metadata": {
        "id": "F4UN0DXMSmvD",
        "colab": {
          "base_uri": "https://localhost:8080/"
        },
        "outputId": "2cbd231c-ab70-4883-8cba-8b7ef97f6e12"
      },
      "source": [
        "# create dummy data for training\n",
        "x_values = [i for i in range(11)]\n",
        "print(x_values)"
      ],
      "execution_count": 2,
      "outputs": [
        {
          "output_type": "stream",
          "text": [
            "[0, 1, 2, 3, 4, 5, 6, 7, 8, 9, 10]\n"
          ],
          "name": "stdout"
        }
      ]
    },
    {
      "cell_type": "code",
      "metadata": {
        "id": "eDvIPxEASn3o",
        "colab": {
          "base_uri": "https://localhost:8080/"
        },
        "outputId": "345ab34f-1d7b-4b01-9b97-e1ae5d6ede5a"
      },
      "source": [
        "# Convert to numpy\n",
        "x_train = np.array(x_values, dtype=np.float32)\n",
        "print(x_train.shape)"
      ],
      "execution_count": 3,
      "outputs": [
        {
          "output_type": "stream",
          "text": [
            "(11,)\n"
          ],
          "name": "stdout"
        }
      ]
    },
    {
      "cell_type": "code",
      "metadata": {
        "id": "EuNL1wk6SqbS",
        "colab": {
          "base_uri": "https://localhost:8080/"
        },
        "outputId": "48923650-a57a-463b-f98b-7140543e3b9b"
      },
      "source": [
        "# IMPORTANT: 2D required\n",
        "x_train = x_train.reshape(-1, 1)\n",
        "print(x_train.shape)"
      ],
      "execution_count": 4,
      "outputs": [
        {
          "output_type": "stream",
          "text": [
            "(11, 1)\n"
          ],
          "name": "stdout"
        }
      ]
    },
    {
      "cell_type": "code",
      "metadata": {
        "id": "agScEnZySgGf"
      },
      "source": [
        "y_values = [2*i + 1 for i in x_values]"
      ],
      "execution_count": 5,
      "outputs": []
    },
    {
      "cell_type": "code",
      "metadata": {
        "id": "VNM3-_ZDSjtt",
        "colab": {
          "base_uri": "https://localhost:8080/"
        },
        "outputId": "e864cacc-d6fe-4cb7-f5ac-33cd105f2ea4"
      },
      "source": [
        "print(y_values)"
      ],
      "execution_count": 6,
      "outputs": [
        {
          "output_type": "stream",
          "text": [
            "[1, 3, 5, 7, 9, 11, 13, 15, 17, 19, 21]\n"
          ],
          "name": "stdout"
        }
      ]
    },
    {
      "cell_type": "code",
      "metadata": {
        "id": "Hdz5fVUTSt9B",
        "colab": {
          "base_uri": "https://localhost:8080/"
        },
        "outputId": "c7c0a8ac-7620-49ca-cac7-cc8c8d7acab4"
      },
      "source": [
        "y_train = np.array(y_values, dtype=np.float32)\n",
        "print(y_train.shape)"
      ],
      "execution_count": 7,
      "outputs": [
        {
          "output_type": "stream",
          "text": [
            "(11,)\n"
          ],
          "name": "stdout"
        }
      ]
    },
    {
      "cell_type": "code",
      "metadata": {
        "id": "TrgnU0GeSxmU",
        "colab": {
          "base_uri": "https://localhost:8080/"
        },
        "outputId": "1449cfa6-f113-4caa-b7dd-c544e1e37411"
      },
      "source": [
        "# IMPORTANT: 2D required\n",
        "y_train = y_train.reshape(-1, 1)\n",
        "print(y_train.shape)"
      ],
      "execution_count": 8,
      "outputs": [
        {
          "output_type": "stream",
          "text": [
            "(11, 1)\n"
          ],
          "name": "stdout"
        }
      ]
    },
    {
      "cell_type": "markdown",
      "metadata": {
        "id": "4yudcHDOS2k2"
      },
      "source": [
        "## Regression 신경망 모델"
      ]
    },
    {
      "cell_type": "code",
      "metadata": {
        "id": "FWLeAcsJS2Xi"
      },
      "source": [
        "import torch\n",
        "from torch.autograd import Variable"
      ],
      "execution_count": 9,
      "outputs": []
    },
    {
      "cell_type": "code",
      "metadata": {
        "id": "cTTCOD8mS1G6"
      },
      "source": [
        "class linearRegression(torch.nn.Module):\n",
        "    def __init__(self, input_size, output_size):\n",
        "        super(linearRegression, self).__init__()\n",
        "        self.linear = torch.nn.Linear(input_size, output_size)\n",
        "\n",
        "    def forward(self, x):\n",
        "        out = self.linear(x)\n",
        "        return out"
      ],
      "execution_count": 10,
      "outputs": []
    },
    {
      "cell_type": "code",
      "metadata": {
        "id": "EKaMHx88S6_W"
      },
      "source": [
        "input_dim = 1\n",
        "output_dim = 1\n",
        "learning_rate = 0.01 \n",
        "epochs = 100\n",
        "\n",
        "model = linearRegression(input_dim, output_dim)\n",
        "# For GPU\n",
        "if torch.cuda.is_available():\n",
        "    model.cuda()"
      ],
      "execution_count": 11,
      "outputs": []
    },
    {
      "cell_type": "markdown",
      "metadata": {
        "id": "cWSeTkyAS-6p"
      },
      "source": [
        "## 손실 함수(MSE: Mean Squared Error)\n",
        "$\\begin{split}MSE &= \\frac {1} {n} \\sum_{i=1}^n {(y_i - \\hat y_i)}^2 \n",
        "&= \\frac {1} {n} \\sum_{i=1}^n {(y_i - (wx_i + b))}^2\\end{split}$<br>\n",
        "\n",
        "- $y$: true value  \n",
        "- $\\hat y$: prediction  \n",
        "\n"
      ]
    },
    {
      "cell_type": "code",
      "metadata": {
        "id": "vBXD8hm2S8b7"
      },
      "source": [
        "criterion = torch.nn.MSELoss() \n",
        "optimizer = torch.optim.SGD(model.parameters(), lr=learning_rate)"
      ],
      "execution_count": 12,
      "outputs": []
    },
    {
      "cell_type": "markdown",
      "metadata": {
        "id": "88unWbF4THsO"
      },
      "source": [
        "## 모델 훈련(Train)"
      ]
    },
    {
      "cell_type": "code",
      "metadata": {
        "id": "GJMixrOhS9_G",
        "colab": {
          "base_uri": "https://localhost:8080/"
        },
        "outputId": "ed16d1e2-7956-4b23-ea83-97c04621ba6f"
      },
      "source": [
        "for epoch in range(epochs):\n",
        "    # Converting inputs and labels to Variable\n",
        "    if torch.cuda.is_available():\n",
        "        inputs = Variable(torch.from_numpy(x_train).cuda())\n",
        "        labels = Variable(torch.from_numpy(y_train).cuda())\n",
        "    else:\n",
        "        inputs = Variable(torch.from_numpy(x_train))\n",
        "        labels = Variable(torch.from_numpy(y_train))\n",
        "\n",
        "    # Clear gradient buffers because we don't want any gradient from previous epoch to carry forward, dont want to cummulate gradients\n",
        "    optimizer.zero_grad()\n",
        "\n",
        "    # get output from the model, given the inputs\n",
        "    outputs = model(inputs)\n",
        "\n",
        "    # get loss for the predicted output\n",
        "    loss = criterion(outputs, labels)\n",
        "    print(loss)\n",
        "    # get gradients w.r.t to parameters\n",
        "    loss.backward()\n",
        "\n",
        "    # update parameters\n",
        "    optimizer.step()\n",
        "\n",
        "    print('epoch {}, loss {}'.format(epoch, loss.item()))"
      ],
      "execution_count": 13,
      "outputs": [
        {
          "output_type": "stream",
          "text": [
            "tensor(135.7494, grad_fn=<MseLossBackward>)\n",
            "epoch 0, loss 135.74935913085938\n",
            "tensor(11.4099, grad_fn=<MseLossBackward>)\n",
            "epoch 1, loss 11.40990924835205\n",
            "tensor(1.2642, grad_fn=<MseLossBackward>)\n",
            "epoch 2, loss 1.2641648054122925\n",
            "tensor(0.4329, grad_fn=<MseLossBackward>)\n",
            "epoch 3, loss 0.4328865110874176\n",
            "tensor(0.3614, grad_fn=<MseLossBackward>)\n",
            "epoch 4, loss 0.36139872670173645\n",
            "tensor(0.3519, grad_fn=<MseLossBackward>)\n",
            "epoch 5, loss 0.35192617774009705\n",
            "tensor(0.3476, grad_fn=<MseLossBackward>)\n",
            "epoch 6, loss 0.3475528061389923\n",
            "tensor(0.3436, grad_fn=<MseLossBackward>)\n",
            "epoch 7, loss 0.3436354100704193\n",
            "tensor(0.3398, grad_fn=<MseLossBackward>)\n",
            "epoch 8, loss 0.33979547023773193\n",
            "tensor(0.3360, grad_fn=<MseLossBackward>)\n",
            "epoch 9, loss 0.3360006511211395\n",
            "tensor(0.3322, grad_fn=<MseLossBackward>)\n",
            "epoch 10, loss 0.33224859833717346\n",
            "tensor(0.3285, grad_fn=<MseLossBackward>)\n",
            "epoch 11, loss 0.3285386264324188\n",
            "tensor(0.3249, grad_fn=<MseLossBackward>)\n",
            "epoch 12, loss 0.32486972212791443\n",
            "tensor(0.3212, grad_fn=<MseLossBackward>)\n",
            "epoch 13, loss 0.3212417662143707\n",
            "tensor(0.3177, grad_fn=<MseLossBackward>)\n",
            "epoch 14, loss 0.31765472888946533\n",
            "tensor(0.3141, grad_fn=<MseLossBackward>)\n",
            "epoch 15, loss 0.3141075372695923\n",
            "tensor(0.3106, grad_fn=<MseLossBackward>)\n",
            "epoch 16, loss 0.3105996251106262\n",
            "tensor(0.3071, grad_fn=<MseLossBackward>)\n",
            "epoch 17, loss 0.3071313500404358\n",
            "tensor(0.3037, grad_fn=<MseLossBackward>)\n",
            "epoch 18, loss 0.3037016689777374\n",
            "tensor(0.3003, grad_fn=<MseLossBackward>)\n",
            "epoch 19, loss 0.30031049251556396\n",
            "tensor(0.2970, grad_fn=<MseLossBackward>)\n",
            "epoch 20, loss 0.2969568073749542\n",
            "tensor(0.2936, grad_fn=<MseLossBackward>)\n",
            "epoch 21, loss 0.2936406135559082\n",
            "tensor(0.2904, grad_fn=<MseLossBackward>)\n",
            "epoch 22, loss 0.29036176204681396\n",
            "tensor(0.2871, grad_fn=<MseLossBackward>)\n",
            "epoch 23, loss 0.2871192991733551\n",
            "tensor(0.2839, grad_fn=<MseLossBackward>)\n",
            "epoch 24, loss 0.2839133143424988\n",
            "tensor(0.2807, grad_fn=<MseLossBackward>)\n",
            "epoch 25, loss 0.2807428538799286\n",
            "tensor(0.2776, grad_fn=<MseLossBackward>)\n",
            "epoch 26, loss 0.27760758996009827\n",
            "tensor(0.2745, grad_fn=<MseLossBackward>)\n",
            "epoch 27, loss 0.27450788021087646\n",
            "tensor(0.2714, grad_fn=<MseLossBackward>)\n",
            "epoch 28, loss 0.27144238352775574\n",
            "tensor(0.2684, grad_fn=<MseLossBackward>)\n",
            "epoch 29, loss 0.26841115951538086\n",
            "tensor(0.2654, grad_fn=<MseLossBackward>)\n",
            "epoch 30, loss 0.2654138207435608\n",
            "tensor(0.2624, grad_fn=<MseLossBackward>)\n",
            "epoch 31, loss 0.2624499797821045\n",
            "tensor(0.2595, grad_fn=<MseLossBackward>)\n",
            "epoch 32, loss 0.25951918959617615\n",
            "tensor(0.2566, grad_fn=<MseLossBackward>)\n",
            "epoch 33, loss 0.25662124156951904\n",
            "tensor(0.2538, grad_fn=<MseLossBackward>)\n",
            "epoch 34, loss 0.25375568866729736\n",
            "tensor(0.2509, grad_fn=<MseLossBackward>)\n",
            "epoch 35, loss 0.2509218454360962\n",
            "tensor(0.2481, grad_fn=<MseLossBackward>)\n",
            "epoch 36, loss 0.24812006950378418\n",
            "tensor(0.2453, grad_fn=<MseLossBackward>)\n",
            "epoch 37, loss 0.24534918367862701\n",
            "tensor(0.2426, grad_fn=<MseLossBackward>)\n",
            "epoch 38, loss 0.2426093965768814\n",
            "tensor(0.2399, grad_fn=<MseLossBackward>)\n",
            "epoch 39, loss 0.23990029096603394\n",
            "tensor(0.2372, grad_fn=<MseLossBackward>)\n",
            "epoch 40, loss 0.23722143471240997\n",
            "tensor(0.2346, grad_fn=<MseLossBackward>)\n",
            "epoch 41, loss 0.23457226157188416\n",
            "tensor(0.2320, grad_fn=<MseLossBackward>)\n",
            "epoch 42, loss 0.23195292055606842\n",
            "tensor(0.2294, grad_fn=<MseLossBackward>)\n",
            "epoch 43, loss 0.22936278581619263\n",
            "tensor(0.2268, grad_fn=<MseLossBackward>)\n",
            "epoch 44, loss 0.22680163383483887\n",
            "tensor(0.2243, grad_fn=<MseLossBackward>)\n",
            "epoch 45, loss 0.22426868975162506\n",
            "tensor(0.2218, grad_fn=<MseLossBackward>)\n",
            "epoch 46, loss 0.22176450490951538\n",
            "tensor(0.2193, grad_fn=<MseLossBackward>)\n",
            "epoch 47, loss 0.21928811073303223\n",
            "tensor(0.2168, grad_fn=<MseLossBackward>)\n",
            "epoch 48, loss 0.21683932840824127\n",
            "tensor(0.2144, grad_fn=<MseLossBackward>)\n",
            "epoch 49, loss 0.21441780030727386\n",
            "tensor(0.2120, grad_fn=<MseLossBackward>)\n",
            "epoch 50, loss 0.2120235562324524\n",
            "tensor(0.2097, grad_fn=<MseLossBackward>)\n",
            "epoch 51, loss 0.20965595543384552\n",
            "tensor(0.2073, grad_fn=<MseLossBackward>)\n",
            "epoch 52, loss 0.207314595580101\n",
            "tensor(0.2050, grad_fn=<MseLossBackward>)\n",
            "epoch 53, loss 0.2049994021654129\n",
            "tensor(0.2027, grad_fn=<MseLossBackward>)\n",
            "epoch 54, loss 0.2027103453874588\n",
            "tensor(0.2004, grad_fn=<MseLossBackward>)\n",
            "epoch 55, loss 0.2004467397928238\n",
            "tensor(0.1982, grad_fn=<MseLossBackward>)\n",
            "epoch 56, loss 0.19820839166641235\n",
            "tensor(0.1960, grad_fn=<MseLossBackward>)\n",
            "epoch 57, loss 0.19599518179893494\n",
            "tensor(0.1938, grad_fn=<MseLossBackward>)\n",
            "epoch 58, loss 0.193806454539299\n",
            "tensor(0.1916, grad_fn=<MseLossBackward>)\n",
            "epoch 59, loss 0.19164206087589264\n",
            "tensor(0.1895, grad_fn=<MseLossBackward>)\n",
            "epoch 60, loss 0.18950200080871582\n",
            "tensor(0.1874, grad_fn=<MseLossBackward>)\n",
            "epoch 61, loss 0.18738597631454468\n",
            "tensor(0.1853, grad_fn=<MseLossBackward>)\n",
            "epoch 62, loss 0.1852935403585434\n",
            "tensor(0.1832, grad_fn=<MseLossBackward>)\n",
            "epoch 63, loss 0.1832243949174881\n",
            "tensor(0.1812, grad_fn=<MseLossBackward>)\n",
            "epoch 64, loss 0.18117815256118774\n",
            "tensor(0.1792, grad_fn=<MseLossBackward>)\n",
            "epoch 65, loss 0.1791551560163498\n",
            "tensor(0.1772, grad_fn=<MseLossBackward>)\n",
            "epoch 66, loss 0.17715449631214142\n",
            "tensor(0.1752, grad_fn=<MseLossBackward>)\n",
            "epoch 67, loss 0.17517627775669098\n",
            "tensor(0.1732, grad_fn=<MseLossBackward>)\n",
            "epoch 68, loss 0.17322012782096863\n",
            "tensor(0.1713, grad_fn=<MseLossBackward>)\n",
            "epoch 69, loss 0.17128562927246094\n",
            "tensor(0.1694, grad_fn=<MseLossBackward>)\n",
            "epoch 70, loss 0.1693730503320694\n",
            "tensor(0.1675, grad_fn=<MseLossBackward>)\n",
            "epoch 71, loss 0.16748175024986267\n",
            "tensor(0.1656, grad_fn=<MseLossBackward>)\n",
            "epoch 72, loss 0.16561126708984375\n",
            "tensor(0.1638, grad_fn=<MseLossBackward>)\n",
            "epoch 73, loss 0.1637619584798813\n",
            "tensor(0.1619, grad_fn=<MseLossBackward>)\n",
            "epoch 74, loss 0.16193340718746185\n",
            "tensor(0.1601, grad_fn=<MseLossBackward>)\n",
            "epoch 75, loss 0.16012495756149292\n",
            "tensor(0.1583, grad_fn=<MseLossBackward>)\n",
            "epoch 76, loss 0.15833710134029388\n",
            "tensor(0.1566, grad_fn=<MseLossBackward>)\n",
            "epoch 77, loss 0.15656886994838715\n",
            "tensor(0.1548, grad_fn=<MseLossBackward>)\n",
            "epoch 78, loss 0.1548205018043518\n",
            "tensor(0.1531, grad_fn=<MseLossBackward>)\n",
            "epoch 79, loss 0.15309177339076996\n",
            "tensor(0.1514, grad_fn=<MseLossBackward>)\n",
            "epoch 80, loss 0.15138211846351624\n",
            "tensor(0.1497, grad_fn=<MseLossBackward>)\n",
            "epoch 81, loss 0.14969180524349213\n",
            "tensor(0.1480, grad_fn=<MseLossBackward>)\n",
            "epoch 82, loss 0.1480199694633484\n",
            "tensor(0.1464, grad_fn=<MseLossBackward>)\n",
            "epoch 83, loss 0.14636708796024323\n",
            "tensor(0.1447, grad_fn=<MseLossBackward>)\n",
            "epoch 84, loss 0.14473263919353485\n",
            "tensor(0.1431, grad_fn=<MseLossBackward>)\n",
            "epoch 85, loss 0.14311638474464417\n",
            "tensor(0.1415, grad_fn=<MseLossBackward>)\n",
            "epoch 86, loss 0.14151835441589355\n",
            "tensor(0.1399, grad_fn=<MseLossBackward>)\n",
            "epoch 87, loss 0.1399378925561905\n",
            "tensor(0.1384, grad_fn=<MseLossBackward>)\n",
            "epoch 88, loss 0.13837549090385437\n",
            "tensor(0.1368, grad_fn=<MseLossBackward>)\n",
            "epoch 89, loss 0.13683004677295685\n",
            "tensor(0.1353, grad_fn=<MseLossBackward>)\n",
            "epoch 90, loss 0.13530218601226807\n",
            "tensor(0.1338, grad_fn=<MseLossBackward>)\n",
            "epoch 91, loss 0.13379131257534027\n",
            "tensor(0.1323, grad_fn=<MseLossBackward>)\n",
            "epoch 92, loss 0.13229720294475555\n",
            "tensor(0.1308, grad_fn=<MseLossBackward>)\n",
            "epoch 93, loss 0.1308198869228363\n",
            "tensor(0.1294, grad_fn=<MseLossBackward>)\n",
            "epoch 94, loss 0.12935899198055267\n",
            "tensor(0.1279, grad_fn=<MseLossBackward>)\n",
            "epoch 95, loss 0.12791457772254944\n",
            "tensor(0.1265, grad_fn=<MseLossBackward>)\n",
            "epoch 96, loss 0.1264861673116684\n",
            "tensor(0.1251, grad_fn=<MseLossBackward>)\n",
            "epoch 97, loss 0.12507367134094238\n",
            "tensor(0.1237, grad_fn=<MseLossBackward>)\n",
            "epoch 98, loss 0.12367696315050125\n",
            "tensor(0.1223, grad_fn=<MseLossBackward>)\n",
            "epoch 99, loss 0.12229583412408829\n"
          ],
          "name": "stdout"
        }
      ]
    },
    {
      "cell_type": "markdown",
      "metadata": {
        "id": "bgZZUsG9yX12"
      },
      "source": [
        "## 모델 테스트"
      ]
    },
    {
      "cell_type": "code",
      "metadata": {
        "colab": {
          "base_uri": "https://localhost:8080/",
          "height": 460
        },
        "id": "m3Grb0-9x5_v",
        "outputId": "5c7bb5a1-9c84-4f8d-8b28-ac31f64fa640"
      },
      "source": [
        "with torch.no_grad(): # we don't need gradients in the testing phase\n",
        "    if torch.cuda.is_available():\n",
        "        predicted = model(Variable(torch.from_numpy(x_train).cuda())).cpu().data.numpy()\n",
        "    else:\n",
        "        predicted = model(Variable(torch.from_numpy(x_train))).data.numpy()\n",
        "    print(predicted)\n",
        "\n",
        "import matplotlib.pyplot as plt\n",
        "\n",
        "plt.clf()\n",
        "plt.plot(x_train, y_train, 'go', label='True data', alpha=0.5)\n",
        "plt.plot(x_train, predicted, '--', label='Predictions', alpha=0.5)\n",
        "plt.legend(loc='best')\n",
        "plt.show()"
      ],
      "execution_count": 14,
      "outputs": [
        {
          "output_type": "stream",
          "text": [
            "[[ 0.3494717]\n",
            " [ 2.4431539]\n",
            " [ 4.5368357]\n",
            " [ 6.6305175]\n",
            " [ 8.7242   ]\n",
            " [10.817883 ]\n",
            " [12.911564 ]\n",
            " [15.005246 ]\n",
            " [17.098928 ]\n",
            " [19.19261  ]\n",
            " [21.286293 ]]\n"
          ],
          "name": "stdout"
        },
        {
          "output_type": "display_data",
          "data": {
            "image/png": "[encoded data removed]",
            "text/plain": [
              "<Figure size 432x288 with 1 Axes>"
            ]
          },
          "metadata": {
            "tags": [],
            "needs_background": "light"
          }
        }
      ]
    }
  ]
}