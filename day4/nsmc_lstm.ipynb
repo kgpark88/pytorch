{
  "nbformat": 4,
  "nbformat_minor": 0,
  "metadata": {
    "accelerator": "GPU",
    "colab": {
      "name": "nsmc_lstm.ipynb",
      "provenance": [],
      "collapsed_sections": []
    },
    "kernelspec": {
      "display_name": "Python 3",
      "language": "python",
      "name": "python3"
    },
    "language_info": {
      "codemirror_mode": {
        "name": "ipython",
        "version": 3
      },
      "file_extension": ".py",
      "mimetype": "text/x-python",
      "name": "python",
      "nbconvert_exporter": "python",
      "pygments_lexer": "ipython3",
      "version": "3.6.12"
    },
    "pycharm": {
      "stem_cell": {
        "cell_type": "raw",
        "metadata": {
          "collapsed": false
        },
        "source": []
      }
    }
  },
  "cells": [
    {
      "cell_type": "markdown",
      "metadata": {
        "id": "IzZmw9F9nVab"
      },
      "source": [
        "# 네이버 영화 리뷰 감성분류 모델 구현(LSTM)\n",
        "- 데이터 : Naver sentiment movie corpus v1.0,  https://github.com/e9t/nsmc/"
      ]
    },
    {
      "cell_type": "markdown",
      "metadata": {
        "id": "bVYjsyljxL9R"
      },
      "source": [
        "### 구글 코랩 한글 깨짐 현상 해결\n",
        "- 한글폰트 설치\n",
        "- 런타임 다시 시작"
      ]
    },
    {
      "cell_type": "code",
      "metadata": {
        "id": "eaPVIP3PxJgi"
      },
      "source": [
        "! sudo apt-get install -y fonts-nanum\n",
        "! sudo fc-cache -fv\n",
        "! rm ~/.cache/matplotlib -rf"
      ],
      "execution_count": null,
      "outputs": []
    },
    {
      "cell_type": "markdown",
      "metadata": {
        "id": "AQVORZhu8r1G"
      },
      "source": [
        "## 라이브러리 임포트"
      ]
    },
    {
      "cell_type": "code",
      "metadata": {
        "id": "F4sELMwq8mF0"
      },
      "source": [
        "import os\n",
        "import re\n",
        "import random\n",
        "import urllib.request\n",
        "import numpy as np \n",
        "import pandas as pd\n",
        "import seaborn as sns\n",
        "import matplotlib.pyplot as plt\n",
        "from wordcloud import WordCloud\n",
        "\n",
        "import torch\n",
        "import torch.nn as nn\n",
        "import torch.optim as optim\n",
        "from torchtext import data, datasets\n",
        "from torchtext.legacy.data import BucketIterator\n",
        "from torchtext.legacy import data\n",
        "from torchtext.legacy.data import TabularDataset\n",
        "\n",
        "%matplotlib inline\n",
        "plt.rc('font', family='NanumBarunGothic') "
      ],
      "execution_count": 2,
      "outputs": []
    },
    {
      "cell_type": "markdown",
      "metadata": {
        "id": "2sehjcDc9CXt"
      },
      "source": [
        "## 구글 드라이브 마운트"
      ]
    },
    {
      "cell_type": "code",
      "metadata": {
        "id": "Ch6KYdkW9B0q",
        "colab": {
          "base_uri": "https://localhost:8080/",
          "height": 0
        },
        "outputId": "a53b14d3-96ef-4172-afcd-e1e03f5a0c1a"
      },
      "source": [
        "from google.colab import drive\n",
        "drive.mount('/content/drive')"
      ],
      "execution_count": 3,
      "outputs": [
        {
          "output_type": "stream",
          "text": [
            "Drive already mounted at /content/drive; to attempt to forcibly remount, call drive.mount(\"/content/drive\", force_remount=True).\n"
          ],
          "name": "stdout"
        }
      ]
    },
    {
      "cell_type": "markdown",
      "metadata": {
        "id": "gXgpCi1ut8_J"
      },
      "source": [
        "## 데이터 저장 디렉토리 생성"
      ]
    },
    {
      "cell_type": "code",
      "metadata": {
        "id": "HALNWH5Qt7Aa"
      },
      "source": [
        "DATA_PATH = '/content/drive/MyDrive/pytorch/nsmc/'\n",
        "\n",
        "if not os.path.exists(DATA_PATH):\n",
        "    os.makedirs(DATA_PATH)"
      ],
      "execution_count": 4,
      "outputs": []
    },
    {
      "cell_type": "markdown",
      "metadata": {
        "id": "Sg8UgeMyt-2b"
      },
      "source": [
        "## 데이터 가져오기"
      ]
    },
    {
      "cell_type": "code",
      "metadata": {
        "id": "NDgz5QeRuBdK"
      },
      "source": [
        "file = ['ratings.txt', 'ratings_train.txt', 'ratings_test.txt']\n",
        "for f in file:\n",
        "    URL = \"https://github.com/e9t/nsmc/raw/master/\" + f\n",
        "    FILE_NAME = DATA_PATH + f\n",
        "    urllib.request.urlretrieve(URL, filename=FILE_NAME)"
      ],
      "execution_count": 5,
      "outputs": []
    },
    {
      "cell_type": "code",
      "metadata": {
        "colab": {
          "base_uri": "https://localhost:8080/",
          "height": 0
        },
        "id": "NJu50HBTuFp4",
        "outputId": "1a840b49-03a0-4c28-bba8-3ff1f381bf5c"
      },
      "source": [
        "for file in os.listdir(DATA_PATH):\n",
        "    if 'txt' in file :\n",
        "        print(f'{file : <20} {os.path.getsize(DATA_PATH + file) / 1000000: ,.2f} MB')"
      ],
      "execution_count": 6,
      "outputs": [
        {
          "output_type": "stream",
          "text": [
            "ratings_test_small.txt  0.19 MB\n",
            "ratings_test.txt      4.89 MB\n",
            "ratings_train_small.txt  1.96 MB\n",
            "ratings_train.txt     14.63 MB\n",
            "ratings.txt           19.52 MB\n"
          ],
          "name": "stdout"
        }
      ]
    },
    {
      "cell_type": "markdown",
      "metadata": {
        "id": "Upl_GaS6vguK"
      },
      "source": [
        "## 데이터 로드"
      ]
    },
    {
      "cell_type": "code",
      "metadata": {
        "colab": {
          "base_uri": "https://localhost:8080/",
          "height": 202
        },
        "id": "z8TOPLrcvj-o",
        "outputId": "dbe04062-ef0e-4263-d042-606c0706c4ac"
      },
      "source": [
        "train_data = pd.read_csv(DATA_PATH + 'ratings_train.txt', header = 0, delimiter = '\\t', quoting = 3)\n",
        "train_data.head()"
      ],
      "execution_count": 7,
      "outputs": [
        {
          "output_type": "execute_result",
          "data": {
            "text/html": [
              "<div>\n",
              "<style scoped>\n",
              "    .dataframe tbody tr th:only-of-type {\n",
              "        vertical-align: middle;\n",
              "    }\n",
              "\n",
              "    .dataframe tbody tr th {\n",
              "        vertical-align: top;\n",
              "    }\n",
              "\n",
              "    .dataframe thead th {\n",
              "        text-align: right;\n",
              "    }\n",
              "</style>\n",
              "<table border=\"1\" class=\"dataframe\">\n",
              "  <thead>\n",
              "    <tr style=\"text-align: right;\">\n",
              "      <th></th>\n",
              "      <th>id</th>\n",
              "      <th>document</th>\n",
              "      <th>label</th>\n",
              "    </tr>\n",
              "  </thead>\n",
              "  <tbody>\n",
              "    <tr>\n",
              "      <th>0</th>\n",
              "      <td>9976970</td>\n",
              "      <td>아 더빙.. 진짜 짜증나네요 목소리</td>\n",
              "      <td>0</td>\n",
              "    </tr>\n",
              "    <tr>\n",
              "      <th>1</th>\n",
              "      <td>3819312</td>\n",
              "      <td>흠...포스터보고 초딩영화줄....오버연기조차 가볍지 않구나</td>\n",
              "      <td>1</td>\n",
              "    </tr>\n",
              "    <tr>\n",
              "      <th>2</th>\n",
              "      <td>10265843</td>\n",
              "      <td>너무재밓었다그래서보는것을추천한다</td>\n",
              "      <td>0</td>\n",
              "    </tr>\n",
              "    <tr>\n",
              "      <th>3</th>\n",
              "      <td>9045019</td>\n",
              "      <td>교도소 이야기구먼 ..솔직히 재미는 없다..평점 조정</td>\n",
              "      <td>0</td>\n",
              "    </tr>\n",
              "    <tr>\n",
              "      <th>4</th>\n",
              "      <td>6483659</td>\n",
              "      <td>사이몬페그의 익살스런 연기가 돋보였던 영화!스파이더맨에서 늙어보이기만 했던 커스틴 ...</td>\n",
              "      <td>1</td>\n",
              "    </tr>\n",
              "  </tbody>\n",
              "</table>\n",
              "</div>"
            ],
            "text/plain": [
              "         id                                           document  label\n",
              "0   9976970                                아 더빙.. 진짜 짜증나네요 목소리      0\n",
              "1   3819312                  흠...포스터보고 초딩영화줄....오버연기조차 가볍지 않구나      1\n",
              "2  10265843                                  너무재밓었다그래서보는것을추천한다      0\n",
              "3   9045019                      교도소 이야기구먼 ..솔직히 재미는 없다..평점 조정      0\n",
              "4   6483659  사이몬페그의 익살스런 연기가 돋보였던 영화!스파이더맨에서 늙어보이기만 했던 커스틴 ...      1"
            ]
          },
          "metadata": {
            "tags": []
          },
          "execution_count": 7
        }
      ]
    },
    {
      "cell_type": "markdown",
      "metadata": {
        "id": "RgArqmBsvrBh"
      },
      "source": [
        "## 데이터 분석\n",
        "- 데이터의 개수\n",
        "- 리뷰의 문자 길이 분포\n",
        "- 많이 사용된 단어\n",
        "- 긍정, 부정 데이터(label)의 분포\n",
        "- 리뷰의 단어 개수 분포"
      ]
    },
    {
      "cell_type": "markdown",
      "metadata": {
        "id": "Z2_yZE1kv4OZ"
      },
      "source": [
        "### 데이터 개수"
      ]
    },
    {
      "cell_type": "code",
      "metadata": {
        "colab": {
          "base_uri": "https://localhost:8080/",
          "height": 0
        },
        "id": "pRb0b90NvmXN",
        "outputId": "89b5cb0f-e269-4636-ecee-b770e10cdcf5"
      },
      "source": [
        "print(f'Train 데이터 개수: {len(train_data):,}')"
      ],
      "execution_count": 8,
      "outputs": [
        {
          "output_type": "stream",
          "text": [
            "Train 데이터 개수: 150,000\n"
          ],
          "name": "stdout"
        }
      ]
    },
    {
      "cell_type": "code",
      "metadata": {
        "id": "98aozyoNvmaA"
      },
      "source": [
        "train_length = train_data['document'].astype(str).apply(len)"
      ],
      "execution_count": 9,
      "outputs": []
    },
    {
      "cell_type": "markdown",
      "metadata": {
        "id": "HFqse6rhv_xq"
      },
      "source": [
        "### 리뷰의 문자 길이 분포"
      ]
    },
    {
      "cell_type": "code",
      "metadata": {
        "colab": {
          "base_uri": "https://localhost:8080/",
          "height": 368
        },
        "id": "gO_70A61vmcz",
        "outputId": "1f4adf8c-1c6c-41e3-86f0-b3b25871b58f"
      },
      "source": [
        "plt.figure(figsize=(12, 5))\n",
        "plt.hist(train_length, bins=200, alpha=0.7, color= 'b', label='word')\n",
        "plt.yscale('log', nonposy='clip')\n",
        "plt.title('리뷰 길이 히스토그램(로그 스케일)')\n",
        "plt.xlabel('리뷰 길이')\n",
        "plt.ylabel('리뷰 갯수')"
      ],
      "execution_count": 10,
      "outputs": [
        {
          "output_type": "execute_result",
          "data": {
            "text/plain": [
              "Text(0, 0.5, '리뷰 갯수')"
            ]
          },
          "metadata": {
            "tags": []
          },
          "execution_count": 10
        },
        {
          "output_type": "display_data",
          "data": {
            "image/png": "[encoded data removed]",
            "text/plain": [
              "<Figure size 864x360 with 1 Axes>"
            ]
          },
          "metadata": {
            "tags": [],
            "needs_background": "light"
          }
        }
      ]
    },
    {
      "cell_type": "code",
      "metadata": {
        "colab": {
          "base_uri": "https://localhost:8080/",
          "height": 0
        },
        "id": "vR-eLta3vmfS",
        "outputId": "c07b7822-d332-447d-e301-d7b167388e48"
      },
      "source": [
        "print(f'리뷰 길이 최대 값: {np.max(train_length)}')\n",
        "print(f'리뷰 길이 최소 값: {np.min(train_length)}')\n",
        "print(f'리뷰 길이 평균 값: {np.mean(train_length):.2f}')\n",
        "print(f'리뷰 길이 표준편차: {np.std(train_length):.2f}')\n",
        "print(f'리뷰 길이 중간값: {np.median(train_length)}')\n",
        "print(f'리뷰 길이 제 1 사분위: {np.percentile(train_length, 25)}')\n",
        "print(f'리뷰 길이 제 3 사분위: {np.percentile(train_length, 75)}')"
      ],
      "execution_count": 11,
      "outputs": [
        {
          "output_type": "stream",
          "text": [
            "리뷰 길이 최대 값: 158\n",
            "리뷰 길이 최소 값: 1\n",
            "리뷰 길이 평균 값: 35.24\n",
            "리뷰 길이 표준편차: 29.58\n",
            "리뷰 길이 중간값: 27.0\n",
            "리뷰 길이 제 1 사분위: 16.0\n",
            "리뷰 길이 제 3 사분위: 42.0\n"
          ],
          "name": "stdout"
        }
      ]
    },
    {
      "cell_type": "code",
      "metadata": {
        "colab": {
          "base_uri": "https://localhost:8080/",
          "height": 284
        },
        "id": "tPp-QLWIvmiF",
        "outputId": "fefc787c-a68f-49f5-ca2b-430aa3db4190"
      },
      "source": [
        "sns.boxplot(orient = \"v\", data=train_length)"
      ],
      "execution_count": 12,
      "outputs": [
        {
          "output_type": "execute_result",
          "data": {
            "text/plain": [
              "<matplotlib.axes._subplots.AxesSubplot at 0x7f9541262fd0>"
            ]
          },
          "metadata": {
            "tags": []
          },
          "execution_count": 12
        },
        {
          "output_type": "display_data",
          "data": {
            "image/png": "[encoded data removed]",
            "text/plain": [
              "<Figure size 432x288 with 1 Axes>"
            ]
          },
          "metadata": {
            "tags": [],
            "needs_background": "light"
          }
        }
      ]
    },
    {
      "cell_type": "markdown",
      "metadata": {
        "id": "t92ss70Lwheq"
      },
      "source": [
        "### 많이 사용된 단어 분석 - Word Cloud"
      ]
    },
    {
      "cell_type": "code",
      "metadata": {
        "colab": {
          "base_uri": "https://localhost:8080/",
          "height": 322
        },
        "id": "fUgBYIIwwjJh",
        "outputId": "91b85b2a-b12a-4c93-a0bb-6007353d7055"
      },
      "source": [
        "train_review = [review for review in train_data['document'] if type(review) is str]\n",
        "stopwords = ('그리고', 'ㅋ')\n",
        "wordcloud = WordCloud(stopwords=stopwords, font_path='NanumGothic.ttf')\n",
        "wordcloud = wordcloud.generate(' '.join(train_review))\n",
        "\n",
        "plt.figure(figsize=(10, 5))\n",
        "plt.imshow(wordcloud)\n",
        "plt.axis('off')"
      ],
      "execution_count": 13,
      "outputs": [
        {
          "output_type": "execute_result",
          "data": {
            "text/plain": [
              "(-0.5, 399.5, 199.5, -0.5)"
            ]
          },
          "metadata": {
            "tags": []
          },
          "execution_count": 13
        },
        {
          "output_type": "display_data",
          "data": {
            "image/png": "[encoded data removed]",
            "text/plain": [
              "<Figure size 720x360 with 1 Axes>"
            ]
          },
          "metadata": {
            "tags": [],
            "needs_background": "light"
          }
        }
      ]
    },
    {
      "cell_type": "markdown",
      "metadata": {
        "id": "dqdDBGZbxqja"
      },
      "source": [
        "### 긍정, 부정 데이터의 분포"
      ]
    },
    {
      "cell_type": "code",
      "metadata": {
        "colab": {
          "base_uri": "https://localhost:8080/",
          "height": 298
        },
        "id": "FouAusB6vmnX",
        "outputId": "15b519e5-0898-4d06-f404-62441b11ce30"
      },
      "source": [
        "sns.countplot(x='label', data=train_data)"
      ],
      "execution_count": 14,
      "outputs": [
        {
          "output_type": "execute_result",
          "data": {
            "text/plain": [
              "<matplotlib.axes._subplots.AxesSubplot at 0x7f954327d050>"
            ]
          },
          "metadata": {
            "tags": []
          },
          "execution_count": 14
        },
        {
          "output_type": "display_data",
          "data": {
            "image/png": "[encoded data removed]",
            "text/plain": [
              "<Figure size 432x288 with 1 Axes>"
            ]
          },
          "metadata": {
            "tags": [],
            "needs_background": "light"
          }
        }
      ]
    },
    {
      "cell_type": "markdown",
      "metadata": {
        "id": "qgXxAyRJxutB"
      },
      "source": [
        "### 리뷰의 단어 개수 분포"
      ]
    },
    {
      "cell_type": "code",
      "metadata": {
        "colab": {
          "base_uri": "https://localhost:8080/",
          "height": 377
        },
        "id": "-iapX-54xw9i",
        "outputId": "58585ebe-298e-4559-dc3d-c74fb8cd3ca6"
      },
      "source": [
        "train_word_counts = train_data['document'].astype(str).apply(lambda x:len(x.split(' ')))\n",
        "\n",
        "plt.figure(figsize=(10, 5))\n",
        "plt.hist(train_word_counts, bins=50, alpha=0.7, color= 'b', label='train')\n",
        "plt.title('단어 개수 히스토그램', fontsize=15)\n",
        "# plt.yscale('log', nonposy='clip')\n",
        "plt.legend()\n",
        "plt.xlabel('단어 개수', fontsize=15)\n",
        "plt.ylabel('개수', fontsize=15)"
      ],
      "execution_count": 15,
      "outputs": [
        {
          "output_type": "execute_result",
          "data": {
            "text/plain": [
              "Text(0, 0.5, '개수')"
            ]
          },
          "metadata": {
            "tags": []
          },
          "execution_count": 15
        },
        {
          "output_type": "display_data",
          "data": {
            "image/png": "[encoded data removed]",
            "text/plain": [
              "<Figure size 720x360 with 1 Axes>"
            ]
          },
          "metadata": {
            "tags": [],
            "needs_background": "light"
          }
        }
      ]
    },
    {
      "cell_type": "code",
      "metadata": {
        "colab": {
          "base_uri": "https://localhost:8080/",
          "height": 0
        },
        "id": "P8GDNEq8vmqK",
        "outputId": "8f258b8f-6011-420a-8639-1578166cf864"
      },
      "source": [
        "print(f'리뷰 단어 개수 최대 값: {np.max(train_word_counts)}')\n",
        "print(f'리뷰 단어 개수 최소 값: {np.min(train_word_counts)}')\n",
        "print(f'리뷰 단어 개수 평균 값: {np.mean(train_word_counts):.2f}')\n",
        "print(f'리뷰 단어 개수 표준편차: {np.std(train_word_counts):.2f}')\n",
        "print(f'리뷰 단어 개수 중간 값: {np.median(train_word_counts)}')\n",
        "print(f'리뷰 단어 개수 제 1 사분위: {np.percentile(train_word_counts, 25)}')\n",
        "print(f'리뷰 단어 개수 제 3 사분위: {np.percentile(train_word_counts, 75)}')"
      ],
      "execution_count": 16,
      "outputs": [
        {
          "output_type": "stream",
          "text": [
            "리뷰 단어 개수 최대 값: 41\n",
            "리뷰 단어 개수 최소 값: 1\n",
            "리뷰 단어 개수 평균 값: 7.58\n",
            "리뷰 단어 개수 표준편차: 6.51\n",
            "리뷰 단어 개수 중간 값: 6.0\n",
            "리뷰 단어 개수 제 1 사분위: 3.0\n",
            "리뷰 단어 개수 제 3 사분위: 9.0\n"
          ],
          "name": "stdout"
        }
      ]
    },
    {
      "cell_type": "markdown",
      "metadata": {
        "id": "QumZvJAfz3BY"
      },
      "source": [
        "##  Small 데이터셋 생성(실습 시간 단축 목적)"
      ]
    },
    {
      "cell_type": "code",
      "metadata": {
        "id": "OODH4PVPumeC"
      },
      "source": [
        "train_df = pd.read_csv(os.path.join(DATA_PATH, \"ratings_train.txt\"), sep='\\t', encoding='utf-8')\n",
        "test_df = pd.read_csv(os.path.join(DATA_PATH, \"ratings_test.txt\"), sep='\\t', encoding='utf-8')\n",
        "\n",
        "train_df[:20000].to_csv(os.path.join(DATA_PATH, \"ratings_train_small.txt\"), sep='\\t', index=False)\n",
        "test_df[:2000].to_csv(os.path.join(DATA_PATH, \"ratings_test_small.txt\"), sep='\\t', index=False)"
      ],
      "execution_count": 17,
      "outputs": []
    },
    {
      "cell_type": "code",
      "metadata": {
        "colab": {
          "base_uri": "https://localhost:8080/",
          "height": 0
        },
        "id": "aDxdqi81x-zC",
        "outputId": "2f34f658-590e-4a3e-bdd2-8e5164a09f5c"
      },
      "source": [
        "print(train_df.shape)\n",
        "print(test_df.shape)"
      ],
      "execution_count": 18,
      "outputs": [
        {
          "output_type": "stream",
          "text": [
            "(150000, 3)\n",
            "(50000, 3)\n"
          ],
          "name": "stdout"
        }
      ]
    },
    {
      "cell_type": "markdown",
      "metadata": {
        "id": "k_CXAk8YyosZ"
      },
      "source": [
        "## 한국어 전처리 및 토크나이징"
      ]
    },
    {
      "cell_type": "code",
      "metadata": {
        "id": "2sb7zTFlx-LZ"
      },
      "source": [
        "! pip install konlpy"
      ],
      "execution_count": null,
      "outputs": []
    },
    {
      "cell_type": "code",
      "metadata": {
        "colab": {
          "base_uri": "https://localhost:8080/",
          "height": 0
        },
        "id": "D9XUCdoEx-rb",
        "outputId": "a4a119fd-dab8-493e-934c-5fc590062bd2"
      },
      "source": [
        "from konlpy.tag import Okt, Komoran, Hannanum, Kkma\n",
        "\n",
        "tokenizer = Okt()\n",
        "tokenizer.morphs('안녕하세요. 오늘 날씨가 참 좋습니다!')"
      ],
      "execution_count": 20,
      "outputs": [
        {
          "output_type": "execute_result",
          "data": {
            "text/plain": [
              "['안녕하세요', '.', '오늘', '날씨', '가', '참', '좋습니다', '!']"
            ]
          },
          "metadata": {
            "tags": []
          },
          "execution_count": 20
        }
      ]
    },
    {
      "cell_type": "code",
      "metadata": {
        "id": "k3Z8mfcex-tw"
      },
      "source": [
        "def preprocess_sent(sentence):\n",
        "    # sentence = re.sub(\"[^가-힣0-9a-zA-Z\\\\s]\", \" \", x)\n",
        "    sentence = tokenizer.morphs(sentence)\n",
        "    return sentence"
      ],
      "execution_count": 21,
      "outputs": []
    },
    {
      "cell_type": "code",
      "metadata": {
        "colab": {
          "base_uri": "https://localhost:8080/",
          "height": 355
        },
        "id": "hIcarzmyx-w1",
        "outputId": "a279489b-e04c-480b-9ab1-b6c9e0462ac6"
      },
      "source": [
        "train_df[:10]"
      ],
      "execution_count": 22,
      "outputs": [
        {
          "output_type": "execute_result",
          "data": {
            "text/html": [
              "<div>\n",
              "<style scoped>\n",
              "    .dataframe tbody tr th:only-of-type {\n",
              "        vertical-align: middle;\n",
              "    }\n",
              "\n",
              "    .dataframe tbody tr th {\n",
              "        vertical-align: top;\n",
              "    }\n",
              "\n",
              "    .dataframe thead th {\n",
              "        text-align: right;\n",
              "    }\n",
              "</style>\n",
              "<table border=\"1\" class=\"dataframe\">\n",
              "  <thead>\n",
              "    <tr style=\"text-align: right;\">\n",
              "      <th></th>\n",
              "      <th>id</th>\n",
              "      <th>document</th>\n",
              "      <th>label</th>\n",
              "    </tr>\n",
              "  </thead>\n",
              "  <tbody>\n",
              "    <tr>\n",
              "      <th>0</th>\n",
              "      <td>9976970</td>\n",
              "      <td>아 더빙.. 진짜 짜증나네요 목소리</td>\n",
              "      <td>0</td>\n",
              "    </tr>\n",
              "    <tr>\n",
              "      <th>1</th>\n",
              "      <td>3819312</td>\n",
              "      <td>흠...포스터보고 초딩영화줄....오버연기조차 가볍지 않구나</td>\n",
              "      <td>1</td>\n",
              "    </tr>\n",
              "    <tr>\n",
              "      <th>2</th>\n",
              "      <td>10265843</td>\n",
              "      <td>너무재밓었다그래서보는것을추천한다</td>\n",
              "      <td>0</td>\n",
              "    </tr>\n",
              "    <tr>\n",
              "      <th>3</th>\n",
              "      <td>9045019</td>\n",
              "      <td>교도소 이야기구먼 ..솔직히 재미는 없다..평점 조정</td>\n",
              "      <td>0</td>\n",
              "    </tr>\n",
              "    <tr>\n",
              "      <th>4</th>\n",
              "      <td>6483659</td>\n",
              "      <td>사이몬페그의 익살스런 연기가 돋보였던 영화!스파이더맨에서 늙어보이기만 했던 커스틴 ...</td>\n",
              "      <td>1</td>\n",
              "    </tr>\n",
              "    <tr>\n",
              "      <th>5</th>\n",
              "      <td>5403919</td>\n",
              "      <td>막 걸음마 뗀 3세부터 초등학교 1학년생인 8살용영화.ㅋㅋㅋ...별반개도 아까움.</td>\n",
              "      <td>0</td>\n",
              "    </tr>\n",
              "    <tr>\n",
              "      <th>6</th>\n",
              "      <td>7797314</td>\n",
              "      <td>원작의 긴장감을 제대로 살려내지못했다.</td>\n",
              "      <td>0</td>\n",
              "    </tr>\n",
              "    <tr>\n",
              "      <th>7</th>\n",
              "      <td>9443947</td>\n",
              "      <td>별 반개도 아깝다 욕나온다 이응경 길용우 연기생활이몇년인지..정말 발로해도 그것보단...</td>\n",
              "      <td>0</td>\n",
              "    </tr>\n",
              "    <tr>\n",
              "      <th>8</th>\n",
              "      <td>7156791</td>\n",
              "      <td>액션이 없는데도 재미 있는 몇안되는 영화</td>\n",
              "      <td>1</td>\n",
              "    </tr>\n",
              "    <tr>\n",
              "      <th>9</th>\n",
              "      <td>5912145</td>\n",
              "      <td>왜케 평점이 낮은건데? 꽤 볼만한데.. 헐리우드식 화려함에만 너무 길들여져 있나?</td>\n",
              "      <td>1</td>\n",
              "    </tr>\n",
              "  </tbody>\n",
              "</table>\n",
              "</div>"
            ],
            "text/plain": [
              "         id                                           document  label\n",
              "0   9976970                                아 더빙.. 진짜 짜증나네요 목소리      0\n",
              "1   3819312                  흠...포스터보고 초딩영화줄....오버연기조차 가볍지 않구나      1\n",
              "2  10265843                                  너무재밓었다그래서보는것을추천한다      0\n",
              "3   9045019                      교도소 이야기구먼 ..솔직히 재미는 없다..평점 조정      0\n",
              "4   6483659  사이몬페그의 익살스런 연기가 돋보였던 영화!스파이더맨에서 늙어보이기만 했던 커스틴 ...      1\n",
              "5   5403919      막 걸음마 뗀 3세부터 초등학교 1학년생인 8살용영화.ㅋㅋㅋ...별반개도 아까움.      0\n",
              "6   7797314                              원작의 긴장감을 제대로 살려내지못했다.      0\n",
              "7   9443947  별 반개도 아깝다 욕나온다 이응경 길용우 연기생활이몇년인지..정말 발로해도 그것보단...      0\n",
              "8   7156791                             액션이 없는데도 재미 있는 몇안되는 영화      1\n",
              "9   5912145      왜케 평점이 낮은건데? 꽤 볼만한데.. 헐리우드식 화려함에만 너무 길들여져 있나?      1"
            ]
          },
          "metadata": {
            "tags": []
          },
          "execution_count": 22
        }
      ]
    },
    {
      "cell_type": "code",
      "metadata": {
        "colab": {
          "base_uri": "https://localhost:8080/",
          "height": 355
        },
        "id": "w_JwcNucx-1g",
        "outputId": "0aad5260-4994-443f-932e-014ada6fc392"
      },
      "source": [
        "test_df[:10]"
      ],
      "execution_count": 23,
      "outputs": [
        {
          "output_type": "execute_result",
          "data": {
            "text/html": [
              "<div>\n",
              "<style scoped>\n",
              "    .dataframe tbody tr th:only-of-type {\n",
              "        vertical-align: middle;\n",
              "    }\n",
              "\n",
              "    .dataframe tbody tr th {\n",
              "        vertical-align: top;\n",
              "    }\n",
              "\n",
              "    .dataframe thead th {\n",
              "        text-align: right;\n",
              "    }\n",
              "</style>\n",
              "<table border=\"1\" class=\"dataframe\">\n",
              "  <thead>\n",
              "    <tr style=\"text-align: right;\">\n",
              "      <th></th>\n",
              "      <th>id</th>\n",
              "      <th>document</th>\n",
              "      <th>label</th>\n",
              "    </tr>\n",
              "  </thead>\n",
              "  <tbody>\n",
              "    <tr>\n",
              "      <th>0</th>\n",
              "      <td>6270596</td>\n",
              "      <td>굳 ㅋ</td>\n",
              "      <td>1</td>\n",
              "    </tr>\n",
              "    <tr>\n",
              "      <th>1</th>\n",
              "      <td>9274899</td>\n",
              "      <td>GDNTOPCLASSINTHECLUB</td>\n",
              "      <td>0</td>\n",
              "    </tr>\n",
              "    <tr>\n",
              "      <th>2</th>\n",
              "      <td>8544678</td>\n",
              "      <td>뭐야 이 평점들은.... 나쁘진 않지만 10점 짜리는 더더욱 아니잖아</td>\n",
              "      <td>0</td>\n",
              "    </tr>\n",
              "    <tr>\n",
              "      <th>3</th>\n",
              "      <td>6825595</td>\n",
              "      <td>지루하지는 않은데 완전 막장임... 돈주고 보기에는....</td>\n",
              "      <td>0</td>\n",
              "    </tr>\n",
              "    <tr>\n",
              "      <th>4</th>\n",
              "      <td>6723715</td>\n",
              "      <td>3D만 아니었어도 별 다섯 개 줬을텐데.. 왜 3D로 나와서 제 심기를 불편하게 하죠??</td>\n",
              "      <td>0</td>\n",
              "    </tr>\n",
              "    <tr>\n",
              "      <th>5</th>\n",
              "      <td>7898805</td>\n",
              "      <td>음악이 주가 된, 최고의 음악영화</td>\n",
              "      <td>1</td>\n",
              "    </tr>\n",
              "    <tr>\n",
              "      <th>6</th>\n",
              "      <td>6315043</td>\n",
              "      <td>진정한 쓰레기</td>\n",
              "      <td>0</td>\n",
              "    </tr>\n",
              "    <tr>\n",
              "      <th>7</th>\n",
              "      <td>6097171</td>\n",
              "      <td>마치 미국애니에서 튀어나온듯한 창의력없는 로봇디자인부터가,고개를 젖게한다</td>\n",
              "      <td>0</td>\n",
              "    </tr>\n",
              "    <tr>\n",
              "      <th>8</th>\n",
              "      <td>8932678</td>\n",
              "      <td>갈수록 개판되가는 중국영화 유치하고 내용없음 폼잡다 끝남 말도안되는 무기에 유치한c...</td>\n",
              "      <td>0</td>\n",
              "    </tr>\n",
              "    <tr>\n",
              "      <th>9</th>\n",
              "      <td>6242223</td>\n",
              "      <td>이별의 아픔뒤에 찾아오는 새로운 인연의 기쁨 But, 모든 사람이 그렇지는 않네..</td>\n",
              "      <td>1</td>\n",
              "    </tr>\n",
              "  </tbody>\n",
              "</table>\n",
              "</div>"
            ],
            "text/plain": [
              "        id                                           document  label\n",
              "0  6270596                                                굳 ㅋ      1\n",
              "1  9274899                               GDNTOPCLASSINTHECLUB      0\n",
              "2  8544678             뭐야 이 평점들은.... 나쁘진 않지만 10점 짜리는 더더욱 아니잖아      0\n",
              "3  6825595                   지루하지는 않은데 완전 막장임... 돈주고 보기에는....      0\n",
              "4  6723715  3D만 아니었어도 별 다섯 개 줬을텐데.. 왜 3D로 나와서 제 심기를 불편하게 하죠??      0\n",
              "5  7898805                                 음악이 주가 된, 최고의 음악영화      1\n",
              "6  6315043                                            진정한 쓰레기      0\n",
              "7  6097171           마치 미국애니에서 튀어나온듯한 창의력없는 로봇디자인부터가,고개를 젖게한다      0\n",
              "8  8932678  갈수록 개판되가는 중국영화 유치하고 내용없음 폼잡다 끝남 말도안되는 무기에 유치한c...      0\n",
              "9  6242223     이별의 아픔뒤에 찾아오는 새로운 인연의 기쁨 But, 모든 사람이 그렇지는 않네..      1"
            ]
          },
          "metadata": {
            "tags": []
          },
          "execution_count": 23
        }
      ]
    },
    {
      "cell_type": "code",
      "metadata": {
        "id": "6R8DW9Iox-4X"
      },
      "source": [
        "# 필드 정의\n",
        "TEXT = data.Field(sequential=True,\n",
        "                  use_vocab=True,\n",
        "                  tokenize=preprocess_sent,\n",
        "                  lower=True,\n",
        "                  batch_first=True,\n",
        "                  include_lengths=True)\n",
        "\n",
        "LABEL = data.LabelField(dtype = torch.float)"
      ],
      "execution_count": 24,
      "outputs": []
    },
    {
      "cell_type": "code",
      "metadata": {
        "id": "dEIA1Dley_Ug"
      },
      "source": [
        "train_ds, test_ds = TabularDataset.splits(\n",
        "    path=DATA_PATH,\n",
        "    train=os.path.join(DATA_PATH, \"ratings_train_small.txt\"),\n",
        "    test=os.path.join(DATA_PATH, \"ratings_test_small.txt\"), format='tsv',\n",
        "    fields=[(id, None), ('text', TEXT), ('label', LABEL)], skip_header=True)\n",
        "\n",
        "train_ds, valid_ds = train_ds.split(random_state = random.seed(42))"
      ],
      "execution_count": 25,
      "outputs": []
    },
    {
      "cell_type": "code",
      "metadata": {
        "colab": {
          "base_uri": "https://localhost:8080/",
          "height": 0
        },
        "id": "DK7BNu_Wy_XT",
        "outputId": "8c238f58-0e3f-4a71-9041-567cfacbbe23"
      },
      "source": [
        "print(vars(test_ds[9]))"
      ],
      "execution_count": 26,
      "outputs": [
        {
          "output_type": "stream",
          "text": [
            "{'text': ['이별', '의', '아픔', '뒤', '에', '찾아오는', '새로운', '인연', '의', '기쁨', 'but', ',', '모든', '사람', '이', '그렇지는', '않네', '..'], 'label': '1'}\n"
          ],
          "name": "stdout"
        }
      ]
    },
    {
      "cell_type": "code",
      "metadata": {
        "colab": {
          "base_uri": "https://localhost:8080/",
          "height": 0
        },
        "id": "iyMyw9Fwy_aS",
        "outputId": "589e4cd4-2f43-4310-e44d-2edaf8051a96"
      },
      "source": [
        "print(train_ds.fields.items())"
      ],
      "execution_count": 27,
      "outputs": [
        {
          "output_type": "stream",
          "text": [
            "dict_items([(<built-in function id>, None), ('text', <torchtext.legacy.data.field.Field object at 0x7f95400e2850>), ('label', <torchtext.legacy.data.field.LabelField object at 0x7f95400e2810>)])\n"
          ],
          "name": "stdout"
        }
      ]
    },
    {
      "cell_type": "code",
      "metadata": {
        "id": "caI8HRJMy_cO"
      },
      "source": [
        "TEXT.build_vocab(train_ds, min_freq=10, max_size=2000)\n",
        "\n",
        "LABEL.build_vocab(train_ds)"
      ],
      "execution_count": 28,
      "outputs": []
    },
    {
      "cell_type": "code",
      "metadata": {
        "colab": {
          "base_uri": "https://localhost:8080/",
          "height": 0
        },
        "id": "_RO11vG4y_eu",
        "outputId": "5a69e735-10bf-4f19-ac73-c0789434007a"
      },
      "source": [
        "print(len(TEXT.vocab))"
      ],
      "execution_count": 29,
      "outputs": [
        {
          "output_type": "stream",
          "text": [
            "2002\n"
          ],
          "name": "stdout"
        }
      ]
    },
    {
      "cell_type": "code",
      "metadata": {
        "colab": {
          "base_uri": "https://localhost:8080/",
          "height": 0
        },
        "id": "oH5bSLRzx-6b",
        "outputId": "7c540ef4-9776-45dc-9e72-23e1db398ff4"
      },
      "source": [
        "print(TEXT.vocab.stoi)"
      ],
      "execution_count": 30,
      "outputs": [
        {
          "output_type": "stream",
          "text": [
            "defaultdict(<bound method Vocab._default_unk_index of <torchtext.vocab.Vocab object at 0x7f95400e5850>>, {'<unk>': 0, '<pad>': 1, '.': 2, '이': 3, '영화': 4, '의': 5, '..': 6, '가': 7, '에': 8, '을': 9, '...': 10, '도': 11, '들': 12, '는': 13, ',': 14, '은': 15, '를': 16, '한': 17, '?': 18, '너무': 19, '다': 20, '정말': 21, '적': 22, '만': 23, '진짜': 24, '!': 25, '으로': 26, '로': 27, '점': 28, '에서': 29, '연기': 30, '과': 31, '것': 32, '평점': 33, '최고': 34, '안': 35, '나': 36, '내': 37, '잘': 38, '그': 39, '~': 40, '와': 41, '인': 42, '왜': 43, '이런': 44, '스토리': 45, '사람': 46, '못': 47, '....': 48, '이다': 49, '감동': 50, '드라마': 51, '하고': 52, '생각': 53, '1': 54, '보고': 55, '고': 56, '하는': 57, '게': 58, '때': 59, '말': 60, '더': 61, '아': 62, '그냥': 63, '감독': 64, 'ㅋㅋ': 65, '요': 66, '본': 67, '거': 68, '재미': 69, '!!': 70, '내용': 71, '까지': 72, '중': 73, '배우': 74, '시간': 75, '보다': 76, '쓰레기': 77, '좀': 78, '없는': 79, '뭐': 80, '지': 81, '네': 82, '수': 83, '작품': 84, '없다': 85, '사랑': 86, '이건': 87, '할': 88, '같은': 89, '정도': 90, '볼': 91, '하나': 92, '10': 93, '봤는데': 94, '다시': 95, 'ㅋ': 96, '완전': 97, '대': 98, '이렇게': 99, 'ㅋㅋㅋ': 100, '개': 101, '2': 102, '있는': 103, '저': 104, '좋은': 105, '마지막': 106, '액션': 107, '주인공': 108, '역시': 109, '걸': 110, '입니다': 111, '처음': 112, '느낌': 113, '돈': 114, '없고': 115, '임': 116, '3': 117, '보는': 118, '최악': 119, 'ㅠㅠ': 120, '기': 121, '별': 122, '별로': 123, '연출': 124, '끝': 125, '지금': 126, '라': 127, 'ㅡㅡ': 128, '장면': 129, '하': 130, '이나': 131, '봐도': 132, \"'\": 133, '참': 134, '이야기': 135, '명작': 136, '서': 137, '재밌게': 138, '^^': 139, '많이': 140, '그리고': 141, '같다': 142, '듯': 143, '!!!': 144, '된': 145, '아깝다': 146, '해서': 147, '라고': 148, '면': 149, '야': 150, '이고': 151, '또': 152, '때문': 153, '보면': 154, '이영화': 155, '결말': 156, '일': 157, '인데': 158, '꼭': 159, '가장': 160, '무슨': 161, '여': 162, '부터': 163, '에게': 164, '난': 165, '두': 166, '줄': 167, '이해': 168, '인생': 169, '짱': 170, 'ㅠ': 171, '여자': 172, '전': 173, '해': 174, '가슴': 175, '급': 176, '성': 177, '없이': 178, '엔': 179, '보기': 180, '~~': 181, '기억': 182, '한번': 183, 'ㅎㅎ': 184, '마음': 185, '소재': 186, '영': 187, '인간': 188, '편': 189, '함': 190, '모든': 191, '지만': 192, '랑': 193, '씨': 194, '??': 195, '애': 196, '음악': 197, '추천': 198, '라는': 199, '매력': 200, ';;': 201, '속': 202, '합니다': 203, '남자': 204, '만든': 205, '원작': 206, '인가': 207, '현실': 208, '반전': 209, '알': 210, '한다': 211, '수준': 212, '제': 213, '인지': 214, '뿐': 215, '번': 216, '전개': 217, '하게': 218, '다른': 219, '하지만': 220, '되는': 221, '아이': 222, '했다': 223, '넘': 224, '눈물': 225, '니': 226, '대한': 227, '님': 228, '공감': 229, '표현': 230, '개봉': 231, '솔직히': 232, '우리': 233, '화': 234, '봤다': 235, '자체': 236, '모두': 237, 'oo': 238, 'ㅋㅋㅋㅋ': 239, '실망': 240, '냐': 241, '눈': 242, '자': 243, '좋다': 244, '(': 245, '계속': 246, '부분': 247, '이라': 248, '처럼': 249, '하지': 250, '영상': 251, '재밌다': 252, '전혀': 253, '코미디': 254, '허': 255, ')': 256, 'ㅡ': 257, '근데': 258, '캐릭터': 259, '보지': 260, '어떻게': 261, '이제': 262, '건지': 263, '나오는': 264, '여운': 265, '한국': 266, '분': 267, '않은': 268, '많은': 269, '욕': 270, '움': 271, '가족': 272, '기대': 273, '보게': 274, '위': 275, '시리즈': 276, '않고': 277, '애니': 278, '이상': 279, '있다': 280, '재미없다': 281, '-': 282, '에는': 283, '제목': 284, ',,': 285, '뭔가': 286, '일본': 287, '중간': 288, '감': 289, '극장': 290, '나도': 291, '이랑': 292, '이유': 293, '작가': 294, '하면': 295, ';': 296, '굿': 297, '대박': 298, '한테': 299, '연기력': 300, 'ㅜㅜ': 301, '기분': 302, '긴장감': 303, '보면서': 304, '연': 305, '이네': 306, '이란': 307, '점도': 308, '그런': 309, '내내': 310, '모습': 311, '아니고': 312, '작': 313, '없음': 314, '\"\"': 315, 'ㅎ': 316, '나름': 317, '아닌': 318, '시': 319, '아주': 320, '후': 321, '건': 322, '세상': 323, '스릴러': 324, '노래': 325, '뭔': 326, '아까운': 327, '했는데': 328, '봐': 329, '봤습니다': 330, '였다': 331, '전쟁': 332, '걍': 333, '딱': 334, '몰입': 335, '밖에': 336, '용': 337, '재미있게': 338, '진심': 339, '개인': 340, '노잼': 341, '보세요': 342, '잼': 343, '같이': 344, '공포': 345, '삶': 346, '아름다운': 347, '좋았다': 348, '공포영화': 349, '막장': 350, '물': 351, '자신': 352, '0': 353, '그래도': 354, '몇': 355, '뭘': 356, '보다가': 357, '시대': 358, '아니라': 359, '어': 360, 'ooo': 361, '놈': 362, '류': 363, '설정': 364, '의미': 365, '이라고': 366, '장난': 367, '제대로': 368, '친구': 369, 'b': 370, '남': 371, '당시': 372, '대사': 373, '시작': 374, '영화관': 375, '재밌어요': 376, '특히': 377, '5': 378, '미국': 379, '싶다': 380, '위해': 381, '이라는': 382, '인상': 383, '점수': 384, '\"': 385, '까': 386, '너': 387, '문제': 388, '봄': 389, '봤어요': 390, '소리': 391, '아직도': 392, '오랜': 393, '주는': 394, '팬': 395, '4': 396, '영화로': 397, '있고': 398, '.....': 399, '극': 400, '배경': 401, '식': 402, '우리나라': 403, '남는': 404, '절대': 405, '초반': 406, '라면': 407, '력': 408, '보단': 409, '엄청': 410, '지루함': 411, '추억': 412, '대해': 413, '보는내내': 414, '뻔한': 415, '사실': 416, '수작': 417, '시나리오': 418, '어떤': 419, '에도': 420, '좋고': 421, '주고': 422, '!!!!': 423, '데': 424, '살': 425, '알바': 426, '요즘': 427, '웃음': 428, '좋아하는': 429, '큰': 430, '보니': 431, '아니다': 432, '않는': 433, '엄마': 434, '졸작': 435, '지루하고': 436, '하다': 437, '해도': 438, '니까': 439, '접': 440, '제일': 441, '차라리': 442, '결국': 443, '앞': 444, '오늘': 445, '이딴': 446, '이지': 447, '집중': 448, '캐스팅': 449, '포스터': 450, '한국영': 451, '함께': 452, '나이': 453, '만드는': 454, '무엇': 455, '씬': 456, '안되는': 457, '어릴': 458, '음': 459, '정신': 460, '조금': 461, '티비': 462, 'tv': 463, '걸작': 464, '봤던': 465, '어디': 466, '킬링타임': 467, '하면서': 468, '세': 469, '얼마나': 470, '오': 471, '주': 472, '최고다': 473, '출연': 474, '싶은': 475, '아직': 476, '엔딩': 477, '이지만': 478, '재밌음': 479, '질': 480, '가지': 481, '이야': 482, '책': 483, '~~~': 484, '간': 485, '마다': 486, '몰입도': 487, '실화': 488, '아니': 489, '웃기': 490, '첨': 491, '했던': 492, '♥': 493, '그대로': 494, '더빙': 495, '마세요': 496, '모르겠다': 497, '반': 498, '엉': 499, '원': 500, '제발': 501, '코믹': 502, '갈수록': 503, '건가': 504, '그저': 505, '나온': 506, '도대체': 507, '됨': 508, '든': 509, '맘': 510, '매우': 511, '멋진': 512, '아무': 513, '후회': 514, '7': 515, '그렇게': 516, '기도': 517, '될': 518, '로맨스': 519, '먹': 520, '명': 521, '부': 522, '분위기': 523, '자기': 524, '준': 525, 'cg': 526, '감정': 527, '괜찮은': 528, '대체': 529, '만큼': 530, '소설': 531, '스릴': 532, '어느': 533, '얼굴': 534, '울': 535, '이후': 536, '장르': 537, '지루한': 538, '총': 539, '평가': 540, '하는데': 541, '간만': 542, '강추': 543, '누가': 544, '된다': 545, '뒤': 546, '봐서': 547, '봤네요': 548, '비': 549, '애니메이션': 550, '옛날': 551, '재미없음': 552, '하기': 553, '+': 554, '???': 555, '같아요': 556, '관객': 557, '구': 558, '만화': 559, '머리': 560, '발연기': 561, '보는데': 562, '상': 563, '아무리': 564, '역사': 565, '준다': 566, '집': 567, '개연': 568, '구성': 569, '날': 570, '네이버': 571, '다운': 572, '등': 573, '머': 574, '시절': 575, '이리': 576, '재밌는': 577, '8': 578, 'ost': 579, '감성': 580, '너무나': 581, '봤음': 582, '분들': 583, '사회': 584, '상당히': 585, '얘기': 586, '이름': 587, '전부': 588, '했지만': 589, '훨씬': 590, '누구': 591, '만들어': 592, '언제': 593, '지루하다': 594, '짜증': 595, '초딩': 596, '미친': 597, '시즌': 598, '영화인': 599, '예술': 600, '있을까': 601, '진정한': 602, '한마디': 603, ',,,': 604, '6': 605, 'ㅜ': 606, '같음': 607, '다큐': 608, '소름': 609, '신': 610, '아버지': 611, '약간': 612, '없어서': 613, '여배우': 614, '요소': 615, '인물': 616, '좀비': 617, '진': 618, '충격': 619, '가는': 620, '갑자기': 621, '그나마': 622, '그러나': 623, '그만': 624, '꽤': 625, '이라도': 626, '재미있어요': 627, '판': 628, '혼자': 629, '교훈': 630, '극장판': 631, '년': 632, '비교': 633, '성룡': 634, '아님': 635, '아들': 636, '안보': 637, '에서도': 638, '여주': 639, '쯤': 640, '편이': 641, '9': 642, '그것': 643, '그녀': 644, '그래서': 645, '방송': 646, '보': 647, '보다는': 648, '본다': 649, '봐라': 650, '상황': 651, '없어': 652, '여기': 653, '였음': 654, '예전': 655, '잔잔한': 656, '전체': 657, '죠': 658, '중국': 659, 'ㅎㅎㅎ': 660, '글': 661, '나오고': 662, '맛': 663, '봤지만': 664, '삼류': 665, '존나': 666, '코': 667, 'sf': 668, 'ㅉㅉ': 669, '동안': 670, '되지': 671, '만점': 672, '멜로': 673, '아까': 674, '않는다': 675, '좋아요': 676, '쳐': 677, '키': 678, '피': 679, '히': 680, '게임': 681, '곳': 682, '꿈': 683, '단': 684, '딸': 685, '막': 686, '버린': 687, '비디오': 688, '사': 689, '순간': 690, '아까워': 691, '억지': 692, '없네': 693, '있는데': 694, '있어': 695, '재': 696, '재밌고': 697, '좋아': 698, '판타지': 699, '필요': 700, '할수': 701, '화면': 702, '가서': 703, '나온다': 704, '답': 705, '라니': 706, '라도': 707, '라서': 708, '모르고': 709, '발': 710, '보여주는': 711, '복수': 712, '빨리': 713, '않다': 714, '알았다': 715, '에요': 716, '유치하고': 717, '재미없는': 718, '재밌네요': 719, '조': 720, '죽': 721, '참고': 722, '흥행': 723, '간다': 724, '더욱': 725, '몇번': 726, '미': 727, '믿고': 728, '밑': 729, '사건': 730, '살인': 731, '소': 732, '씩': 733, '알았는데': 734, '없네요': 735, '원래': 736, '점주': 737, '충분히': 738, '치고': 739, '평': 740, '한편': 741, '후반': 742, '힘': 743, '100': 744, '20': 745, '거의': 746, '그닥': 747, '나와서': 748, '난다': 749, '낸': 750, '또한': 751, '어쩔': 752, '역대': 753, '이었다': 754, '재미있다': 755, '전설': 756, '전작': 757, '존재': 758, '질질': 759, '철학': 760, '최근': 761, '하며': 762, '헐': 763, '형': 764, '......': 765, 'd': 766, '~!': 767, '각본': 768, '군': 769, '귀': 770, '그게': 771, '나라': 772, '낭비': 773, '당': 774, '당신': 775, '되어': 776, '래': 777, '만의': 778, '말고': 779, '바': 780, '뻔': 781, '세계': 782, '스타': 783, '어른': 784, '없었다': 785, '올': 786, '있지만': 787, '재밋': 788, '주제': 789, '줄거리': 790, '짜리': 791, '하네요': 792, '항상': 793, '휴': 794, '2시간': 795, ';;;': 796, 'ㅠㅠㅠ': 797, '같은데': 798, '다음': 799, '대작': 800, '동화': 801, '따': 802, '모': 803, '비추': 804, '비해': 805, '선': 806, '슬픈': 807, '어렸을': 808, '어설픈': 809, '에선': 810, '온': 811, '우연히': 812, '이에요': 813, '있어서': 814, '좋은데': 815, '주연': 816, '죽음': 817, '첫': 818, '하는게': 819, '햇': 820, '흥미진진': 821, '10년': 822, '거지': 823, '괜히': 824, '굳': 825, '더럽게': 826, '마': 827, '상미': 828, '상영': 829, '선택': 830, '억': 831, '으로도': 832, '이냐': 833, '이면': 834, '재밌는데': 835, '터': 836, '티': 837, '했으면': 838, '화가': 839, '화려한': 840, '흠': 841, '/': 842, '~!!': 843, '고생': 844, '귀신': 845, '노력': 846, '는데': 847, '드': 848, '똥': 849, '만이': 850, '만하': 851, '목소리': 852, '미화': 853, '봐야': 854, '상상': 855, '손': 856, '수가': 857, '술': 858, '실제': 859, '안된다': 860, '암': 861, '어디서': 862, '엉망': 863, '여러': 864, '예': 865, '완성': 866, '이하': 867, '인거': 868, '자극': 869, '장': 870, '좋았어요': 871, '지루해': 872, '진행': 873, '짓': 874, '타임': 875, '통해': 876, '편집': 877, '해야': 878, '해주는': 879, '훌륭한': 880, '감상': 881, '같아': 882, '거기': 883, '결혼': 884, '굳이': 885, '깊은': 886, '대단한': 887, '만들지': 888, '맨': 889, '물론': 890, '불륜': 891, '소녀': 892, '스타일': 893, '시청률': 894, '아쉽다': 895, '아저씨': 896, '액션영화': 897, '였습니다': 898, '으': 899, '일단': 900, '재미있는': 901, '제작': 902, '좋음': 903, '프랑스': 904, '하네': 905, '\"\"\"': 906, 'good': 907, '가치': 908, '그런데': 909, '꿀잼': 910, '나올': 911, '나중': 912, '노': 913, '몸': 914, '바로': 915, '배': 916, '병맛': 917, '보이': 918, '보이는': 919, '봤을': 920, '순수한': 921, '슬프다': 922, '아니지만': 923, '일까': 924, '있음': 925, '잘못': 926, '진부한': 927, '표정': 928, '한다는': 929, '했음': 930, '화보': 931, 'ㅇ': 932, '공': 933, '과거': 934, '굉장히': 935, '그때': 936, '나옴': 937, '다만': 938, '땐': 939, '마치': 940, '만으로도': 941, '먹고': 942, '모르는': 943, '바람': 944, '볼때': 945, '산': 946, '순': 947, '쓴': 948, '아쉬움': 949, '오히려': 950, '외': 951, '의도': 952, '이라니': 953, '재미있고': 954, '케이블': 955, '프로그램': 956, '해준': 957, '현': 958, '힘든': 959, '가면': 960, '같네요': 961, '그래': 962, '그런지': 963, '그림': 964, '대로': 965, '만들': 966, '메세지': 967, '며': 968, '법': 969, '봤으면': 970, '사이': 971, '생': 972, '설명': 973, '손발': 974, '스러운': 975, '아쉬운': 976, '양': 977, '언니': 978, '없나': 979, '에서의': 980, '열정': 981, '예요': 982, '이번': 983, '있게': 984, '자연': 985, '재밌었다': 986, '점점': 987, '조차': 988, '졸라': 989, '채널': 990, '촬영': 991, '취향': 992, '타': 993, '프로': 994, '하냐': 995, 'dvd': 996, '감사합니다': 997, '같습니다': 998, '거리': 999, '관계': 1000, '관심': 1001, '기만': 1002, '기적': 1003, '높은': 1004, '느끼게': 1005, '동': 1006, '돼': 1007, '되었다': 1008, '랄': 1009, '러닝': 1010, '리얼': 1011, '무조건': 1012, '보는게': 1013, '봤었는데': 1014, '스': 1015, '실감': 1016, '심리': 1017, '아는': 1018, '아빠': 1019, '엄청난': 1020, '에서는': 1021, '역': 1022, '열': 1023, '열심히': 1024, '였어요': 1025, '재밌었어요': 1026, '저런': 1027, '정': 1028, '좋겠다': 1029, '좋네요': 1030, '좋았음': 1031, '초': 1032, '평론가': 1033, '평생': 1034, '하는지': 1035, '한다고': 1036, '화이팅': 1037, '흥미': 1038, '희망': 1039, '90년': 1040, ':': 1041, '>': 1042, '개그': 1043, '결과': 1044, '경찰': 1045, '계': 1046, '과정': 1047, '기대하고': 1048, '깊이': 1049, '께': 1050, '낫다': 1051, '되고': 1052, '둘': 1053, '따뜻한': 1054, '땜': 1055, '란': 1056, '런가': 1057, '마라': 1058, '만에': 1059, '반개': 1060, '범죄': 1061, '보고싶은': 1062, '보길': 1063, '봣': 1064, '삼': 1065, '새': 1066, '새끼': 1067, '서야': 1068, '신선한': 1069, '아픔': 1070, '안됨': 1071, '않을': 1072, '야할': 1073, '어린': 1074, '어린이': 1075, '엇': 1076, '영환': 1077, '유치': 1078, '이기': 1079, '인정': 1080, '재미없고': 1081, '전형': 1082, '쩐다': 1083, '차': 1084, '청춘': 1085, '카메라': 1086, '퀄리티': 1087, '하는거': 1088, '하자': 1089, '하하': 1090, '학교': 1091, '해요': 1092, '핵': 1093, '-_-': 1094, '..?': 1095, '♡': 1096, '게이': 1097, '고민': 1098, '관': 1099, '관람': 1100, '그렇고': 1101, '기회': 1102, '까진': 1103, '나를': 1104, '노출': 1105, '달': 1106, '대의': 1107, '도저히': 1108, '드립니다': 1109, '따라': 1110, '레알': 1111, '로만': 1112, '리메이크': 1113, '마무리': 1114, '방': 1115, '버렸다': 1116, '보시길': 1117, '부족': 1118, '비슷한': 1119, '새로운': 1120, '서로': 1121, '속편': 1122, '아침': 1123, '안나': 1124, '안되고': 1125, '않음': 1126, '없어요': 1127, '없을': 1128, '에겐': 1129, '여성': 1130, '엿': 1131, '예산': 1132, '왠지': 1133, '용도': 1134, '입': 1135, '있었다': 1136, '자꾸': 1137, '작은': 1138, '재밌어': 1139, '전달': 1140, '정말로': 1141, '제작비': 1142, '좋았는데': 1143, '지난': 1144, '쵝오': 1145, '춤': 1146, '팔': 1147, '하루': 1148, '할까': 1149, '.......': 1150, '30분': 1151, '개판': 1152, '괴물': 1153, '그래픽': 1154, '나와': 1155, '놔': 1156, '느와르': 1157, '다소': 1158, '다행': 1159, '대단하다': 1160, '됩니다': 1161, '리': 1162, '맞는': 1163, '먼저': 1164, '메디': 1165, '묘사': 1166, '문화': 1167, '받아': 1168, '보아': 1169, '빵점': 1170, '성인': 1171, '스럽다': 1172, '시도': 1173, '시점': 1174, '쓰고': 1175, '아닌가': 1176, '아닐까': 1177, '어이': 1178, '언': 1179, '에게는': 1180, '연기자': 1181, '였는데': 1182, '예상': 1183, '오락': 1184, '완벽한': 1185, '왕': 1186, '으로는': 1187, '이제야': 1188, '자식': 1189, '잘만': 1190, '잠': 1191, '재미없어': 1192, '전편': 1193, '조폭': 1194, '존': 1195, '존경': 1196, '죄': 1197, '주기': 1198, '지루': 1199, '진정': 1200, '짜': 1201, '척': 1202, '특유': 1203, '한계': 1204, '해라': 1205, '형님': 1206, '확실히': 1207, '효과': 1208, ',,,,': 1209, '20년': 1210, '80년': 1211, 'ㅇㅇ': 1212, 'ㅋㅋㅋㅋㅋ': 1213, '같아서': 1214, '겁나': 1215, '견자단': 1216, '그린': 1217, '깊게': 1218, '꺼': 1219, '끝나고': 1220, '내고': 1221, '노답': 1222, '대충': 1223, '등장': 1224, '딱히': 1225, '떨어지는': 1226, '만들었다': 1227, '무협': 1228, '병': 1229, '비극': 1230, '빨': 1231, '성우': 1232, '슬픔': 1233, '쓰래': 1234, '아닌데': 1235, '아름답고': 1236, '않': 1237, '약': 1238, '오빠': 1239, '완전히': 1240, '용이': 1241, '웃겨': 1242, '으리': 1243, '이미': 1244, '이쁨': 1245, '이상한': 1246, '일이': 1247, '있나': 1248, '있을': 1249, '자막': 1250, '종교': 1251, '좋았습니다': 1252, '즈': 1253, '지루하지': 1254, '커플': 1255, '한참': 1256, '확': 1257, '가는줄': 1258, '가볍게': 1259, '개뿔': 1260, '고양이': 1261, '국민': 1262, '그럼': 1263, '그리': 1264, '나머지': 1265, '너무나도': 1266, '능력': 1267, '다가': 1268, '대안': 1269, '대한민국': 1270, '뒷': 1271, '들이': 1272, '망작': 1273, '매': 1274, '멋지다': 1275, '무': 1276, '받고': 1277, '받아서': 1278, '받은': 1279, '받을': 1280, '밤': 1281, '방법': 1282, '별루': 1283, '볼수록': 1284, '봅니다': 1285, '비판': 1286, '선동': 1287, '스케일': 1288, '써': 1289, '아닌듯': 1290, '악당': 1291, '없는데': 1292, '없지만': 1293, '여서': 1294, '예고편': 1295, '이런게': 1296, '이며': 1297, '젠': 1298, '죽는줄': 1299, '지구': 1300, '쩝': 1301, '크게': 1302, '탄탄한': 1303, '탓': 1304, '펑펑': 1305, '평이': 1306, '행동': 1307, '허세': 1308, '현재': 1309, '호러': 1310, '환상': 1311, '흑': 1312, '10분': 1313, '<': 1314, 'ㅅㅂ': 1315, '국가': 1316, '군대': 1317, '그럭저럭': 1318, '기술': 1319, '길': 1320, '끼리': 1321, '낚': 1322, '낮다': 1323, '낮아서': 1324, '넘게': 1325, '대가': 1326, '독립영화': 1327, '되네요': 1328, '들고': 1329, '따위': 1330, '뛰어난': 1331, '리뷰': 1332, '모르겠고': 1333, '몸매': 1334, '미모': 1335, '바보': 1336, '보라': 1337, '부모': 1338, '부족한': 1339, '빼고': 1340, '살다': 1341, '성도': 1342, '시트콤': 1343, '실력': 1344, '싶네요': 1345, '싸움': 1346, '아깝지': 1347, '어려운': 1348, '어색한': 1349, '어이없는': 1350, '에로': 1351, '오래': 1352, '웃기지도': 1353, '유치한': 1354, '이런거': 1355, '일상': 1356, '있다면': 1357, '있지': 1358, '잊혀지지': 1359, '재미있네요': 1360, '재밌습니다': 1361, '전쟁영화': 1362, '좋았지만': 1363, '주의': 1364, '중반': 1365, '체': 1366, '패러디': 1367, '평범한': 1368, '폭력': 1369, '표절': 1370, '필요없는': 1371, '필요없다': 1372, '하니': 1373, '희생': 1374, '^': 1375, '_': 1376, 'c': 1377, 'x': 1378, 'ㄷㄷ': 1379, '가끔': 1380, '감안': 1381, '강': 1382, '개도': 1383, '게다가': 1384, '기본': 1385, '긴': 1386, '까지는': 1387, '끌': 1388, '나쁜': 1389, '낮지': 1390, '덕분': 1391, '동물': 1392, '되면': 1393, '드는': 1394, '든다': 1395, '등장인물': 1396, '떠나서': 1397, '만들고': 1398, '메시지': 1399, '면서': 1400, '몰라도': 1401, '미소': 1402, '배우는': 1403, '보고나서': 1404, '보다도': 1405, '보여준다': 1406, '본인': 1407, '봐요': 1408, '봤다가': 1409, '분노': 1410, '불가': 1411, '빼고는': 1412, '사랑스러운': 1413, '살짝': 1414, '생애': 1415, '쇼': 1416, '스파이더맨': 1417, '시선': 1418, '쓰': 1419, '아역': 1420, '악역': 1421, '역할': 1422, '영웅': 1423, '우': 1424, '울었다': 1425, '웃김': 1426, '유쾌한': 1427, '은근': 1428, '의문': 1429, '인기': 1430, '입장': 1431, '자리': 1432, '재미있음': 1433, '저렇게': 1434, '조연': 1435, '좀더': 1436, '줌': 1437, '즐겁게': 1438, '짜증나': 1439, '짜증나는': 1440, '쩌': 1441, '차이': 1442, '착한': 1443, '치': 1444, '카리스마': 1445, '커': 1446, '파': 1447, '포기': 1448, '하지마라': 1449, '했어요': 1450, '후속작': 1451, '희': 1452, '감탄': 1453, '검색': 1454, '결론': 1455, '과연': 1456, '근래': 1457, '기세': 1458, '남는다': 1459, '늘': 1460, '되게': 1461, '땅': 1462, '라인': 1463, '로는': 1464, '로서': 1465, '로써': 1466, '마이클': 1467, '만든다': 1468, '만들어진': 1469, '많다': 1470, '무비': 1471, '무섭다': 1472, '미래': 1473, '박수': 1474, '발견': 1475, '범': 1476, '범인': 1477, '보려고': 1478, '보시': 1479, '보지마라': 1480, '볼수': 1481, '불': 1482, '빛': 1483, '뻔하고': 1484, '섹스': 1485, '스럽게': 1486, '신고': 1487, '신분': 1488, '싫다': 1489, '심장': 1490, '아니면': 1491, '아닙니다': 1492, '아오': 1493, '아이돌': 1494, '않아': 1495, '않았다': 1496, '애기': 1497, '어제': 1498, '억지로': 1499, '여자애': 1500, '연예인': 1501, '옆': 1502, '옛': 1503, '올해': 1504, '우정': 1505, '위대한': 1506, '유': 1507, '유치해서': 1508, '이었습니다': 1509, '이연걸': 1510, '자유': 1511, '재밌었는데': 1512, '전반': 1513, '정서': 1514, '정치': 1515, '젤': 1516, '종영': 1517, '진실': 1518, '포인트': 1519, '하여': 1520, '헐리웃': 1521, '혹시': 1522, '홍콩': 1523, '흔한': 1524, '........': 1525, '007': 1526, '30': 1527, 'the': 1528, '가요': 1529, '갈등': 1530, '감명': 1531, '감정이입': 1532, '걸까': 1533, '경': 1534, '광고': 1535, '국내': 1536, '권': 1537, '나서': 1538, '나오면': 1539, '년전': 1540, '다큐멘터리': 1541, '달리': 1542, '댓글': 1543, '동생': 1544, '되서': 1545, '드럽게': 1546, '들어': 1547, '또다른': 1548, '레전드': 1549, '로그인': 1550, '마약': 1551, '만들기': 1552, '만들어도': 1553, '많고': 1554, '먼': 1555, '무서운': 1556, '무섭지도': 1557, '반복': 1558, '버전': 1559, '보다니': 1560, '보며': 1561, '보인다': 1562, '본다면': 1563, '봐야지': 1564, '봤': 1565, '봤는데도': 1566, '북한': 1567, '빠져': 1568, '빠진': 1569, '사극': 1570, '사는': 1571, '살면서': 1572, '상처': 1573, '선생님': 1574, '설득': 1575, '세기': 1576, '수도': 1577, '시각': 1578, '시청자': 1579, '아니야': 1580, '아픈': 1581, '암튼': 1582, '어처구니': 1583, '언제나': 1584, '여전히': 1585, '연인': 1586, '영화제': 1587, '예능': 1588, '우뢰매': 1589, '웃긴': 1590, '의외로': 1591, '이여': 1592, '이정': 1593, '인가요': 1594, '있네': 1595, '있다는': 1596, '있어요': 1597, '있었던': 1598, '잔인한': 1599, '잔잔하고': 1600, '잠깐': 1601, '제외': 1602, '좋아서': 1603, '좋았고': 1604, '좋았던': 1605, '지는': 1606, '지루할': 1607, '지루했다': 1608, '짝': 1609, '짝퉁': 1610, '터미네이터': 1611, '테러': 1612, '투자': 1613, '틈': 1614, '풀어': 1615, '하기엔': 1616, '하길래': 1617, '해야지': 1618, '해주세요': 1619, '행복': 1620, '형편': 1621, '회': 1622, '...?': 1623, '????': 1624, 'm': 1625, '~^^': 1626, '~~~~': 1627, '♥♥': 1628, 'ㅅ': 1629, '개념': 1630, '갠': 1631, '겁니다': 1632, '과의': 1633, '관련': 1634, '귀엽고': 1635, '기대했는데': 1636, '기준': 1637, '까지도': 1638, '끝날': 1639, '남녀': 1640, '낮은': 1641, '녀': 1642, '높다': 1643, '높아서': 1644, '다리': 1645, '단순한': 1646, '당황': 1647, '돌려': 1648, '되': 1649, '디즈니': 1650, '떨어짐': 1651, '로맨틱': 1652, '막장드라마': 1653, '만큼은': 1654, '말로': 1655, '맥': 1656, '모르게': 1657, '목숨': 1658, '무서움': 1659, '무시': 1660, '무척': 1661, '물이': 1662, '미스': 1663, '밋': 1664, '반드시': 1665, '받는': 1666, '버림': 1667, '베': 1668, '보고싶다': 1669, '보긴': 1670, '보신': 1671, '보았습니다': 1672, '보여준': 1673, '본거': 1674, '본방': 1675, '본적': 1676, '볼거리': 1677, '비중': 1678, '사기': 1679, '삭제': 1680, '생각나는': 1681, '성한': 1682, '소소한': 1683, '스럽지': 1684, '시키는': 1685, '신의': 1686, '심': 1687, '싶은데': 1688, '싸구려': 1689, '쓸데없이': 1690, '아름답다': 1691, '안습': 1692, '알겠는데': 1693, '어머니': 1694, '어찌': 1695, '어휴': 1696, '없지': 1697, '옥': 1698, '외모': 1699, '우주': 1700, '유머': 1701, '유발': 1702, '유일한': 1703, '유쾌하고': 1704, '으로서': 1705, '이니': 1706, '이래': 1707, '이쁘다': 1708, '이자': 1709, '읽어': 1710, '잇는': 1711, '있으면': 1712, '잡고': 1713, '재미없네': 1714, '잼있게': 1715, '제로': 1716, '좋': 1717, '좋습니다': 1718, '좋았으나': 1719, '좋았을': 1720, '지나치게': 1721, '지도': 1722, '지루해서': 1723, '코난': 1724, '코드': 1725, '토': 1726, '투': 1727, '팔이': 1728, '편도': 1729, '필요한': 1730, '하다니': 1731, '하려는': 1732, '했을': 1733, '헐리우드': 1734, '현대': 1735, '형사': 1736, '홍보': 1737, '힘들다': 1738, '&': 1739, '70년': 1740, 'mbc': 1741, 'ㄱ': 1742, 'ㅈ': 1743, '감각': 1744, '감흥': 1745, '거나': 1746, '고딩': 1747, '고전': 1748, '곡': 1749, '공부': 1750, '괜찮은데': 1751, '구리': 1752, '그다지': 1753, '그렇다': 1754, '금': 1755, '긴장': 1756, '꼴': 1757, '꽝': 1758, '남겨': 1759, '남편': 1760, '느낄': 1761, '느낄수': 1762, '는걸': 1763, '늦게': 1764, '답답하고': 1765, '답답한': 1766, '데리': 1767, '도전': 1768, '독특한': 1769, '두고': 1770, '디': 1771, '딴': 1772, '똑같은': 1773, '러브': 1774, '린다': 1775, '마저': 1776, '막판': 1777, '만으로': 1778, '만해': 1779, '맨날': 1780, '멋': 1781, '명품': 1782, '명화': 1783, '모르겠지만': 1784, '목': 1785, '몰랐다': 1786, '무난': 1787, '무료': 1788, '무섭고': 1789, '무지': 1790, '바다': 1791, '발전': 1792, '방금': 1793, '방영': 1794, '버리고': 1795, '보고나면': 1796, '보러': 1797, '보자': 1798, '보지마': 1799, '본게': 1800, '본듯': 1801, '살린': 1802, '상태': 1803, '서는': 1804, '성적': 1805, '성하고': 1806, '소중한': 1807, '수입': 1808, '쉬': 1809, '스크린': 1810, '신경': 1811, '싸이코': 1812, '아름다': 1813, '아쉽네요': 1814, '안타까운': 1815, '않았지만': 1816, '앞뒤': 1817, '앞서': 1818, '얼마': 1819, '없': 1820, '에나': 1821, '에피소드': 1822, '여행': 1823, '연속': 1824, '연애': 1825, '열자': 1826, '였던': 1827, '오는': 1828, '옴': 1829, '와는': 1830, '왕조현': 1831, '왜케': 1832, '왠만하면': 1833, '외국': 1834, '욕망': 1835, '용서': 1836, '우려': 1837, '웃으면서': 1838, '으론': 1839, '음식': 1840, '이따위': 1841, '인해': 1842, '있는지': 1843, '있습니다': 1844, '자살': 1845, '재난영화': 1846, '재미없어요': 1847, '재미있습니다': 1848, '재미있었다': 1849, '재밌네': 1850, '잼있어요': 1851, '정신병': 1852, '정의': 1853, '젠장': 1854, '조니뎁': 1855, '조절': 1856, '좋겠네요': 1857, '좋아하는데': 1858, '좋을듯': 1859, '주기도': 1860, '진부하고': 1861, '짜증나서': 1862, '짜증남': 1863, '참신한': 1864, '챙겨': 1865, '처': 1866, '천': 1867, '첫사랑': 1868, '청소년': 1869, '최': 1870, '최초': 1871, '탈': 1872, '탑': 1873, '포장': 1874, '표': 1875, '풍': 1876, '피해자': 1877, '하고자': 1878, '하는건': 1879, '하는것': 1880, '하늘': 1881, '하다가': 1882, '학생': 1883, '한다면': 1884, '한심한': 1885, '할말': 1886, '할머니': 1887, '했고': 1888, '했다는': 1889, '형제': 1890, '혹': 1891, '혹은': 1892, '홍콩영화': 1893, '힐링': 1894, '18': 1895, '1시간': 1896, '2014년': 1897, ';;;;': 1898, '=': 1899, '`': 1900, 'a': 1901, 'ㅜㅠ': 1902, '가본': 1903, '가정': 1904, '값': 1905, '갓': 1906, '갔다': 1907, '강동원': 1908, '개성': 1909, '겨': 1910, '겨우': 1911, '고통': 1912, '괜찮고': 1913, '국어': 1914, '굿굿': 1915, '귀여운': 1916, '그걸': 1917, '그렇다고': 1918, '그만큼': 1919, '김기덕': 1920, '깡패': 1921, '깨': 1922, '꽃': 1923, '끝남': 1924, '나오네': 1925, '나오는데': 1926, '나왔으면': 1927, '난리': 1928, '내면': 1929, '넘치는': 1930, '눈빛': 1931, '눈치': 1932, '느껴지는': 1933, '느낀': 1934, '단지': 1935, '담배': 1936, '대놓고': 1937, '대표': 1938, '둘째': 1939, '들었다': 1940, '등등': 1941, '떠나': 1942, '떨어진': 1943, '뜬금': 1944, '뜻': 1945, '레옹': 1946, '로봇': 1947, '루즈': 1948, '마이': 1949, '마이너스': 1950, '만들었는지': 1951, '만들었을까': 1952, '맞고': 1953, '매미': 1954, '매일': 1955, '먹는': 1956, '멋있다': 1957, '멍청한': 1958, '모르겠음': 1959, '문': 1960, '뭐라': 1961, '뭣': 1962, '뮤지컬': 1963, '반성': 1964, '밥': 1965, '방식': 1966, '버리지': 1967, '벌써': 1968, '변태': 1969, '보이지': 1970, '볼려고': 1971, '볼수있는': 1972, '봤더니': 1973, '봤지': 1974, '부작': 1975, '분장': 1976, '불구': 1977, '불편한': 1978, '블록버스터': 1979, '빌려': 1980, '빼곤': 1981, '사고': 1982, '상상력': 1983, '색깔': 1984, '생각나서': 1985, '설마': 1986, '성장': 1987, '세계관': 1988, '소장': 1989, '송강호': 1990, '수고': 1991, '스럽고': 1992, '슬프고': 1993, '승리': 1994, '식상한': 1995, '신선하고': 1996, '쓰는': 1997, '아깝': 1998, '아쉽지만': 1999, '아줌마': 2000, '않나': 2001})\n"
          ],
          "name": "stdout"
        }
      ]
    },
    {
      "cell_type": "code",
      "metadata": {
        "id": "nOKSrKbK8xn2"
      },
      "source": [
        "BATCH_SIZE = 16\n",
        "device = torch.device('cuda' if torch.cuda.is_available() else 'cpu')\n",
        "\n",
        "train_iterator, valid_iterator, test_iterator = data.BucketIterator.splits(\n",
        "    (train_ds, valid_ds, test_ds), \n",
        "    batch_size = BATCH_SIZE,\n",
        "    sort_within_batch = True,\n",
        "    sort_key = lambda x: len(x.text),\n",
        "    device = device)"
      ],
      "execution_count": 31,
      "outputs": []
    },
    {
      "cell_type": "markdown",
      "metadata": {
        "id": "LzcTgVn59jua"
      },
      "source": [
        "## 분류모델 클래스 아키텍처"
      ]
    },
    {
      "cell_type": "code",
      "metadata": {
        "id": "r35h7bTS9aOg"
      },
      "source": [
        "class Classifier(nn.Module):\n",
        "\n",
        "    def __init__(self, vocab_size, embedding_dim, hidden_dim, output_dim, n_layers, \n",
        "                 bidirectional, dropout, pad_idx):\n",
        "        super().__init__()\n",
        "        self.embedding = nn.Embedding(vocab_size, embedding_dim, padding_idx = pad_idx)\n",
        "        self.rnn = nn.LSTM(embedding_dim, \n",
        "                           hidden_dim, \n",
        "                           num_layers=n_layers, \n",
        "                           bidirectional=bidirectional, \n",
        "                           dropout=dropout)\n",
        "        self.fc = nn.Linear(hidden_dim * 2, output_dim)\n",
        "        self.dropout = nn.Dropout(dropout)\n",
        "        \n",
        "    def forward(self, text, text_lengths):\n",
        "        #text = [sent len, batch size]\n",
        "        embedded = self.dropout(self.embedding(text))        \n",
        "        #embedded = [sent len, batch size, emb dim] \n",
        "        # pack sequence\n",
        "        packed_embedded = nn.utils.rnn.pack_padded_sequence(embedded, text_lengths.to('cpu'), batch_first=True)\n",
        "        packed_output, (hidden, cell) = self.rnn(packed_embedded)\n",
        "        \n",
        "        #unpack sequence\n",
        "        output, output_lengths = nn.utils.rnn.pad_packed_sequence(packed_output)\n",
        "        #output = [sent len, batch size, hid dim * num directions]\n",
        "        #output over padding tokens are zero tensors\n",
        "        #hidden = [num layers * num directions, batch size, hid dim]\n",
        "        #cell = [num layers * num directions, batch size, hid dim]\n",
        "        #concat the final forward (hidden[-2,:,:]) and backward (hidden[-1,:,:]) hidden layers\n",
        "        #and apply dropout\n",
        "        hidden = self.dropout(torch.cat((hidden[-2,:,:], hidden[-1,:,:]), dim = 1))\n",
        "        #hidden = [batch size, hid dim * num directions]     \n",
        "        return self.fc(hidden)"
      ],
      "execution_count": 32,
      "outputs": []
    },
    {
      "cell_type": "code",
      "metadata": {
        "id": "KaAkHfGu91rb"
      },
      "source": [
        "INPUT_DIM = len(TEXT.vocab)\n",
        "EMBEDDING_DIM = 200\n",
        "HIDDEN_DIM = 256\n",
        "OUTPUT_DIM = 1\n",
        "N_LAYERS = 2\n",
        "BIDIRECTIONAL = True\n",
        "DROPOUT = 0.5\n",
        "PAD_IDX = TEXT.vocab.stoi[TEXT.pad_token]\n",
        "\n",
        "model = Classifier(INPUT_DIM, \n",
        "            EMBEDDING_DIM, \n",
        "            HIDDEN_DIM, \n",
        "            OUTPUT_DIM, \n",
        "            N_LAYERS, \n",
        "            BIDIRECTIONAL, \n",
        "            DROPOUT, \n",
        "            PAD_IDX)"
      ],
      "execution_count": 33,
      "outputs": []
    },
    {
      "cell_type": "code",
      "metadata": {
        "id": "faBwFBXW-Ii6",
        "colab": {
          "base_uri": "https://localhost:8080/",
          "height": 0
        },
        "outputId": "c6b3dfee-da37-472b-d842-bcb19668cf41"
      },
      "source": [
        "def count_parameters(model):\n",
        "    return sum(p.numel() for p in model.parameters() if p.requires_grad)\n",
        "\n",
        "print(f'The model has {count_parameters(model):,} trainable parameters')"
      ],
      "execution_count": 34,
      "outputs": [
        {
          "output_type": "stream",
          "text": [
            "The model has 2,915,857 trainable parameters\n"
          ],
          "name": "stdout"
        }
      ]
    },
    {
      "cell_type": "code",
      "metadata": {
        "colab": {
          "base_uri": "https://localhost:8080/",
          "height": 0
        },
        "id": "yub11TiK1ufw",
        "outputId": "9a28085f-0f60-47c9-b0f4-67df01cccaed"
      },
      "source": [
        "UNK_IDX = TEXT.vocab.stoi[TEXT.unk_token]\n",
        "\n",
        "model.embedding.weight.data[UNK_IDX] = torch.zeros(EMBEDDING_DIM)\n",
        "model.embedding.weight.data[PAD_IDX] = torch.zeros(EMBEDDING_DIM)\n",
        "\n",
        "print(model.embedding.weight.data)"
      ],
      "execution_count": 35,
      "outputs": [
        {
          "output_type": "stream",
          "text": [
            "tensor([[ 0.0000,  0.0000,  0.0000,  ...,  0.0000,  0.0000,  0.0000],\n",
            "        [ 0.0000,  0.0000,  0.0000,  ...,  0.0000,  0.0000,  0.0000],\n",
            "        [-1.9449, -0.8958,  0.0928,  ...,  1.4600,  0.5450,  0.3749],\n",
            "        ...,\n",
            "        [-0.6532,  0.5826, -1.5376,  ...,  0.0203,  0.0393,  0.4673],\n",
            "        [-2.4184,  1.1874,  1.6921,  ..., -0.2530, -0.2660, -0.4084],\n",
            "        [ 1.0717, -0.1344, -0.9162,  ..., -1.3813, -1.9346, -1.5713]])\n"
          ],
          "name": "stdout"
        }
      ]
    },
    {
      "cell_type": "code",
      "metadata": {
        "id": "FZEfvwri1yJQ"
      },
      "source": [
        "optimizer = optim.Adam(model.parameters())\n",
        "criterion = nn.BCEWithLogitsLoss()\n",
        "\n",
        "model = model.to(device)\n",
        "criterion = criterion.to(device)"
      ],
      "execution_count": 36,
      "outputs": []
    },
    {
      "cell_type": "code",
      "metadata": {
        "id": "9J1UYD8114lL"
      },
      "source": [
        "def binary_accuracy(preds, y):\n",
        "    \"\"\"\n",
        "    Returns accuracy per batch, i.e. if you get 8/10 right, this returns 0.8, NOT 8\n",
        "    \"\"\"\n",
        "\n",
        "    #round predictions to the closest integer\n",
        "    rounded_preds = torch.round(torch.sigmoid(preds))\n",
        "    correct = (rounded_preds == y).float() #convert into float for division \n",
        "    acc = correct.sum() / len(correct)\n",
        "    return acc"
      ],
      "execution_count": 37,
      "outputs": []
    },
    {
      "cell_type": "code",
      "metadata": {
        "id": "cAqzlK0I17oa"
      },
      "source": [
        "def train(model, iterator, optimizer, criterion):\n",
        "    \n",
        "    epoch_loss = 0\n",
        "    epoch_acc = 0\n",
        "    \n",
        "    model.train()\n",
        "    \n",
        "    for batch in iterator:\n",
        "        \n",
        "        optimizer.zero_grad()\n",
        "        text, text_lengths = batch.text\n",
        "        predictions = model(text, text_lengths).squeeze(1)\n",
        "        loss = criterion(predictions, batch.label)\n",
        "        acc = binary_accuracy(predictions, batch.label)\n",
        "        \n",
        "        loss.backward()\n",
        "        \n",
        "        optimizer.step()\n",
        "        \n",
        "        epoch_loss += loss.item()\n",
        "        epoch_acc += acc.item()\n",
        "        \n",
        "    return epoch_loss / len(iterator), epoch_acc / len(iterator)"
      ],
      "execution_count": 38,
      "outputs": []
    },
    {
      "cell_type": "code",
      "metadata": {
        "id": "A3ZHDmZ41-Yg"
      },
      "source": [
        "def evaluate(model, iterator, criterion):   \n",
        "    epoch_loss = 0\n",
        "    epoch_acc = 0  \n",
        "    model.eval()\n",
        "    with torch.no_grad():\n",
        "        for batch in iterator:\n",
        "            text, text_lengths = batch.text       \n",
        "            predictions = model(text, text_lengths).squeeze(1)   \n",
        "            loss = criterion(predictions, batch.label)\n",
        "            acc = binary_accuracy(predictions, batch.label)\n",
        "            epoch_loss += loss.item()\n",
        "            epoch_acc += acc.item()\n",
        "    return epoch_loss / len(iterator), epoch_acc / len(iterator)"
      ],
      "execution_count": 39,
      "outputs": []
    },
    {
      "cell_type": "code",
      "metadata": {
        "colab": {
          "base_uri": "https://localhost:8080/",
          "height": 0
        },
        "id": "zrvYFgZ82DCo",
        "outputId": "88fef3fe-6c7c-4b49-d904-bf6f0b9d156e"
      },
      "source": [
        "epochs = 10\n",
        "best_valid_loss = float('inf')\n",
        "\n",
        "for epoch in range(epochs):\n",
        "    train_loss, train_acc = train(model, train_iterator, optimizer, criterion)\n",
        "    valid_loss, valid_acc = evaluate(model, valid_iterator, criterion)\n",
        "    if valid_loss < best_valid_loss:\n",
        "        best_valid_loss = valid_loss\n",
        "        torch.save(model.state_dict(), os.path.join(DATA_PATH, 'nsmc-lstm.pt'))\n",
        "    \n",
        "    print(f'Epoch: {epoch+1:02}')\n",
        "    print(f'\\tTrain     Loss: {train_loss:.3f} | Train      Acc: {train_acc*100:.2f}%')\n",
        "    print(f'\\Validation Loss: {valid_loss:.3f} | Validation Acc: {valid_acc*100:.2f}%')"
      ],
      "execution_count": 40,
      "outputs": [
        {
          "output_type": "stream",
          "text": [
            "Epoch: 01\n",
            "\tTrain     Loss: 0.597 | Train      Acc: 66.69%\n",
            "\\Validation Loss: 0.504 | Validation Acc: 74.40%\n",
            "Epoch: 02\n",
            "\tTrain     Loss: 0.497 | Train      Acc: 75.15%\n",
            "\\Validation Loss: 0.459 | Validation Acc: 77.72%\n",
            "Epoch: 03\n",
            "\tTrain     Loss: 0.444 | Train      Acc: 79.01%\n",
            "\\Validation Loss: 0.469 | Validation Acc: 78.25%\n",
            "Epoch: 04\n",
            "\tTrain     Loss: 0.409 | Train      Acc: 80.62%\n",
            "\\Validation Loss: 0.433 | Validation Acc: 79.93%\n",
            "Epoch: 05\n",
            "\tTrain     Loss: 0.378 | Train      Acc: 82.64%\n",
            "\\Validation Loss: 0.434 | Validation Acc: 80.05%\n",
            "Epoch: 06\n",
            "\tTrain     Loss: 0.354 | Train      Acc: 83.69%\n",
            "\\Validation Loss: 0.441 | Validation Acc: 80.00%\n",
            "Epoch: 07\n",
            "\tTrain     Loss: 0.331 | Train      Acc: 85.12%\n",
            "\\Validation Loss: 0.468 | Validation Acc: 80.00%\n",
            "Epoch: 08\n",
            "\tTrain     Loss: 0.309 | Train      Acc: 86.06%\n",
            "\\Validation Loss: 0.462 | Validation Acc: 80.13%\n",
            "Epoch: 09\n",
            "\tTrain     Loss: 0.291 | Train      Acc: 87.10%\n",
            "\\Validation Loss: 0.473 | Validation Acc: 80.08%\n",
            "Epoch: 10\n",
            "\tTrain     Loss: 0.277 | Train      Acc: 87.84%\n",
            "\\Validation Loss: 0.499 | Validation Acc: 79.83%\n"
          ],
          "name": "stdout"
        }
      ]
    },
    {
      "cell_type": "code",
      "metadata": {
        "colab": {
          "base_uri": "https://localhost:8080/",
          "height": 0
        },
        "id": "qREI6kNg2MFC",
        "outputId": "c8cb297c-e6f5-43fa-b0f3-08b054b48748"
      },
      "source": [
        "model.load_state_dict(torch.load(os.path.join(DATA_PATH, 'nsmc-lstm.pt')))\n",
        "\n",
        "test_loss, test_acc = evaluate(model, test_iterator, criterion)\n",
        "\n",
        "print(f'Test Loss: {test_loss:.3f} | Test Acc: {test_acc*100:.2f}%')"
      ],
      "execution_count": 41,
      "outputs": [
        {
          "output_type": "stream",
          "text": [
            "Test Loss: 0.445 | Test Acc: 79.90%\n"
          ],
          "name": "stdout"
        }
      ]
    },
    {
      "cell_type": "code",
      "metadata": {
        "id": "ae9oujkf2aPR"
      },
      "source": [
        "def sentiment_classification(model, sentence):\n",
        "    model.eval()\n",
        "    tokenized = preprocess_sent(sentence)\n",
        "    indexed = [[TEXT.vocab.stoi[t] for t in tokenized]]\n",
        "    length = [len(indexed)]\n",
        "\n",
        "    tensor = torch.LongTensor(indexed).to(device)\n",
        "    length_tensor = torch.LongTensor(length)\n",
        "    pred = torch.sigmoid(model(tensor, length_tensor))\n",
        "    \n",
        "    return pred.item()"
      ],
      "execution_count": 42,
      "outputs": []
    },
    {
      "cell_type": "code",
      "metadata": {
        "colab": {
          "base_uri": "https://localhost:8080/",
          "height": 0
        },
        "id": "Uvo1_kav2cnw",
        "outputId": "6fb5c14c-4697-4fe3-f612-611b625363ac"
      },
      "source": [
        "sentiment_classification(model, '액션이 멋있었어요.')"
      ],
      "execution_count": 43,
      "outputs": [
        {
          "output_type": "execute_result",
          "data": {
            "text/plain": [
              "0.903477132320404"
            ]
          },
          "metadata": {
            "tags": []
          },
          "execution_count": 43
        }
      ]
    }
  ]
}