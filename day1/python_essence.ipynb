{
  "nbformat": 4,
  "nbformat_minor": 0,
  "metadata": {
    "colab": {
      "name": "python_essence.ipynb",
      "provenance": []
    },
    "kernelspec": {
      "display_name": "Python 3",
      "language": "python",
      "name": "python3"
    },
    "language_info": {
      "codemirror_mode": {
        "name": "ipython",
        "version": 3
      },
      "file_extension": ".py",
      "mimetype": "text/x-python",
      "name": "python",
      "nbconvert_exporter": "python",
      "pygments_lexer": "ipython3",
      "version": "3.8.7"
    },
    "toc": {
      "base_numbering": 1,
      "nav_menu": {},
      "number_sections": true,
      "sideBar": true,
      "skip_h1_title": false,
      "title_cell": "Table of Contents",
      "title_sidebar": "Contents",
      "toc_cell": false,
      "toc_position": {},
      "toc_section_display": true,
      "toc_window_display": false
    }
  },
  "cells": [
    {
      "cell_type": "markdown",
      "metadata": {
        "id": "view-in-github"
      },
      "source": [
        "<a href=\"https://colab.research.google.com/github/kgpark88/ai-summary/blob/main/01_Python.ipynb\" target=\"_parent\"><img src=\"https://colab.research.google.com/assets/colab-badge.svg\" alt=\"Open In Colab\"/></a>"
      ]
    },
    {
      "cell_type": "markdown",
      "metadata": {
        "id": "qob5Rv66I5fw"
      },
      "source": [
        "# 파이썬 기본\n",
        "____\n",
        "### 1. 들여쓰기(Indent)\n",
        "### 2. 변수와 연산 \n",
        "\n",
        "### 3. 데이터 타입\n",
        "- 숫자(Number)  \n",
        "- 문자열(String)  \n",
        "- 리스트(List)  \n",
        "- 딕셔너리(Dictionary)  \n",
        "- 불린(Boolean)  \n",
        "- 튜플(Tuple)   \n",
        "- 셋(Set)    \n",
        "\n",
        "### 4. 비교 연산자  \n",
        "- 비교 연산자  \n",
        "- 논리 연산자        \n",
        "\n",
        "### 5. 제어문\n",
        "- for 루프  \n",
        "- while 루프  \n",
        "- range()   \n",
        "\n",
        "### 6. 컴프리헨션(Comprehension)    \n",
        "\n",
        "### 7. 함수(functions)    \n",
        "- 함수\n",
        "- 람다 식(lambda expressions)  \n",
        "- 맵과 필터(map and filter)  \n",
        "- 내장 메서드(methods)    \n",
        "\n",
        "### 8. 클래스    \n",
        "\n",
        "### 9. 파일 핸들링  "
      ]
    },
    {
      "cell_type": "markdown",
      "metadata": {
        "id": "kEgBg2JGI5f1"
      },
      "source": [
        "## 1. 들여쓰기(Indent)\n",
        "코딩을 할 때, 가독성을 위해 들여쓰기(Indent)를 하며,  인덴트(Indent) 사용하여 영역을 지정합니다.(강제사항)  \n",
        "코드 블럭을 구성하기 위해 if, for, def, class 등 을 작성하면서 나오는 : (colone) 다음줄은 반드시 들여쓰기를 해야합니다.   \n",
        "인덴트(Inden) 방법은 2칸, 4칸, 탭(Tab) 등 여러가지 방식이 있으며, Space를 사용한 Tab Size 4를 인덴트로 사용하세요."
      ]
    },
    {
      "cell_type": "markdown",
      "metadata": {
        "id": "valssifxI5f1"
      },
      "source": [
        "### <span style=\"color:blue\">실습 : 들여쓰기(Indent)를 하세요.</span>"
      ]
    },
    {
      "cell_type": "code",
      "metadata": {
        "colab": {
          "base_uri": "https://localhost:8080/"
        },
        "id": "BdiePoErI5f1",
        "outputId": "ed7ca842-0f9d-4930-ab7c-746bc9ebd453"
      },
      "source": [
        "for i in range(10):\n",
        "    print(i)"
      ],
      "execution_count": 159,
      "outputs": [
        {
          "output_type": "stream",
          "name": "stdout",
          "text": [
            "0\n",
            "1\n",
            "2\n",
            "3\n",
            "4\n",
            "5\n",
            "6\n",
            "7\n",
            "8\n",
            "9\n"
          ]
        }
      ]
    },
    {
      "cell_type": "markdown",
      "metadata": {
        "id": "C3_y__YpI5f2"
      },
      "source": [
        "## 2. 변수와 연산\n",
        "\n",
        "변수(Variable)는 숫자나 문자열 등의 값을 담아두는 상자라고 생각하면 된다."
      ]
    },
    {
      "cell_type": "markdown",
      "metadata": {
        "id": "k7d2fyWfI5f3"
      },
      "source": [
        "### 변수 할당(Variable Assignment)"
      ]
    },
    {
      "cell_type": "code",
      "metadata": {
        "id": "73ttup4FI5f3"
      },
      "source": [
        "# 변수를 정의하고 값을 할당\n",
        "x = 2\n",
        "y = 3\n",
        "z = x + y"
      ],
      "execution_count": 160,
      "outputs": []
    },
    {
      "cell_type": "code",
      "metadata": {
        "id": "G9fqpVItI5f3"
      },
      "source": [
        "msg = 'Welcome to Python'"
      ],
      "execution_count": 161,
      "outputs": []
    },
    {
      "cell_type": "markdown",
      "metadata": {
        "id": "iA9mUqb0I5f3"
      },
      "source": [
        "### 변수의 값을 출력"
      ]
    },
    {
      "cell_type": "code",
      "metadata": {
        "colab": {
          "base_uri": "https://localhost:8080/"
        },
        "id": "IrfR36UjI5f4",
        "outputId": "a8a84642-8fab-4194-ca84-3186ee24843e"
      },
      "source": [
        "# 변수의 값을 출력\n",
        "print(x)"
      ],
      "execution_count": 162,
      "outputs": [
        {
          "output_type": "stream",
          "name": "stdout",
          "text": [
            "2\n"
          ]
        }
      ]
    },
    {
      "cell_type": "code",
      "metadata": {
        "colab": {
          "base_uri": "https://localhost:8080/"
        },
        "id": "3shLMCejI5f4",
        "outputId": "909323d5-fc6d-4baf-9065-635eb7526fdd"
      },
      "source": [
        "x"
      ],
      "execution_count": 163,
      "outputs": [
        {
          "output_type": "execute_result",
          "data": {
            "text/plain": [
              "2"
            ]
          },
          "metadata": {},
          "execution_count": 163
        }
      ]
    },
    {
      "cell_type": "code",
      "metadata": {
        "colab": {
          "base_uri": "https://localhost:8080/"
        },
        "id": "MeWW1inMI5f4",
        "outputId": "381bfefe-ca6c-4fcb-b3ef-6c776b8e3e4d"
      },
      "source": [
        "print(msg)"
      ],
      "execution_count": 164,
      "outputs": [
        {
          "output_type": "stream",
          "name": "stdout",
          "text": [
            "Welcome to Python\n"
          ]
        }
      ]
    },
    {
      "cell_type": "markdown",
      "metadata": {
        "id": "V_5yFmd4I5f5"
      },
      "source": [
        "### 변수의 데이터 타입 확인"
      ]
    },
    {
      "cell_type": "code",
      "metadata": {
        "colab": {
          "base_uri": "https://localhost:8080/"
        },
        "id": "GxBXCQL7I5f5",
        "outputId": "2ac801fc-cbcd-4c13-be39-160ed0d6bc61"
      },
      "source": [
        "print(type(x))\n",
        "print(type(msg))"
      ],
      "execution_count": 165,
      "outputs": [
        {
          "output_type": "stream",
          "name": "stdout",
          "text": [
            "<class 'int'>\n",
            "<class 'str'>\n"
          ]
        }
      ]
    },
    {
      "cell_type": "markdown",
      "metadata": {
        "id": "WMPLPw1vI5f5"
      },
      "source": [
        "## 3. 데이터 타입\n",
        "\n",
        "### 숫자(Number)"
      ]
    },
    {
      "cell_type": "code",
      "metadata": {
        "colab": {
          "base_uri": "https://localhost:8080/"
        },
        "id": "-CGaL4vaI5f5",
        "outputId": "198fccb4-2018-4688-f726-a7ae28d896e5"
      },
      "source": [
        "1 + 1"
      ],
      "execution_count": 166,
      "outputs": [
        {
          "output_type": "execute_result",
          "data": {
            "text/plain": [
              "2"
            ]
          },
          "metadata": {},
          "execution_count": 166
        }
      ]
    },
    {
      "cell_type": "code",
      "metadata": {
        "colab": {
          "base_uri": "https://localhost:8080/"
        },
        "id": "EG6zUZYWI5f6",
        "outputId": "4cd0b896-a161-40e7-9b3b-56c63aa6b6f5"
      },
      "source": [
        "1 * 3"
      ],
      "execution_count": 167,
      "outputs": [
        {
          "output_type": "execute_result",
          "data": {
            "text/plain": [
              "3"
            ]
          },
          "metadata": {},
          "execution_count": 167
        }
      ]
    },
    {
      "cell_type": "code",
      "metadata": {
        "colab": {
          "base_uri": "https://localhost:8080/"
        },
        "id": "y9m4Eh-FI5f6",
        "outputId": "6bb7cf98-ba6f-4f24-8031-1a9cd00ca4f2"
      },
      "source": [
        "1 / 2"
      ],
      "execution_count": 168,
      "outputs": [
        {
          "output_type": "execute_result",
          "data": {
            "text/plain": [
              "0.5"
            ]
          },
          "metadata": {},
          "execution_count": 168
        }
      ]
    },
    {
      "cell_type": "code",
      "metadata": {
        "colab": {
          "base_uri": "https://localhost:8080/"
        },
        "id": "iM7vhL8OI5f6",
        "outputId": "8bbc7591-4783-4645-898c-d8bc3d096cad"
      },
      "source": [
        "2 ** 4"
      ],
      "execution_count": 169,
      "outputs": [
        {
          "output_type": "execute_result",
          "data": {
            "text/plain": [
              "16"
            ]
          },
          "metadata": {},
          "execution_count": 169
        }
      ]
    },
    {
      "cell_type": "code",
      "metadata": {
        "colab": {
          "base_uri": "https://localhost:8080/"
        },
        "id": "DLPDQ4xyI5f6",
        "outputId": "d8455ce9-60d4-4c5e-bc5a-1886dcae0f81"
      },
      "source": [
        "4 % 2"
      ],
      "execution_count": 170,
      "outputs": [
        {
          "output_type": "execute_result",
          "data": {
            "text/plain": [
              "0"
            ]
          },
          "metadata": {},
          "execution_count": 170
        }
      ]
    },
    {
      "cell_type": "code",
      "metadata": {
        "colab": {
          "base_uri": "https://localhost:8080/"
        },
        "id": "MJjYVp_DI5f6",
        "outputId": "f960485b-79cc-47d2-c572-819a1d80aed5"
      },
      "source": [
        "5 % 2"
      ],
      "execution_count": 171,
      "outputs": [
        {
          "output_type": "execute_result",
          "data": {
            "text/plain": [
              "1"
            ]
          },
          "metadata": {},
          "execution_count": 171
        }
      ]
    },
    {
      "cell_type": "code",
      "metadata": {
        "colab": {
          "base_uri": "https://localhost:8080/"
        },
        "id": "45zbio7SI5f7",
        "outputId": "b59a6e8b-0678-4c63-e4b3-3cef6ed2b478"
      },
      "source": [
        "(2 + 3) * (5 + 5)"
      ],
      "execution_count": 172,
      "outputs": [
        {
          "output_type": "execute_result",
          "data": {
            "text/plain": [
              "50"
            ]
          },
          "metadata": {},
          "execution_count": 172
        }
      ]
    },
    {
      "cell_type": "markdown",
      "metadata": {
        "id": "z6bNgLEMI5f7"
      },
      "source": [
        "### 문자열(String)"
      ]
    },
    {
      "cell_type": "code",
      "metadata": {
        "colab": {
          "base_uri": "https://localhost:8080/",
          "height": 34
        },
        "id": "f9wlygCiI5f7",
        "outputId": "ba8b603e-5930-4969-ced9-c51022a0be30"
      },
      "source": [
        "'single quotes'"
      ],
      "execution_count": 173,
      "outputs": [
        {
          "output_type": "execute_result",
          "data": {
            "application/vnd.google.colaboratory.intrinsic+json": {
              "type": "string"
            },
            "text/plain": [
              "'single quotes'"
            ]
          },
          "metadata": {},
          "execution_count": 173
        }
      ]
    },
    {
      "cell_type": "code",
      "metadata": {
        "colab": {
          "base_uri": "https://localhost:8080/",
          "height": 34
        },
        "id": "3YP8CZltI5f7",
        "outputId": "61c1bbae-0b34-493a-edff-457ec8661274"
      },
      "source": [
        "\"double quotes\""
      ],
      "execution_count": 174,
      "outputs": [
        {
          "output_type": "execute_result",
          "data": {
            "application/vnd.google.colaboratory.intrinsic+json": {
              "type": "string"
            },
            "text/plain": [
              "'double quotes'"
            ]
          },
          "metadata": {},
          "execution_count": 174
        }
      ]
    },
    {
      "cell_type": "markdown",
      "metadata": {
        "id": "dea9RrWZI5f8"
      },
      "source": [
        "### 출력(Printing)"
      ]
    },
    {
      "cell_type": "code",
      "metadata": {
        "id": "rA9mrUKFI5f8"
      },
      "source": [
        "x = 'hello'"
      ],
      "execution_count": 175,
      "outputs": []
    },
    {
      "cell_type": "code",
      "metadata": {
        "colab": {
          "base_uri": "https://localhost:8080/"
        },
        "id": "jyLNIjSZI5f8",
        "outputId": "601dd5ca-5e20-446f-c979-c8c94d8b66c3"
      },
      "source": [
        "print(x)"
      ],
      "execution_count": 176,
      "outputs": [
        {
          "output_type": "stream",
          "name": "stdout",
          "text": [
            "hello\n"
          ]
        }
      ]
    },
    {
      "cell_type": "code",
      "metadata": {
        "id": "zeu6qGKsI5f8"
      },
      "source": [
        "num = 12\n",
        "name = 'Danny'"
      ],
      "execution_count": 177,
      "outputs": []
    },
    {
      "cell_type": "code",
      "metadata": {
        "colab": {
          "base_uri": "https://localhost:8080/"
        },
        "id": "U_zrY5AwJuzU",
        "outputId": "49023c77-dc03-4e8a-f36f-1745754974a4"
      },
      "source": [
        "print('My number is', num)"
      ],
      "execution_count": 178,
      "outputs": [
        {
          "output_type": "stream",
          "name": "stdout",
          "text": [
            "My number is 12\n"
          ]
        }
      ]
    },
    {
      "cell_type": "code",
      "metadata": {
        "colab": {
          "base_uri": "https://localhost:8080/"
        },
        "id": "Su1SWW-KJzip",
        "outputId": "a767bae4-a697-4925-b7fc-963eca2da91e"
      },
      "source": [
        "print('My number is %d' % num)"
      ],
      "execution_count": 179,
      "outputs": [
        {
          "output_type": "stream",
          "name": "stdout",
          "text": [
            "My number is 12\n"
          ]
        }
      ]
    },
    {
      "cell_type": "code",
      "metadata": {
        "colab": {
          "base_uri": "https://localhost:8080/"
        },
        "id": "hCjD3EexI5f9",
        "outputId": "8d31a475-8fe7-4987-c452-96418d90d543"
      },
      "source": [
        "print('My number is: {}, and my name is: {}'.format(num,name))"
      ],
      "execution_count": 180,
      "outputs": [
        {
          "output_type": "stream",
          "name": "stdout",
          "text": [
            "My number is: 12, and my name is: Danny\n"
          ]
        }
      ]
    },
    {
      "cell_type": "code",
      "metadata": {
        "colab": {
          "base_uri": "https://localhost:8080/"
        },
        "id": "OfvX-X63JlH4",
        "outputId": "096d6276-6267-4e40-aa09-4d7721ef340a"
      },
      "source": [
        "# 권장\n",
        "print(f'My number is: {num}, and my name is: {name}')"
      ],
      "execution_count": 181,
      "outputs": [
        {
          "output_type": "stream",
          "name": "stdout",
          "text": [
            "My number is: 12, and my name is: Danny\n"
          ]
        }
      ]
    },
    {
      "cell_type": "markdown",
      "metadata": {
        "id": "Uv0BPjdMI5f9"
      },
      "source": [
        "### 리스트(List)\n",
        "어떤 데이터 타입이라도 요소를 가질 수 있으면 수정이 가능한 가변형이다."
      ]
    },
    {
      "cell_type": "code",
      "metadata": {
        "colab": {
          "base_uri": "https://localhost:8080/"
        },
        "id": "LcpPjXJoI5f9",
        "outputId": "de67f411-7167-4ff2-f98e-0a6ebcaa5cf1"
      },
      "source": [
        "my_list = [1, 2, 3]\n",
        "my_list"
      ],
      "execution_count": 182,
      "outputs": [
        {
          "output_type": "execute_result",
          "data": {
            "text/plain": [
              "[1, 2, 3]"
            ]
          },
          "metadata": {},
          "execution_count": 182
        }
      ]
    },
    {
      "cell_type": "code",
      "metadata": {
        "colab": {
          "base_uri": "https://localhost:8080/"
        },
        "id": "Jy-DLO25I5f9",
        "outputId": "1b13662f-0701-45be-a5ef-eaabda19ef11"
      },
      "source": [
        "my_list = ['hi', 1, [1, 2]]\n",
        "my_list"
      ],
      "execution_count": 183,
      "outputs": [
        {
          "output_type": "execute_result",
          "data": {
            "text/plain": [
              "['hi', 1, [1, 2]]"
            ]
          },
          "metadata": {},
          "execution_count": 183
        }
      ]
    },
    {
      "cell_type": "code",
      "metadata": {
        "id": "sEG9I1p-I5f9"
      },
      "source": [
        "my_list = ['a', 'b', 'c']"
      ],
      "execution_count": 184,
      "outputs": []
    },
    {
      "cell_type": "code",
      "metadata": {
        "id": "zmi0w_Y2I5f-"
      },
      "source": [
        "my_list.append('d')"
      ],
      "execution_count": 185,
      "outputs": []
    },
    {
      "cell_type": "code",
      "metadata": {
        "colab": {
          "base_uri": "https://localhost:8080/"
        },
        "id": "xNhDQZ6UI5f-",
        "outputId": "b4208aa2-2805-4135-83e8-cfb296594390"
      },
      "source": [
        "my_list"
      ],
      "execution_count": 186,
      "outputs": [
        {
          "output_type": "execute_result",
          "data": {
            "text/plain": [
              "['a', 'b', 'c', 'd']"
            ]
          },
          "metadata": {},
          "execution_count": 186
        }
      ]
    },
    {
      "cell_type": "code",
      "metadata": {
        "colab": {
          "base_uri": "https://localhost:8080/",
          "height": 0
        },
        "id": "c02afWZyI5f-",
        "outputId": "b12fe6e1-3d49-450d-b6c3-2b1e699daf96"
      },
      "source": [
        "my_list[0]"
      ],
      "execution_count": 187,
      "outputs": [
        {
          "output_type": "execute_result",
          "data": {
            "application/vnd.google.colaboratory.intrinsic+json": {
              "type": "string"
            },
            "text/plain": [
              "'a'"
            ]
          },
          "metadata": {},
          "execution_count": 187
        }
      ]
    },
    {
      "cell_type": "code",
      "metadata": {
        "colab": {
          "base_uri": "https://localhost:8080/",
          "height": 0
        },
        "id": "DmMwMnd6I5f-",
        "outputId": "2411e062-6aff-4225-c95c-51cad01c8b3f"
      },
      "source": [
        "my_list[1]"
      ],
      "execution_count": 188,
      "outputs": [
        {
          "output_type": "execute_result",
          "data": {
            "application/vnd.google.colaboratory.intrinsic+json": {
              "type": "string"
            },
            "text/plain": [
              "'b'"
            ]
          },
          "metadata": {},
          "execution_count": 188
        }
      ]
    },
    {
      "cell_type": "code",
      "metadata": {
        "colab": {
          "base_uri": "https://localhost:8080/"
        },
        "id": "JYm-u9IaI5f-",
        "outputId": "13356e8b-7f83-4575-fcc9-a3629c91a0e0"
      },
      "source": [
        "my_list[1:]"
      ],
      "execution_count": 189,
      "outputs": [
        {
          "output_type": "execute_result",
          "data": {
            "text/plain": [
              "['b', 'c', 'd']"
            ]
          },
          "metadata": {},
          "execution_count": 189
        }
      ]
    },
    {
      "cell_type": "code",
      "metadata": {
        "colab": {
          "base_uri": "https://localhost:8080/"
        },
        "id": "VS7p6wpMI5f-",
        "outputId": "f228d2f1-fed7-4b87-9c56-5934ab9c49d8"
      },
      "source": [
        "my_list[:1]"
      ],
      "execution_count": 190,
      "outputs": [
        {
          "output_type": "execute_result",
          "data": {
            "text/plain": [
              "['a']"
            ]
          },
          "metadata": {},
          "execution_count": 190
        }
      ]
    },
    {
      "cell_type": "code",
      "metadata": {
        "id": "JjK2U6jAI5f_"
      },
      "source": [
        "my_list[0] = 'NEW'"
      ],
      "execution_count": 191,
      "outputs": []
    },
    {
      "cell_type": "code",
      "metadata": {
        "colab": {
          "base_uri": "https://localhost:8080/"
        },
        "id": "VscKGwOGI5f_",
        "outputId": "27a57c41-4bbe-4821-8fb2-38b33a053b76"
      },
      "source": [
        "my_list"
      ],
      "execution_count": 192,
      "outputs": [
        {
          "output_type": "execute_result",
          "data": {
            "text/plain": [
              "['NEW', 'b', 'c', 'd']"
            ]
          },
          "metadata": {},
          "execution_count": 192
        }
      ]
    },
    {
      "cell_type": "code",
      "metadata": {
        "id": "uILyO4VhI5f_"
      },
      "source": [
        "nest = [1,2,3,[4,5,['target']]]"
      ],
      "execution_count": 193,
      "outputs": []
    },
    {
      "cell_type": "code",
      "metadata": {
        "colab": {
          "base_uri": "https://localhost:8080/"
        },
        "id": "axbi4HJKI5f_",
        "outputId": "f3092c7f-95eb-478d-a0cb-492f804daa10"
      },
      "source": [
        "nest[3]"
      ],
      "execution_count": 194,
      "outputs": [
        {
          "output_type": "execute_result",
          "data": {
            "text/plain": [
              "[4, 5, ['target']]"
            ]
          },
          "metadata": {},
          "execution_count": 194
        }
      ]
    },
    {
      "cell_type": "code",
      "metadata": {
        "colab": {
          "base_uri": "https://localhost:8080/"
        },
        "id": "HuGfWvs0I5f_",
        "outputId": "31df6905-0eca-49d3-d7b9-7dc4921ce139"
      },
      "source": [
        "nest[3][2]"
      ],
      "execution_count": 195,
      "outputs": [
        {
          "output_type": "execute_result",
          "data": {
            "text/plain": [
              "['target']"
            ]
          },
          "metadata": {},
          "execution_count": 195
        }
      ]
    },
    {
      "cell_type": "code",
      "metadata": {
        "colab": {
          "base_uri": "https://localhost:8080/",
          "height": 0
        },
        "id": "pO8f4DMFI5gA",
        "outputId": "11d03996-0533-4aa0-a303-0a97c9060338"
      },
      "source": [
        "nest[3][2][0]"
      ],
      "execution_count": 196,
      "outputs": [
        {
          "output_type": "execute_result",
          "data": {
            "application/vnd.google.colaboratory.intrinsic+json": {
              "type": "string"
            },
            "text/plain": [
              "'target'"
            ]
          },
          "metadata": {},
          "execution_count": 196
        }
      ]
    },
    {
      "cell_type": "markdown",
      "metadata": {
        "id": "IPo94BssI5gA"
      },
      "source": [
        "### 딕셔너리(Dictionary)\n",
        "key-value 쌍을 요소로 갖는다. 수정이 가능한 가변형이다."
      ]
    },
    {
      "cell_type": "code",
      "metadata": {
        "id": "8W-9mkmnI5gA"
      },
      "source": [
        "d = {'key1':'item1','key2':'item2'}"
      ],
      "execution_count": 197,
      "outputs": []
    },
    {
      "cell_type": "code",
      "metadata": {
        "colab": {
          "base_uri": "https://localhost:8080/"
        },
        "id": "2zEENEcWI5gA",
        "outputId": "1cb9062f-d08d-4190-8f20-3fbdf4135b62"
      },
      "source": [
        "d"
      ],
      "execution_count": 198,
      "outputs": [
        {
          "output_type": "execute_result",
          "data": {
            "text/plain": [
              "{'key1': 'item1', 'key2': 'item2'}"
            ]
          },
          "metadata": {},
          "execution_count": 198
        }
      ]
    },
    {
      "cell_type": "code",
      "metadata": {
        "colab": {
          "base_uri": "https://localhost:8080/",
          "height": 34
        },
        "id": "P1kGT4B-I5gA",
        "outputId": "781895a3-e1eb-4157-b668-647e9989a54c"
      },
      "source": [
        "d['key1']"
      ],
      "execution_count": 199,
      "outputs": [
        {
          "output_type": "execute_result",
          "data": {
            "application/vnd.google.colaboratory.intrinsic+json": {
              "type": "string"
            },
            "text/plain": [
              "'item1'"
            ]
          },
          "metadata": {},
          "execution_count": 199
        }
      ]
    },
    {
      "cell_type": "markdown",
      "metadata": {
        "id": "tJSECFMYI5gA"
      },
      "source": [
        "### 불린(Boolean)"
      ]
    },
    {
      "cell_type": "code",
      "metadata": {
        "colab": {
          "base_uri": "https://localhost:8080/"
        },
        "id": "4R8g2X-kI5gB",
        "outputId": "ea13bebc-b9f5-4b52-d2a8-0a24b2ac8e49"
      },
      "source": [
        "True"
      ],
      "execution_count": 200,
      "outputs": [
        {
          "output_type": "execute_result",
          "data": {
            "text/plain": [
              "True"
            ]
          },
          "metadata": {},
          "execution_count": 200
        }
      ]
    },
    {
      "cell_type": "code",
      "metadata": {
        "colab": {
          "base_uri": "https://localhost:8080/"
        },
        "id": "RZN9PKLaI5gB",
        "outputId": "018a42ba-f0d9-47a7-8e4b-f632f83e966e"
      },
      "source": [
        "False"
      ],
      "execution_count": 201,
      "outputs": [
        {
          "output_type": "execute_result",
          "data": {
            "text/plain": [
              "False"
            ]
          },
          "metadata": {},
          "execution_count": 201
        }
      ]
    },
    {
      "cell_type": "markdown",
      "metadata": {
        "id": "m57JicXZI5gB"
      },
      "source": [
        "### 튜플(Tuple)\n",
        "리스트는 그 값의 생성, 삭제, 수정이 가능하지만 튜플은 그 값을 바꿀 수 없는 불변형이다."
      ]
    },
    {
      "cell_type": "code",
      "metadata": {
        "id": "yMEBkWeXI5gB"
      },
      "source": [
        "t = (1,2,3)"
      ],
      "execution_count": 202,
      "outputs": []
    },
    {
      "cell_type": "code",
      "metadata": {
        "colab": {
          "base_uri": "https://localhost:8080/"
        },
        "id": "uzHtuzbbI5gB",
        "outputId": "592b2322-f2ad-4266-cfd9-6acd4267d72e"
      },
      "source": [
        "t[0]"
      ],
      "execution_count": 203,
      "outputs": [
        {
          "output_type": "execute_result",
          "data": {
            "text/plain": [
              "1"
            ]
          },
          "metadata": {},
          "execution_count": 203
        }
      ]
    },
    {
      "cell_type": "code",
      "metadata": {
        "id": "HsaACSnhI5gC"
      },
      "source": [
        "#t[0] = 'NEW'"
      ],
      "execution_count": 204,
      "outputs": []
    },
    {
      "cell_type": "markdown",
      "metadata": {
        "id": "V4-0S113I5gC"
      },
      "source": [
        "### 셋(Set)\n",
        "집합에 관련된 것을 쉽게 처리하기 위해 만든 자료형이다."
      ]
    },
    {
      "cell_type": "code",
      "metadata": {
        "colab": {
          "base_uri": "https://localhost:8080/"
        },
        "id": "9hptgj3SI5gC",
        "outputId": "c3167208-2634-499b-e89e-6735ff8e532c"
      },
      "source": [
        "s = {1,2,3}\n",
        "s"
      ],
      "execution_count": 205,
      "outputs": [
        {
          "output_type": "execute_result",
          "data": {
            "text/plain": [
              "{1, 2, 3}"
            ]
          },
          "metadata": {},
          "execution_count": 205
        }
      ]
    },
    {
      "cell_type": "code",
      "metadata": {
        "colab": {
          "base_uri": "https://localhost:8080/"
        },
        "id": "XNmziimxI5gC",
        "outputId": "8b3834e2-0031-46a2-9e24-01962832dd32"
      },
      "source": [
        "s = {1,2,3,1,2,1,2,3,3,3,3,2,2,2,1,1,2}\n",
        "s"
      ],
      "execution_count": 206,
      "outputs": [
        {
          "output_type": "execute_result",
          "data": {
            "text/plain": [
              "{1, 2, 3}"
            ]
          },
          "metadata": {},
          "execution_count": 206
        }
      ]
    },
    {
      "cell_type": "code",
      "metadata": {
        "colab": {
          "base_uri": "https://localhost:8080/"
        },
        "id": "G85kFRaXI5gC",
        "outputId": "d902ffdc-a0ab-4c78-9f71-623886732bc6"
      },
      "source": [
        "s = set([1,2,3])\n",
        "s"
      ],
      "execution_count": 207,
      "outputs": [
        {
          "output_type": "execute_result",
          "data": {
            "text/plain": [
              "{1, 2, 3}"
            ]
          },
          "metadata": {},
          "execution_count": 207
        }
      ]
    },
    {
      "cell_type": "markdown",
      "metadata": {
        "id": "1LYRVGOZI5gC"
      },
      "source": [
        "## 4. 연산자\n",
        "### 비교 연산자(Comparison Operator)"
      ]
    },
    {
      "cell_type": "code",
      "metadata": {
        "colab": {
          "base_uri": "https://localhost:8080/"
        },
        "id": "dDzlFqUMI5gD",
        "outputId": "4cfc923e-57b8-477d-d921-d4483751ae95"
      },
      "source": [
        "1 > 2"
      ],
      "execution_count": 208,
      "outputs": [
        {
          "output_type": "execute_result",
          "data": {
            "text/plain": [
              "False"
            ]
          },
          "metadata": {},
          "execution_count": 208
        }
      ]
    },
    {
      "cell_type": "code",
      "metadata": {
        "colab": {
          "base_uri": "https://localhost:8080/"
        },
        "id": "CS97paO0I5gD",
        "outputId": "3ba82d43-0974-49e6-9d3a-c0e6b571859b"
      },
      "source": [
        "1 < 2"
      ],
      "execution_count": 209,
      "outputs": [
        {
          "output_type": "execute_result",
          "data": {
            "text/plain": [
              "True"
            ]
          },
          "metadata": {},
          "execution_count": 209
        }
      ]
    },
    {
      "cell_type": "code",
      "metadata": {
        "colab": {
          "base_uri": "https://localhost:8080/"
        },
        "id": "YKW2vu1KI5gD",
        "outputId": "8f5d760e-0cb5-403a-dc88-490588c58593"
      },
      "source": [
        "1 >= 1"
      ],
      "execution_count": 210,
      "outputs": [
        {
          "output_type": "execute_result",
          "data": {
            "text/plain": [
              "True"
            ]
          },
          "metadata": {},
          "execution_count": 210
        }
      ]
    },
    {
      "cell_type": "code",
      "metadata": {
        "colab": {
          "base_uri": "https://localhost:8080/"
        },
        "id": "EiNaiuz6I5gD",
        "outputId": "27c73f3e-ef58-4f24-ff69-45e37e42236f"
      },
      "source": [
        "1 <= 4"
      ],
      "execution_count": 211,
      "outputs": [
        {
          "output_type": "execute_result",
          "data": {
            "text/plain": [
              "True"
            ]
          },
          "metadata": {},
          "execution_count": 211
        }
      ]
    },
    {
      "cell_type": "code",
      "metadata": {
        "colab": {
          "base_uri": "https://localhost:8080/"
        },
        "id": "H2A3g-frI5gD",
        "outputId": "33b114a7-f868-40bb-f839-bb497af6d699"
      },
      "source": [
        "1 == 1"
      ],
      "execution_count": 212,
      "outputs": [
        {
          "output_type": "execute_result",
          "data": {
            "text/plain": [
              "True"
            ]
          },
          "metadata": {},
          "execution_count": 212
        }
      ]
    },
    {
      "cell_type": "code",
      "metadata": {
        "colab": {
          "base_uri": "https://localhost:8080/"
        },
        "id": "8My0qSrCI5gE",
        "outputId": "0cf1112f-d15b-4387-d5ff-36c1ea208523"
      },
      "source": [
        "'hi' == 'bye'"
      ],
      "execution_count": 213,
      "outputs": [
        {
          "output_type": "execute_result",
          "data": {
            "text/plain": [
              "False"
            ]
          },
          "metadata": {},
          "execution_count": 213
        }
      ]
    },
    {
      "cell_type": "markdown",
      "metadata": {
        "id": "U8FKdioDI5gE"
      },
      "source": [
        "### 논리 연산자(Logic Operator)"
      ]
    },
    {
      "cell_type": "code",
      "metadata": {
        "colab": {
          "base_uri": "https://localhost:8080/"
        },
        "id": "hR7ZdokRI5gE",
        "outputId": "b671c96e-a0d7-4008-81d4-adf6603cddc5"
      },
      "source": [
        "(1 > 2) and (2 < 3)"
      ],
      "execution_count": 214,
      "outputs": [
        {
          "output_type": "execute_result",
          "data": {
            "text/plain": [
              "False"
            ]
          },
          "metadata": {},
          "execution_count": 214
        }
      ]
    },
    {
      "cell_type": "code",
      "metadata": {
        "colab": {
          "base_uri": "https://localhost:8080/"
        },
        "id": "i-XjKXq_I5gE",
        "outputId": "b7bc8f47-3be1-4ccb-9ce1-db00b7aa2243"
      },
      "source": [
        "(1 > 2) or (2 < 3)"
      ],
      "execution_count": 215,
      "outputs": [
        {
          "output_type": "execute_result",
          "data": {
            "text/plain": [
              "True"
            ]
          },
          "metadata": {},
          "execution_count": 215
        }
      ]
    },
    {
      "cell_type": "code",
      "metadata": {
        "colab": {
          "base_uri": "https://localhost:8080/"
        },
        "id": "O5LzkWmqI5gE",
        "outputId": "6ea83744-d568-41e5-a286-dc4043d59cab"
      },
      "source": [
        "(1 == 2) or (2 == 3) or (4 == 4)"
      ],
      "execution_count": 216,
      "outputs": [
        {
          "output_type": "execute_result",
          "data": {
            "text/plain": [
              "True"
            ]
          },
          "metadata": {},
          "execution_count": 216
        }
      ]
    },
    {
      "cell_type": "markdown",
      "metadata": {
        "id": "pQgqhAy2I5gE"
      },
      "source": [
        "## 5. 제어문\n",
        "### if,elif, else 제어문(Statement)"
      ]
    },
    {
      "cell_type": "code",
      "metadata": {
        "colab": {
          "base_uri": "https://localhost:8080/"
        },
        "id": "pxUgwKODI5gF",
        "outputId": "fb099b3e-6a08-4557-fa10-569defad22d8"
      },
      "source": [
        "if 1 < 2:\n",
        "    print('Yep!')"
      ],
      "execution_count": 217,
      "outputs": [
        {
          "output_type": "stream",
          "name": "stdout",
          "text": [
            "Yep!\n"
          ]
        }
      ]
    },
    {
      "cell_type": "code",
      "metadata": {
        "colab": {
          "base_uri": "https://localhost:8080/"
        },
        "id": "doJBuhHNI5gF",
        "outputId": "925e303b-82a3-4ffa-bcf5-19200b54ed5d"
      },
      "source": [
        "if 1 < 2:\n",
        "    print('yep!')"
      ],
      "execution_count": 218,
      "outputs": [
        {
          "output_type": "stream",
          "name": "stdout",
          "text": [
            "yep!\n"
          ]
        }
      ]
    },
    {
      "cell_type": "code",
      "metadata": {
        "colab": {
          "base_uri": "https://localhost:8080/"
        },
        "id": "_wIueP5nI5gF",
        "outputId": "daac4734-dcbf-4754-9a7c-8cd8dec236ad"
      },
      "source": [
        "if 1 < 2:\n",
        "    print('first')\n",
        "else:\n",
        "    print('last')"
      ],
      "execution_count": 219,
      "outputs": [
        {
          "output_type": "stream",
          "name": "stdout",
          "text": [
            "first\n"
          ]
        }
      ]
    },
    {
      "cell_type": "code",
      "metadata": {
        "colab": {
          "base_uri": "https://localhost:8080/"
        },
        "id": "XYyfUFMRI5gF",
        "outputId": "54730655-ed89-4ac2-e20a-d46409ded830"
      },
      "source": [
        "if 1 > 2:\n",
        "    print('first')\n",
        "else:\n",
        "    print('last')"
      ],
      "execution_count": 220,
      "outputs": [
        {
          "output_type": "stream",
          "name": "stdout",
          "text": [
            "last\n"
          ]
        }
      ]
    },
    {
      "cell_type": "code",
      "metadata": {
        "colab": {
          "base_uri": "https://localhost:8080/"
        },
        "id": "ZOiOBbTdI5gF",
        "outputId": "64787971-3718-4e94-d12d-4c37374a4aea"
      },
      "source": [
        "if 1 == 2:\n",
        "    print('first')\n",
        "elif 3 == 3:\n",
        "    print('middle')\n",
        "else:\n",
        "    print('Last')"
      ],
      "execution_count": 221,
      "outputs": [
        {
          "output_type": "stream",
          "name": "stdout",
          "text": [
            "middle\n"
          ]
        }
      ]
    },
    {
      "cell_type": "markdown",
      "metadata": {
        "id": "qmRzCcZbI5gG"
      },
      "source": [
        "## for 루프(Loop)"
      ]
    },
    {
      "cell_type": "code",
      "metadata": {
        "id": "65f_w6r2I5gG"
      },
      "source": [
        "seq = [1,2,3,4,5]"
      ],
      "execution_count": 222,
      "outputs": []
    },
    {
      "cell_type": "code",
      "metadata": {
        "colab": {
          "base_uri": "https://localhost:8080/"
        },
        "id": "GLxHroGRI5gG",
        "scrolled": true,
        "outputId": "7adba1de-f693-4ec0-9e4e-2cfec99bca91"
      },
      "source": [
        "for item in seq:\n",
        "    print(item)"
      ],
      "execution_count": 223,
      "outputs": [
        {
          "output_type": "stream",
          "name": "stdout",
          "text": [
            "1\n",
            "2\n",
            "3\n",
            "4\n",
            "5\n"
          ]
        }
      ]
    },
    {
      "cell_type": "code",
      "metadata": {
        "colab": {
          "base_uri": "https://localhost:8080/"
        },
        "id": "R2EUpH92I5gG",
        "outputId": "4402588a-3629-414c-a23b-f5866ce610dd"
      },
      "source": [
        "for item in seq:\n",
        "    print(item+item)"
      ],
      "execution_count": 224,
      "outputs": [
        {
          "output_type": "stream",
          "name": "stdout",
          "text": [
            "2\n",
            "4\n",
            "6\n",
            "8\n",
            "10\n"
          ]
        }
      ]
    },
    {
      "cell_type": "markdown",
      "metadata": {
        "id": "BELPo0YfI5gG"
      },
      "source": [
        "## while 루프(Loop)"
      ]
    },
    {
      "cell_type": "code",
      "metadata": {
        "colab": {
          "base_uri": "https://localhost:8080/"
        },
        "id": "KVyVfEsoI5gH",
        "scrolled": true,
        "outputId": "fcfd71bc-6fdf-4421-8da2-1efbaafb3032"
      },
      "source": [
        "i = 1\n",
        "while i < 5:\n",
        "    print('i is: {}'.format(i))\n",
        "    i = i+1"
      ],
      "execution_count": 225,
      "outputs": [
        {
          "output_type": "stream",
          "name": "stdout",
          "text": [
            "i is: 1\n",
            "i is: 2\n",
            "i is: 3\n",
            "i is: 4\n"
          ]
        }
      ]
    },
    {
      "cell_type": "markdown",
      "metadata": {
        "id": "gMiIKGL4I5gH"
      },
      "source": [
        "## range()"
      ]
    },
    {
      "cell_type": "code",
      "metadata": {
        "colab": {
          "base_uri": "https://localhost:8080/"
        },
        "id": "WkEYRoEBI5gH",
        "outputId": "91813b2b-d66d-4e02-9f8c-ce2a44842244"
      },
      "source": [
        "range(5)"
      ],
      "execution_count": 226,
      "outputs": [
        {
          "output_type": "execute_result",
          "data": {
            "text/plain": [
              "range(0, 5)"
            ]
          },
          "metadata": {},
          "execution_count": 226
        }
      ]
    },
    {
      "cell_type": "code",
      "metadata": {
        "colab": {
          "base_uri": "https://localhost:8080/"
        },
        "id": "HL3KVTh8I5gI",
        "outputId": "876aa444-9f18-48f8-aa52-1832fda56a0b"
      },
      "source": [
        "for i in range(5):\n",
        "    print(i)"
      ],
      "execution_count": 227,
      "outputs": [
        {
          "output_type": "stream",
          "name": "stdout",
          "text": [
            "0\n",
            "1\n",
            "2\n",
            "3\n",
            "4\n"
          ]
        }
      ]
    },
    {
      "cell_type": "code",
      "metadata": {
        "colab": {
          "base_uri": "https://localhost:8080/"
        },
        "id": "Is_MsOVUI5gI",
        "outputId": "68be31bb-cf25-4f61-f0ed-8e35b7bd5ee9"
      },
      "source": [
        "list(range(5))"
      ],
      "execution_count": 228,
      "outputs": [
        {
          "output_type": "execute_result",
          "data": {
            "text/plain": [
              "[0, 1, 2, 3, 4]"
            ]
          },
          "metadata": {},
          "execution_count": 228
        }
      ]
    },
    {
      "cell_type": "markdown",
      "metadata": {
        "id": "wz1z7qxdI5gI"
      },
      "source": [
        "## 6. 컴프리헨션(Comprehension)\n",
        "입력 Sequence로부터 새로운 데이터를 만드는 방법으로 제어문보다 간결하게 코드를 작성할 수 있게 한다. "
      ]
    },
    {
      "cell_type": "code",
      "metadata": {
        "id": "zxSULvCxI5gI"
      },
      "source": [
        "x = [1,2,3,4]"
      ],
      "execution_count": 229,
      "outputs": []
    },
    {
      "cell_type": "code",
      "metadata": {
        "colab": {
          "base_uri": "https://localhost:8080/"
        },
        "id": "cVWqybd6I5gJ",
        "scrolled": true,
        "outputId": "d030d4c4-49d4-41fa-f0e9-b674c9c57d91"
      },
      "source": [
        "out = []\n",
        "for item in x:\n",
        "    out.append(item**2)\n",
        "print(out)"
      ],
      "execution_count": 230,
      "outputs": [
        {
          "output_type": "stream",
          "name": "stdout",
          "text": [
            "[1, 4, 9, 16]\n"
          ]
        }
      ]
    },
    {
      "cell_type": "markdown",
      "metadata": {
        "id": "4G8yaH5wI5gJ"
      },
      "source": [
        "### List comprehension\n",
        "입력 Sequence로부터 지정된 표현식에 따라 새로운 리스트를 만드는 것으로, 아래와 같은 문법을 갖는다.   \n",
        "```python\n",
        "[ 출력표현식 for 요소 in 입력Sequence [if 조건식] ]\n",
        "```"
      ]
    },
    {
      "cell_type": "code",
      "metadata": {
        "colab": {
          "base_uri": "https://localhost:8080/"
        },
        "id": "1F5iH2qkI5gJ",
        "outputId": "5e00188f-d803-4bfa-bf9f-60d3a11dbae8"
      },
      "source": [
        "[ item**2 for item in x ]"
      ],
      "execution_count": 231,
      "outputs": [
        {
          "output_type": "execute_result",
          "data": {
            "text/plain": [
              "[1, 4, 9, 16]"
            ]
          },
          "metadata": {},
          "execution_count": 231
        }
      ]
    },
    {
      "cell_type": "markdown",
      "metadata": {
        "id": "2otZ0dF-I5gJ"
      },
      "source": [
        "### Dictionary Comprehension\n",
        "입력 Sequence로부터 지정된 표현식에 따라 새로운 Dictionary를 만드는 것으로, 아래와 같은 문법을 갖는다.  \n",
        "```python\n",
        "{ Key:Value for 요소 in 입력Sequence [if 조건식] }\n",
        "```"
      ]
    },
    {
      "cell_type": "code",
      "metadata": {
        "colab": {
          "base_uri": "https://localhost:8080/"
        },
        "id": "gWCexqSgI5gK",
        "outputId": "e3cd22bf-263e-4bc6-8154-992c2dd84ee5"
      },
      "source": [
        "fruit = {'Apple': '사과', 'Banana': '바나나', 'Orange': '오렌지'}\n",
        "c = { v:k for k,v in fruit.items() } \n",
        "print(c)"
      ],
      "execution_count": 232,
      "outputs": [
        {
          "output_type": "stream",
          "name": "stdout",
          "text": [
            "{'사과': 'Apple', '바나나': 'Banana', '오렌지': 'Orange'}\n"
          ]
        }
      ]
    },
    {
      "cell_type": "markdown",
      "metadata": {
        "id": "BmvLRsa5I5gK"
      },
      "source": [
        "## 7. 함수"
      ]
    },
    {
      "cell_type": "markdown",
      "metadata": {
        "id": "AOPoyjqII5gK"
      },
      "source": [
        "### 함수(function)\n",
        "자주 실행되는 코드를 함수로 작성해두고 이 함수를 호출하는 형태로 사용하면 편리하다."
      ]
    },
    {
      "cell_type": "code",
      "metadata": {
        "id": "D8R_IceFI5gK"
      },
      "source": [
        "def my_func(param1='default'):\n",
        "    print(param1)"
      ],
      "execution_count": 233,
      "outputs": []
    },
    {
      "cell_type": "code",
      "metadata": {
        "colab": {
          "base_uri": "https://localhost:8080/"
        },
        "id": "T6vyOYRqI5gK",
        "outputId": "849130c2-8be4-415a-85b0-6007e58dab90"
      },
      "source": [
        "my_func"
      ],
      "execution_count": 234,
      "outputs": [
        {
          "output_type": "execute_result",
          "data": {
            "text/plain": [
              "<function __main__.my_func>"
            ]
          },
          "metadata": {},
          "execution_count": 234
        }
      ]
    },
    {
      "cell_type": "code",
      "metadata": {
        "colab": {
          "base_uri": "https://localhost:8080/"
        },
        "id": "aVFYpJCBI5gL",
        "outputId": "526d5ed2-c6e6-449b-9f15-0776455e24b2"
      },
      "source": [
        "my_func()"
      ],
      "execution_count": 235,
      "outputs": [
        {
          "output_type": "stream",
          "name": "stdout",
          "text": [
            "default\n"
          ]
        }
      ]
    },
    {
      "cell_type": "code",
      "metadata": {
        "colab": {
          "base_uri": "https://localhost:8080/"
        },
        "id": "LUIKo3HII5gL",
        "outputId": "c9a9e681-af8d-4546-b61c-0e765cff47c3"
      },
      "source": [
        "my_func('new param')"
      ],
      "execution_count": 236,
      "outputs": [
        {
          "output_type": "stream",
          "name": "stdout",
          "text": [
            "new param\n"
          ]
        }
      ]
    },
    {
      "cell_type": "code",
      "metadata": {
        "colab": {
          "base_uri": "https://localhost:8080/"
        },
        "id": "rCCB51vEI5gL",
        "scrolled": true,
        "outputId": "b569e306-d948-44a3-a708-1318b9bdebd5"
      },
      "source": [
        "my_func(param1='new param')"
      ],
      "execution_count": 237,
      "outputs": [
        {
          "output_type": "stream",
          "name": "stdout",
          "text": [
            "new param\n"
          ]
        }
      ]
    },
    {
      "cell_type": "code",
      "metadata": {
        "id": "QDeT_DggI5gL"
      },
      "source": [
        "def square(x):\n",
        "    return x**2"
      ],
      "execution_count": 238,
      "outputs": []
    },
    {
      "cell_type": "code",
      "metadata": {
        "id": "ycZeWnXgI5gL"
      },
      "source": [
        "out = square(2)"
      ],
      "execution_count": 239,
      "outputs": []
    },
    {
      "cell_type": "code",
      "metadata": {
        "colab": {
          "base_uri": "https://localhost:8080/"
        },
        "id": "eH4FcjtbI5gL",
        "scrolled": true,
        "outputId": "6bf9a9a0-1642-44a5-d4b1-1b623c423d08"
      },
      "source": [
        "print(out)"
      ],
      "execution_count": 240,
      "outputs": [
        {
          "output_type": "stream",
          "name": "stdout",
          "text": [
            "4\n"
          ]
        }
      ]
    },
    {
      "cell_type": "markdown",
      "metadata": {
        "id": "7_V2L636I5gM"
      },
      "source": [
        "### 람다 식(lambda expression)으로 함수 만들기"
      ]
    },
    {
      "cell_type": "code",
      "metadata": {
        "id": "_3Lj6tEcI5gM"
      },
      "source": [
        "def times2(var):\n",
        "    return var*2"
      ],
      "execution_count": 241,
      "outputs": []
    },
    {
      "cell_type": "code",
      "metadata": {
        "colab": {
          "base_uri": "https://localhost:8080/"
        },
        "id": "_lN7sEHGI5gM",
        "outputId": "39271c12-ba6f-4206-ac54-fc0c97139217"
      },
      "source": [
        "times2(2)"
      ],
      "execution_count": 242,
      "outputs": [
        {
          "output_type": "execute_result",
          "data": {
            "text/plain": [
              "4"
            ]
          },
          "metadata": {},
          "execution_count": 242
        }
      ]
    },
    {
      "cell_type": "code",
      "metadata": {
        "id": "koBBGAiII5gM"
      },
      "source": [
        "t2 = lambda var: var*2"
      ],
      "execution_count": 243,
      "outputs": []
    },
    {
      "cell_type": "code",
      "metadata": {
        "colab": {
          "base_uri": "https://localhost:8080/"
        },
        "id": "-gngj6c2I5gM",
        "outputId": "c8fb2220-6a8d-4f1c-9f68-a551717af5f2"
      },
      "source": [
        "t2(3)"
      ],
      "execution_count": 244,
      "outputs": [
        {
          "output_type": "execute_result",
          "data": {
            "text/plain": [
              "6"
            ]
          },
          "metadata": {},
          "execution_count": 244
        }
      ]
    },
    {
      "cell_type": "markdown",
      "metadata": {
        "id": "mqGf4FEuI5gM"
      },
      "source": [
        "### 맵, 필터(map and filter)"
      ]
    },
    {
      "cell_type": "code",
      "metadata": {
        "id": "FmO-nKadI5gN"
      },
      "source": [
        "seq = [1, 2, 3, 4, 5]"
      ],
      "execution_count": 245,
      "outputs": []
    },
    {
      "cell_type": "code",
      "metadata": {
        "colab": {
          "base_uri": "https://localhost:8080/"
        },
        "id": "C9psNZp9I5gN",
        "outputId": "2f3e4437-56d0-42d4-9951-1d7462bbce12"
      },
      "source": [
        "map(times2, seq)"
      ],
      "execution_count": 246,
      "outputs": [
        {
          "output_type": "execute_result",
          "data": {
            "text/plain": [
              "<map at 0x7f452fbfde90>"
            ]
          },
          "metadata": {},
          "execution_count": 246
        }
      ]
    },
    {
      "cell_type": "code",
      "metadata": {
        "colab": {
          "base_uri": "https://localhost:8080/"
        },
        "id": "gaB3UORSI5gN",
        "outputId": "7327dee7-369f-4fb5-b66f-071954dcf4af"
      },
      "source": [
        "list(map(times2, seq))"
      ],
      "execution_count": 247,
      "outputs": [
        {
          "output_type": "execute_result",
          "data": {
            "text/plain": [
              "[2, 4, 6, 8, 10]"
            ]
          },
          "metadata": {},
          "execution_count": 247
        }
      ]
    },
    {
      "cell_type": "code",
      "metadata": {
        "colab": {
          "base_uri": "https://localhost:8080/"
        },
        "id": "amoQqti0I5gN",
        "outputId": "8def96c7-0f3b-4edc-8541-9217bad0dc09"
      },
      "source": [
        "list(map(lambda var: var*2, seq))"
      ],
      "execution_count": 248,
      "outputs": [
        {
          "output_type": "execute_result",
          "data": {
            "text/plain": [
              "[2, 4, 6, 8, 10]"
            ]
          },
          "metadata": {},
          "execution_count": 248
        }
      ]
    },
    {
      "cell_type": "code",
      "metadata": {
        "colab": {
          "base_uri": "https://localhost:8080/"
        },
        "id": "NclfKQr5I5gN",
        "outputId": "f6f22d09-a386-453d-eb0a-85a2c8917a98"
      },
      "source": [
        "filter(lambda item: item%2 == 0, seq)"
      ],
      "execution_count": 249,
      "outputs": [
        {
          "output_type": "execute_result",
          "data": {
            "text/plain": [
              "<filter at 0x7f452fc159d0>"
            ]
          },
          "metadata": {},
          "execution_count": 249
        }
      ]
    },
    {
      "cell_type": "code",
      "metadata": {
        "colab": {
          "base_uri": "https://localhost:8080/"
        },
        "id": "nX0Fl2h6I5gO",
        "outputId": "fb54684f-43a6-498c-f99c-e4a04d455921"
      },
      "source": [
        "list(filter(lambda item: item%2 == 0, seq))"
      ],
      "execution_count": 250,
      "outputs": [
        {
          "output_type": "execute_result",
          "data": {
            "text/plain": [
              "[2, 4]"
            ]
          },
          "metadata": {},
          "execution_count": 250
        }
      ]
    },
    {
      "cell_type": "markdown",
      "metadata": {
        "id": "S4n9ew_3I5gO"
      },
      "source": [
        "### 내장 메서드(methods)"
      ]
    },
    {
      "cell_type": "code",
      "metadata": {
        "id": "5R6OxHC0I5gO"
      },
      "source": [
        "st = 'Hello my name is Danny'"
      ],
      "execution_count": 251,
      "outputs": []
    },
    {
      "cell_type": "code",
      "metadata": {
        "colab": {
          "base_uri": "https://localhost:8080/",
          "height": 0
        },
        "id": "-JAp8MgfI5gO",
        "outputId": "d5f200ae-dc72-4796-ce14-3a0fa19b7b94"
      },
      "source": [
        "st.lower()"
      ],
      "execution_count": 252,
      "outputs": [
        {
          "output_type": "execute_result",
          "data": {
            "application/vnd.google.colaboratory.intrinsic+json": {
              "type": "string"
            },
            "text/plain": [
              "'hello my name is danny'"
            ]
          },
          "metadata": {},
          "execution_count": 252
        }
      ]
    },
    {
      "cell_type": "code",
      "metadata": {
        "colab": {
          "base_uri": "https://localhost:8080/",
          "height": 0
        },
        "id": "ku_yz_tKI5gO",
        "outputId": "a07b2869-08e0-4dd6-8fd8-23aefab59d05"
      },
      "source": [
        "st.upper()"
      ],
      "execution_count": 253,
      "outputs": [
        {
          "output_type": "execute_result",
          "data": {
            "application/vnd.google.colaboratory.intrinsic+json": {
              "type": "string"
            },
            "text/plain": [
              "'HELLO MY NAME IS DANNY'"
            ]
          },
          "metadata": {},
          "execution_count": 253
        }
      ]
    },
    {
      "cell_type": "code",
      "metadata": {
        "colab": {
          "base_uri": "https://localhost:8080/"
        },
        "id": "o9EyNJMBI5gO",
        "outputId": "210db5a2-bf7b-48a3-b09f-0d89d0cb6717"
      },
      "source": [
        "st.split()"
      ],
      "execution_count": 254,
      "outputs": [
        {
          "output_type": "execute_result",
          "data": {
            "text/plain": [
              "['Hello', 'my', 'name', 'is', 'Danny']"
            ]
          },
          "metadata": {},
          "execution_count": 254
        }
      ]
    },
    {
      "cell_type": "code",
      "metadata": {
        "id": "IqxmTSPCI5gP"
      },
      "source": [
        "message = 'Python the Best programming language in #AI'"
      ],
      "execution_count": 255,
      "outputs": []
    },
    {
      "cell_type": "code",
      "metadata": {
        "colab": {
          "base_uri": "https://localhost:8080/"
        },
        "id": "lQxVIKx7I5gP",
        "outputId": "14f68772-d998-4c02-d908-4eeb68fa25a7"
      },
      "source": [
        "message.split('#')"
      ],
      "execution_count": 256,
      "outputs": [
        {
          "output_type": "execute_result",
          "data": {
            "text/plain": [
              "['Python the Best programming language in ', 'AI']"
            ]
          },
          "metadata": {},
          "execution_count": 256
        }
      ]
    },
    {
      "cell_type": "code",
      "metadata": {
        "colab": {
          "base_uri": "https://localhost:8080/",
          "height": 0
        },
        "id": "ZW0Svrp0I5gP",
        "outputId": "623c9b1d-a70e-49d1-fd54-e79fc9b7d67b"
      },
      "source": [
        "message.split('#')[1]"
      ],
      "execution_count": 257,
      "outputs": [
        {
          "output_type": "execute_result",
          "data": {
            "application/vnd.google.colaboratory.intrinsic+json": {
              "type": "string"
            },
            "text/plain": [
              "'AI'"
            ]
          },
          "metadata": {},
          "execution_count": 257
        }
      ]
    },
    {
      "cell_type": "code",
      "metadata": {
        "colab": {
          "base_uri": "https://localhost:8080/"
        },
        "id": "8tkTrN7iI5gP",
        "outputId": "208486fa-ace8-4109-b7be-b34b3737a469"
      },
      "source": [
        "d"
      ],
      "execution_count": 258,
      "outputs": [
        {
          "output_type": "execute_result",
          "data": {
            "text/plain": [
              "{'key1': 'item1', 'key2': 'item2'}"
            ]
          },
          "metadata": {},
          "execution_count": 258
        }
      ]
    },
    {
      "cell_type": "code",
      "metadata": {
        "colab": {
          "base_uri": "https://localhost:8080/"
        },
        "id": "T_czBKEMI5gP",
        "outputId": "671c5c8c-ddb8-42f1-a3a8-1e8a4e7b1076"
      },
      "source": [
        "d.keys()"
      ],
      "execution_count": 259,
      "outputs": [
        {
          "output_type": "execute_result",
          "data": {
            "text/plain": [
              "dict_keys(['key1', 'key2'])"
            ]
          },
          "metadata": {},
          "execution_count": 259
        }
      ]
    },
    {
      "cell_type": "code",
      "metadata": {
        "colab": {
          "base_uri": "https://localhost:8080/"
        },
        "id": "A6MySXivI5gP",
        "outputId": "c1340b8b-b80c-43d8-fd8a-b184c51c13fa"
      },
      "source": [
        "d.items()"
      ],
      "execution_count": 260,
      "outputs": [
        {
          "output_type": "execute_result",
          "data": {
            "text/plain": [
              "dict_items([('key1', 'item1'), ('key2', 'item2')])"
            ]
          },
          "metadata": {},
          "execution_count": 260
        }
      ]
    },
    {
      "cell_type": "code",
      "metadata": {
        "id": "-VxYiR2RI5gQ"
      },
      "source": [
        "lst = [1,2,3]"
      ],
      "execution_count": 261,
      "outputs": []
    },
    {
      "cell_type": "code",
      "metadata": {
        "colab": {
          "base_uri": "https://localhost:8080/"
        },
        "id": "YcfTbp8JI5gQ",
        "outputId": "e4eb5e88-f495-4001-8bb9-c31a333c86df"
      },
      "source": [
        "lst.pop()"
      ],
      "execution_count": 262,
      "outputs": [
        {
          "output_type": "execute_result",
          "data": {
            "text/plain": [
              "3"
            ]
          },
          "metadata": {},
          "execution_count": 262
        }
      ]
    },
    {
      "cell_type": "code",
      "metadata": {
        "colab": {
          "base_uri": "https://localhost:8080/"
        },
        "id": "89upngDlI5gQ",
        "outputId": "ebf17e5d-fe83-4099-bb36-70b6190c08fa"
      },
      "source": [
        "lst"
      ],
      "execution_count": 263,
      "outputs": [
        {
          "output_type": "execute_result",
          "data": {
            "text/plain": [
              "[1, 2]"
            ]
          },
          "metadata": {},
          "execution_count": 263
        }
      ]
    },
    {
      "cell_type": "code",
      "metadata": {
        "colab": {
          "base_uri": "https://localhost:8080/"
        },
        "id": "9n01d4JUI5gQ",
        "outputId": "2e334250-3031-4913-b905-04a30e0caf8f"
      },
      "source": [
        "'x' in [1,2,3]"
      ],
      "execution_count": 264,
      "outputs": [
        {
          "output_type": "execute_result",
          "data": {
            "text/plain": [
              "False"
            ]
          },
          "metadata": {},
          "execution_count": 264
        }
      ]
    },
    {
      "cell_type": "code",
      "metadata": {
        "colab": {
          "base_uri": "https://localhost:8080/"
        },
        "id": "fEvaqAhdI5gQ",
        "outputId": "6edebb2f-e7eb-4dda-e400-1551732a54b7"
      },
      "source": [
        "'x' in ['x','y','z']"
      ],
      "execution_count": 265,
      "outputs": [
        {
          "output_type": "execute_result",
          "data": {
            "text/plain": [
              "True"
            ]
          },
          "metadata": {},
          "execution_count": 265
        }
      ]
    },
    {
      "cell_type": "markdown",
      "metadata": {
        "id": "dr7Yc6lnI5gR"
      },
      "source": [
        "### 8. 클래스(Class)"
      ]
    },
    {
      "cell_type": "code",
      "metadata": {
        "id": "F4eH77jdI5gR"
      },
      "source": [
        "class calc:\n",
        "    # 인스턴스 초기화\n",
        "    def __init__(self, x, y):\n",
        "        self.x = x\n",
        "        self.y = y\n",
        "        \n",
        "    def add(self):\n",
        "        z = self.x + self.y\n",
        "        print(z)\n",
        "    \n",
        "    def sub(self):\n",
        "        pass\n",
        "    \n",
        "    def mul(self):\n",
        "        pass\n",
        "    \n",
        "    def div(self):\n",
        "        pass\n",
        "        "
      ],
      "execution_count": 266,
      "outputs": []
    },
    {
      "cell_type": "code",
      "metadata": {
        "colab": {
          "base_uri": "https://localhost:8080/"
        },
        "id": "3ou0SPM0I5gR",
        "outputId": "e7c9e0fa-4bae-4b1f-da28-6b93d6f78a89"
      },
      "source": [
        "f = calc(3, 7)\n",
        "f.add()"
      ],
      "execution_count": 267,
      "outputs": [
        {
          "output_type": "stream",
          "name": "stdout",
          "text": [
            "10\n"
          ]
        }
      ]
    },
    {
      "cell_type": "markdown",
      "metadata": {
        "id": "8umTpljgI5gR"
      },
      "source": [
        "### <span style=\"color:blue\">실습 : 사칙계산기 클래스 작성을 완성하세요.</span>"
      ]
    },
    {
      "cell_type": "code",
      "metadata": {
        "id": "V7pXoVoqI5gR"
      },
      "source": [
        ""
      ],
      "execution_count": 267,
      "outputs": []
    },
    {
      "cell_type": "code",
      "metadata": {
        "id": "wkt_zEyCI5gR"
      },
      "source": [
        ""
      ],
      "execution_count": 267,
      "outputs": []
    },
    {
      "cell_type": "code",
      "metadata": {
        "id": "WX8OyVbfI5gS"
      },
      "source": [
        ""
      ],
      "execution_count": 267,
      "outputs": []
    }
  ]
}