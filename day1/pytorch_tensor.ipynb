{
  "nbformat": 4,
  "nbformat_minor": 0,
  "metadata": {
    "colab": {
      "name": "pytorch_tensor.ipynb",
      "provenance": [],
      "collapsed_sections": [],
      "include_colab_link": true
    },
    "kernelspec": {
      "name": "python3",
      "display_name": "Python 3"
    },
    "language_info": {
      "name": "python"
    }
  },
  "cells": [
    {
      "cell_type": "markdown",
      "metadata": {
        "id": "view-in-github",
        "colab_type": "text"
      },
      "source": [
        "<a href=\"https://colab.research.google.com/github/kgpark88/pytorch/blob/main/day1/pytorch_tensor.ipynb\" target=\"_parent\"><img src=\"https://colab.research.google.com/assets/colab-badge.svg\" alt=\"Open In Colab\"/></a>"
      ]
    },
    {
      "cell_type": "markdown",
      "metadata": {
        "id": "-tXHGxYWNebT"
      },
      "source": [
        "# PyTorch Tensor\n",
        "https://www.programmersought.com/article/40345471852/"
      ]
    },
    {
      "cell_type": "markdown",
      "metadata": {
        "id": "eN9Fh2fkNq74"
      },
      "source": [
        "## CreateTensor"
      ]
    },
    {
      "cell_type": "code",
      "metadata": {
        "id": "KbfGgq61NaPl"
      },
      "source": [
        "import torch"
      ],
      "execution_count": null,
      "outputs": []
    },
    {
      "cell_type": "markdown",
      "metadata": {
        "id": "jB2K2sySN0CB"
      },
      "source": [
        "Create a 5x3 uninitialized Tensor"
      ]
    },
    {
      "cell_type": "code",
      "metadata": {
        "colab": {
          "base_uri": "https://localhost:8080/"
        },
        "id": "33n0Nea9Nnco",
        "outputId": "1f5a7e59-49d0-4ea5-b35e-9ac758154314"
      },
      "source": [
        "x = torch.empty(5, 3)\n",
        "print(x)"
      ],
      "execution_count": null,
      "outputs": [
        {
          "output_type": "stream",
          "text": [
            "tensor([[-9.5339e+15,  3.0941e-41,  3.3631e-44],\n",
            "        [ 0.0000e+00,         nan,  3.0941e-41],\n",
            "        [ 1.1578e+27,  1.1362e+30,  7.1547e+22],\n",
            "        [ 4.5828e+30,  1.2121e+04,  7.1846e+22],\n",
            "        [ 9.2198e-39,  7.0374e+22, -3.0787e+15]])\n"
          ],
          "name": "stdout"
        }
      ]
    },
    {
      "cell_type": "markdown",
      "metadata": {
        "id": "ebdT9QxEN4Yh"
      },
      "source": [
        "Create a 5x3 randomly initializedTensor:"
      ]
    },
    {
      "cell_type": "code",
      "metadata": {
        "colab": {
          "base_uri": "https://localhost:8080/"
        },
        "id": "-PBG7zRvNuol",
        "outputId": "dfa09caa-fb3c-4b98-9ef3-58eea72a8d20"
      },
      "source": [
        "x = torch.rand(5, 3)\n",
        "print(x)"
      ],
      "execution_count": null,
      "outputs": [
        {
          "output_type": "stream",
          "text": [
            "tensor([[0.5344, 0.4397, 0.4300],\n",
            "        [0.7659, 0.2413, 0.0428],\n",
            "        [0.8061, 0.0041, 0.0440],\n",
            "        [0.5186, 0.8815, 0.3750],\n",
            "        [0.2990, 0.1815, 0.4794]])\n"
          ],
          "name": "stdout"
        }
      ]
    },
    {
      "cell_type": "markdown",
      "metadata": {
        "id": "CPQOi9GXOAq5"
      },
      "source": [
        "Create a 5x3 long type with all 0s Tensor"
      ]
    },
    {
      "cell_type": "code",
      "metadata": {
        "colab": {
          "base_uri": "https://localhost:8080/"
        },
        "id": "8RDrocLyNwFE",
        "outputId": "66316616-fdf2-4863-cbb5-08a01b9462be"
      },
      "source": [
        "x = torch.zeros(5, 3, dtype=torch.long)\n",
        "print(x)"
      ],
      "execution_count": null,
      "outputs": [
        {
          "output_type": "stream",
          "text": [
            "tensor([[0, 0, 0],\n",
            "        [0, 0, 0],\n",
            "        [0, 0, 0],\n",
            "        [0, 0, 0],\n",
            "        [0, 0, 0]])\n"
          ],
          "name": "stdout"
        }
      ]
    },
    {
      "cell_type": "markdown",
      "metadata": {
        "id": "eFfDpT6fOE8J"
      },
      "source": [
        "Create directly based on data"
      ]
    },
    {
      "cell_type": "code",
      "metadata": {
        "colab": {
          "base_uri": "https://localhost:8080/"
        },
        "id": "T-SHOUkGNwIO",
        "outputId": "209cdf56-4177-48cb-f3ee-9ca49c89a8af"
      },
      "source": [
        "x = torch.tensor([5.5, 3])\n",
        "print(x)"
      ],
      "execution_count": null,
      "outputs": [
        {
          "output_type": "stream",
          "text": [
            "tensor([5.5000, 3.0000])\n"
          ],
          "name": "stdout"
        }
      ]
    },
    {
      "cell_type": "markdown",
      "metadata": {
        "id": "O-pFTJfzOatB"
      },
      "source": [
        "You can also use existingTensorTo create,   \n",
        "this method will reuse the input by default Tensor Some attributes,   \n",
        "such as data type, unless custom data type."
      ]
    },
    {
      "cell_type": "code",
      "metadata": {
        "colab": {
          "base_uri": "https://localhost:8080/"
        },
        "id": "xSTklDgINwKr",
        "outputId": "efbfe97f-0a44-432f-f023-af22a47ae191"
      },
      "source": [
        "x = x.new_ones(5, 3, dtype=torch.float64)  # The returned tensor has the same torch.dtype and torch.device by default\n",
        "print(x)\n",
        "\n",
        "x = torch.randn_like(x, dtype=torch.float) # Specify new data type\n",
        "print(x)"
      ],
      "execution_count": null,
      "outputs": [
        {
          "output_type": "stream",
          "text": [
            "tensor([[1., 1., 1.],\n",
            "        [1., 1., 1.],\n",
            "        [1., 1., 1.],\n",
            "        [1., 1., 1.],\n",
            "        [1., 1., 1.]], dtype=torch.float64)\n",
            "tensor([[-0.0880, -1.3758, -1.8259],\n",
            "        [-0.1816, -1.0372, -0.6719],\n",
            "        [ 0.4647, -0.5224,  1.0968],\n",
            "        [-0.6860, -0.8599,  0.2682],\n",
            "        [ 1.9959,  0.2772, -1.5417]])\n"
          ],
          "name": "stdout"
        }
      ]
    },
    {
      "cell_type": "markdown",
      "metadata": {
        "id": "Ct7LMxOlOibY"
      },
      "source": [
        "We can pass shape or size() To get Tensor shape:"
      ]
    },
    {
      "cell_type": "code",
      "metadata": {
        "colab": {
          "base_uri": "https://localhost:8080/"
        },
        "id": "FPoq-88pNwNK",
        "outputId": "25e44a8f-f14d-40cf-88d6-83602242d984"
      },
      "source": [
        "print(x.size())\n",
        "print(x.shape)"
      ],
      "execution_count": null,
      "outputs": [
        {
          "output_type": "stream",
          "text": [
            "torch.Size([5, 3])\n",
            "torch.Size([5, 3])\n"
          ],
          "name": "stdout"
        }
      ]
    },
    {
      "cell_type": "markdown",
      "metadata": {
        "id": "i64pvO5VOzo6"
      },
      "source": [
        "## Operation"
      ]
    },
    {
      "cell_type": "markdown",
      "metadata": {
        "id": "y1zNvN-VO2-B"
      },
      "source": [
        "### Arithmetic operation\n",
        "In PyTorch, the same operation may have many forms. The following uses addition as an example.\n",
        "\n"
      ]
    },
    {
      "cell_type": "markdown",
      "metadata": {
        "id": "GWLwx9NcO74Y"
      },
      "source": [
        "Arithmetic operation"
      ]
    },
    {
      "cell_type": "code",
      "metadata": {
        "colab": {
          "base_uri": "https://localhost:8080/"
        },
        "id": "qVaYqziWO2mh",
        "outputId": "2fffec7d-e563-4040-df3f-598f7e39bde6"
      },
      "source": [
        "y = torch.rand(5, 3)\n",
        "print(x + y)"
      ],
      "execution_count": null,
      "outputs": [
        {
          "output_type": "stream",
          "text": [
            "tensor([[ 0.8418, -1.2775, -1.2605],\n",
            "        [ 0.6622, -0.9492, -0.4408],\n",
            "        [ 0.5281,  0.4050,  1.3145],\n",
            "        [-0.6313, -0.6020,  0.3028],\n",
            "        [ 2.7758,  0.3471, -0.7824]])\n"
          ],
          "name": "stdout"
        }
      ]
    },
    {
      "cell_type": "markdown",
      "metadata": {
        "id": "6CWSNmdKPIBI"
      },
      "source": [
        "Additive form two"
      ]
    },
    {
      "cell_type": "code",
      "metadata": {
        "colab": {
          "base_uri": "https://localhost:8080/"
        },
        "id": "_dJf2-EGNwPn",
        "outputId": "2c27557f-485e-404c-e698-aa23715935e2"
      },
      "source": [
        "print(torch.add(x, y))"
      ],
      "execution_count": null,
      "outputs": [
        {
          "output_type": "stream",
          "text": [
            "tensor([[ 0.8418, -1.2775, -1.2605],\n",
            "        [ 0.6622, -0.9492, -0.4408],\n",
            "        [ 0.5281,  0.4050,  1.3145],\n",
            "        [-0.6313, -0.6020,  0.3028],\n",
            "        [ 2.7758,  0.3471, -0.7824]])\n"
          ],
          "name": "stdout"
        }
      ]
    },
    {
      "cell_type": "markdown",
      "metadata": {
        "id": "SUkVBt5RPWhx"
      },
      "source": [
        "You can also specify the output:"
      ]
    },
    {
      "cell_type": "code",
      "metadata": {
        "colab": {
          "base_uri": "https://localhost:8080/"
        },
        "id": "dezXkw26NwSF",
        "outputId": "3d8a0ee9-116d-4f9d-bbb2-f903568a8177"
      },
      "source": [
        "result = torch.empty(5, 3)\n",
        "torch.add(x, y, out=result)\n",
        "print(result)"
      ],
      "execution_count": null,
      "outputs": [
        {
          "output_type": "stream",
          "text": [
            "tensor([[ 0.8418, -1.2775, -1.2605],\n",
            "        [ 0.6622, -0.9492, -0.4408],\n",
            "        [ 0.5281,  0.4050,  1.3145],\n",
            "        [-0.6313, -0.6020,  0.3028],\n",
            "        [ 2.7758,  0.3471, -0.7824]])\n"
          ],
          "name": "stdout"
        }
      ]
    },
    {
      "cell_type": "markdown",
      "metadata": {
        "id": "oPmY9huYPaz5"
      },
      "source": [
        "Additive form three, inplace  \n",
        "Note: PyTorch operation inplace version has a suffix _, E.g x.copy_(y), x.t_()"
      ]
    },
    {
      "cell_type": "code",
      "metadata": {
        "colab": {
          "base_uri": "https://localhost:8080/"
        },
        "id": "OoBAx3m9NwUk",
        "outputId": "4fc825d6-b561-418b-f4cb-587f4738de81"
      },
      "source": [
        "# adds x to y\n",
        "y.add_(x)\n",
        "print(y)"
      ],
      "execution_count": null,
      "outputs": [
        {
          "output_type": "stream",
          "text": [
            "tensor([[ 0.8418, -1.2775, -1.2605],\n",
            "        [ 0.6622, -0.9492, -0.4408],\n",
            "        [ 0.5281,  0.4050,  1.3145],\n",
            "        [-0.6313, -0.6020,  0.3028],\n",
            "        [ 2.7758,  0.3471, -0.7824]])\n"
          ],
          "name": "stdout"
        }
      ]
    },
    {
      "cell_type": "markdown",
      "metadata": {
        "id": "rBE-uLdOPog4"
      },
      "source": [
        "### index\n",
        "- We can also use NumPy-like index operations to accessTensor\n",
        "- The part that needs attention is:   \n",
        "  The indexed result shares memory with the original data, that is, if one is modified, the other will be modified accordingly."
      ]
    },
    {
      "cell_type": "code",
      "metadata": {
        "colab": {
          "base_uri": "https://localhost:8080/"
        },
        "id": "Qkwc46mpNwW_",
        "outputId": "5fd947f1-89e8-4a42-c540-b437961e3150"
      },
      "source": [
        "y = x[0, :]\n",
        "y += 1\n",
        "print(y)\n",
        "print(x[0, :]) # The source tensor has also been changed"
      ],
      "execution_count": null,
      "outputs": [
        {
          "output_type": "stream",
          "text": [
            "tensor([ 0.9120, -0.3758, -0.8259])\n",
            "tensor([ 0.9120, -0.3758, -0.8259])\n"
          ],
          "name": "stdout"
        }
      ]
    },
    {
      "cell_type": "markdown",
      "metadata": {
        "id": "95VVpK61QAj4"
      },
      "source": [
        "### Change shape\n",
        "Use view() to changeTensorshape:"
      ]
    },
    {
      "cell_type": "code",
      "metadata": {
        "colab": {
          "base_uri": "https://localhost:8080/"
        },
        "id": "YN9olqsiNwZy",
        "outputId": "3469a162-ac69-49a0-bf10-17e8bfe2c654"
      },
      "source": [
        "y = x.view(15)\n",
        "z = x.view(-1, 5)  # -1 The dimension referred to can be derived from the values ​​of other dimensions\n",
        "print(x.size(), y.size(), z.size())"
      ],
      "execution_count": null,
      "outputs": [
        {
          "output_type": "stream",
          "text": [
            "torch.Size([5, 3]) torch.Size([15]) torch.Size([3, 5])\n"
          ],
          "name": "stdout"
        }
      ]
    },
    {
      "cell_type": "markdown",
      "metadata": {
        "id": "ecw8AKteQRsQ"
      },
      "source": [
        "note view() Returned new Tensor With source Tensor   \n",
        "Although there may be different size, But shared data Yes,   \n",
        "that is, if you change one of them, the other will change accordingly.   \n",
        "(As the name suggests, view only changes the viewing angle of this tensor,   \n",
        "the internal data has not changed)"
      ]
    },
    {
      "cell_type": "code",
      "metadata": {
        "colab": {
          "base_uri": "https://localhost:8080/"
        },
        "id": "O0zmprGGNwb6",
        "outputId": "0729ebeb-ffe6-4d65-e1e5-7428b9cf5fe4"
      },
      "source": [
        "x += 1\n",
        "print(x)\n",
        "print(y) # Also added 1"
      ],
      "execution_count": null,
      "outputs": [
        {
          "output_type": "stream",
          "text": [
            "tensor([[ 1.9120,  0.6242,  0.1741],\n",
            "        [ 0.8184, -0.0372,  0.3281],\n",
            "        [ 1.4647,  0.4776,  2.0968],\n",
            "        [ 0.3140,  0.1401,  1.2682],\n",
            "        [ 2.9959,  1.2772, -0.5417]])\n",
            "tensor([ 1.9120,  0.6242,  0.1741,  0.8184, -0.0372,  0.3281,  1.4647,  0.4776,\n",
            "         2.0968,  0.3140,  0.1401,  1.2682,  2.9959,  1.2772, -0.5417])\n"
          ],
          "name": "stdout"
        }
      ]
    },
    {
      "cell_type": "markdown",
      "metadata": {
        "id": "aSnZ6g4UQ1KJ"
      },
      "source": [
        "So what if we want to return a truly new copy (ie without sharing data memory)?  \n",
        "Pytorch also provides are shape()   \n",
        "You can change the shape, but this function does not guarantee that it will return a copy, so it is not recommended.   \n",
        "Recommended first clone Create a copy and use it again view"
      ]
    },
    {
      "cell_type": "code",
      "metadata": {
        "colab": {
          "base_uri": "https://localhost:8080/"
        },
        "id": "figIvmiJNweX",
        "outputId": "e8e669fc-9510-4f71-c9a4-ef8eac88ecc7"
      },
      "source": [
        "x_cp = x.clone().view(15)\n",
        "x -= 1\n",
        "print(x)\n",
        "print(x_cp)"
      ],
      "execution_count": null,
      "outputs": [
        {
          "output_type": "stream",
          "text": [
            "tensor([[ 0.9120, -0.3758, -0.8259],\n",
            "        [-0.1816, -1.0372, -0.6719],\n",
            "        [ 0.4647, -0.5224,  1.0968],\n",
            "        [-0.6860, -0.8599,  0.2682],\n",
            "        [ 1.9959,  0.2772, -1.5417]])\n",
            "tensor([ 1.9120,  0.6242,  0.1741,  0.8184, -0.0372,  0.3281,  1.4647,  0.4776,\n",
            "         2.0968,  0.3140,  0.1401,  1.2682,  2.9959,  1.2772, -0.5417])\n"
          ],
          "name": "stdout"
        }
      ]
    },
    {
      "cell_type": "markdown",
      "metadata": {
        "id": "xdwdpdZHRE_I"
      },
      "source": [
        "Another commonly used function is item(),   \n",
        "It can convert a scalar Tensor Converted into a Python number:"
      ]
    },
    {
      "cell_type": "code",
      "metadata": {
        "colab": {
          "base_uri": "https://localhost:8080/"
        },
        "id": "BK6sHhVNNwg0",
        "outputId": "01bd3b94-c483-460c-a1cf-63798e1d8e38"
      },
      "source": [
        "x = torch.randn(1)\n",
        "print(x)\n",
        "print(x.item())"
      ],
      "execution_count": null,
      "outputs": [
        {
          "output_type": "stream",
          "text": [
            "tensor([0.0920])\n",
            "0.0920167863368988\n"
          ],
          "name": "stdout"
        }
      ]
    },
    {
      "cell_type": "markdown",
      "metadata": {
        "id": "ygjJ_VX_RTQw"
      },
      "source": [
        "### Broadcast mechanism\n",
        "Earlier we saw how to treat two identical shapes Tensor Do element wise operations.   \n",
        "When two different shapes Tensor When calculating by element,   \n",
        "the broadcasting mechanism may be triggered:   \n",
        "first copy the elements appropriately to make these two Tensor Operate by element after the same shape."
      ]
    },
    {
      "cell_type": "code",
      "metadata": {
        "colab": {
          "base_uri": "https://localhost:8080/"
        },
        "id": "QIzO4k87RLQH",
        "outputId": "b02b1b96-55dd-4b40-b0d0-d160ba246b29"
      },
      "source": [
        "x = torch.arange(1, 3).view(1, 2)\n",
        "print(x)\n",
        "y = torch.arange(1, 4).view(3, 1)\n",
        "print(y)\n",
        "print(x + y)"
      ],
      "execution_count": null,
      "outputs": [
        {
          "output_type": "stream",
          "text": [
            "tensor([[1, 2]])\n",
            "tensor([[1],\n",
            "        [2],\n",
            "        [3]])\n",
            "tensor([[2, 3],\n",
            "        [3, 4],\n",
            "        [4, 5]])\n"
          ],
          "name": "stdout"
        }
      ]
    },
    {
      "cell_type": "markdown",
      "metadata": {
        "id": "LDr9KHj1R2eq"
      },
      "source": [
        "### Operational memory overhead\n",
        "As mentioned earlier, index operations will not open up new memory,  \n",
        "but like y = x + y   \n",
        "This kind of calculation will newly open the memory, and then y Point to new memory.   \n",
        "To demonstrate this, we can use Python's own id Function:   \n",
        "If the IDs of the two instances are the same, \n",
        "then their corresponding memory addresses are the same;   \n",
        "otherwise, they are different."
      ]
    },
    {
      "cell_type": "code",
      "metadata": {
        "colab": {
          "base_uri": "https://localhost:8080/"
        },
        "id": "-XiVT0xqR4ae",
        "outputId": "efd2a461-af05-4bd8-f7a9-9d3e6182f057"
      },
      "source": [
        "x = torch.tensor([1, 2])\n",
        "y = torch.tensor([3, 4])\n",
        "id_before = id(y)\n",
        "y = y + x\n",
        "print(id(y) == id_before) # False "
      ],
      "execution_count": null,
      "outputs": [
        {
          "output_type": "stream",
          "text": [
            "False\n"
          ],
          "name": "stdout"
        }
      ]
    },
    {
      "cell_type": "markdown",
      "metadata": {
        "id": "fqxZfe-nSb2Z"
      },
      "source": [
        "If you want to assign the result to the original y  \n",
        "We can use the index introduced earlier to replace the memory.   \n",
        "In the following example, we put x + y The result passed [:] Write in y \n",
        "The corresponding memory."
      ]
    },
    {
      "cell_type": "code",
      "metadata": {
        "colab": {
          "base_uri": "https://localhost:8080/"
        },
        "id": "cUMUZ5bHRSJ8",
        "outputId": "a43dffda-e806-41b9-bb02-b29084d62aa0"
      },
      "source": [
        "x = torch.tensor([1, 2])\n",
        "y = torch.tensor([3, 4])\n",
        "id_before = id(y)\n",
        "y[:] = y + x\n",
        "print(id(y) == id_before) # True"
      ],
      "execution_count": null,
      "outputs": [
        {
          "output_type": "stream",
          "text": [
            "True\n"
          ],
          "name": "stdout"
        }
      ]
    },
    {
      "cell_type": "markdown",
      "metadata": {
        "id": "aJi9kTesS2Vo"
      },
      "source": [
        "We can also use the operator full name function in out Parameter or addition operator += (That is add_())   \n",
        "To achieve the above effects, for example torch.add(x, y, out=y) with y += x (y.add_(x))"
      ]
    },
    {
      "cell_type": "code",
      "metadata": {
        "colab": {
          "base_uri": "https://localhost:8080/"
        },
        "id": "d4xk9EEJRSR8",
        "outputId": "eb5f2466-8b91-4bce-bb8e-072dcdc25e33"
      },
      "source": [
        "x = torch.tensor([1, 2])\n",
        "y = torch.tensor([3, 4])\n",
        "id_before = id(y)\n",
        "torch.add(x, y, out=y) # y += x, y.add_(x)\n",
        "print(id(y) == id_before) # True"
      ],
      "execution_count": null,
      "outputs": [
        {
          "output_type": "stream",
          "text": [
            "True\n"
          ],
          "name": "stdout"
        }
      ]
    },
    {
      "cell_type": "markdown",
      "metadata": {
        "id": "1B3ImfVDTPoB"
      },
      "source": [
        "### Tensor on GPU"
      ]
    },
    {
      "cell_type": "markdown",
      "metadata": {
        "id": "Yfmg5eS8TUbv"
      },
      "source": [
        "How to use to() can Tensor Move between CPU and GPU (requires hardware support)."
      ]
    },
    {
      "cell_type": "code",
      "metadata": {
        "id": "upSLJiWyRSSd"
      },
      "source": [
        "# The following code will only be executed on the PyTorch GPU version\n",
        "if torch.cuda.is_available():\n",
        "    device = torch.device(\"cuda\")          # GPU\n",
        "    y = torch.ones_like(x, device=device)  # Create a Tensor on the GPU directly\n",
        "    x = x.to(device)                       # Equivalent to .to(\"cuda\")\n",
        "    z = x + y\n",
        "    print(z)\n",
        "    print(z.to(\"cpu\", torch.double))       # to()You can also change the data type at the same time"
      ],
      "execution_count": null,
      "outputs": []
    }
  ]
}