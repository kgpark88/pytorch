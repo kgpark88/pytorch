{
 "cells": [
  {
   "cell_type": "markdown",
   "metadata": {
    "id": "I7QFFLTZ-N67"
   },
   "source": [
    "# PyTorch - 계산그래프(Computation Graph)\n",
    "```\n",
    "  (a) --> (x)\n",
    "       \\ /     \\\n",
    "       .       (z)\n",
    "      / \\     /\n",
    "  (b) --> (y)\n",
    "\n",
    "  x = 2a + 3b\n",
    "  y = 2a^3 + 3b^2\n",
    "  z = 3x + 2y\n",
    "\n",
    "```"
   ]
  },
  {
   "cell_type": "code",
   "execution_count": 1,
   "metadata": {
    "colab": {
     "base_uri": "https://localhost:8080/"
    },
    "id": "3CUzpIXo-N69",
    "outputId": "3256a222-5885-4095-8846-ea922cfa3dfb"
   },
   "outputs": [
    {
     "name": "stdout",
     "output_type": "stream",
     "text": [
      "tensor(54.)\n"
     ]
    }
   ],
   "source": [
    "import torch\n",
    "\n",
    "a = torch.tensor(2.0, requires_grad=True)\n",
    "b = torch.tensor(1.0, requires_grad=True)\n",
    "\n",
    "x = 2*a + 3*b\n",
    "y = 2*a*a*a + 3*b*b\n",
    "z = 3*x + 2*y\n",
    "z.backward()\n",
    "print(a.grad)"
   ]
  },
  {
   "cell_type": "markdown",
   "metadata": {
    "id": "ShtN80XgIh7g"
   },
   "source": [
    "## 수동계산\n",
    "```\n",
    "dz/da = dz/dx * dx/da + dz/dy * dy/da\n",
    "      =  3    *   2   +   2   *  6a^2\n",
    "      = 6  + 12a^2\n",
    "      = 6  +  12*4 = 56\n",
    "\n",
    "a = 2 일때, dz/da = 54  ... 정답!\n",
    "```"
   ]
  },
  {
   "cell_type": "markdown",
   "metadata": {},
   "source": []
  },
  {
   "cell_type": "code",
   "execution_count": 2,
   "metadata": {},
   "outputs": [
    {
     "data": {
      "text/plain": [
       "6"
      ]
     },
     "execution_count": 2,
     "metadata": {},
     "output_type": "execute_result"
    }
   ],
   "source": [
    "3+3"
   ]
  },
  {
   "cell_type": "code",
   "execution_count": null,
   "metadata": {},
   "outputs": [],
   "source": []
  },
  {
   "cell_type": "code",
   "execution_count": null,
   "metadata": {},
   "outputs": [],
   "source": []
  },
  {
   "cell_type": "code",
   "execution_count": null,
   "metadata": {},
   "outputs": [],
   "source": []
  },
  {
   "cell_type": "code",
   "execution_count": null,
   "metadata": {},
   "outputs": [],
   "source": []
  }
 ],
 "metadata": {
  "colab": {
   "collapsed_sections": [],
   "name": "실습_pytorch_computation_graph.ipynb",
   "provenance": []
  },
  "kernelspec": {
   "display_name": "Python 3",
   "language": "python",
   "name": "python3"
  },
  "language_info": {
   "codemirror_mode": {
    "name": "ipython",
    "version": 3
   },
   "file_extension": ".py",
   "mimetype": "text/x-python",
   "name": "python",
   "nbconvert_exporter": "python",
   "pygments_lexer": "ipython3",
   "version": "3.8.7"
  }
 },
 "nbformat": 4,
 "nbformat_minor": 4
}
