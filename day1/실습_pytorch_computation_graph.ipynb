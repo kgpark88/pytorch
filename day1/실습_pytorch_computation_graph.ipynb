{
  "nbformat": 4,
  "nbformat_minor": 0,
  "metadata": {
    "colab": {
      "name": "실습_pytorch_computation_graph.ipynb",
      "provenance": [],
      "collapsed_sections": []
    },
    "kernelspec": {
      "name": "python3",
      "display_name": "Python 3"
    }
  },
  "cells": [
    {
      "cell_type": "markdown",
      "metadata": {
        "id": "I7QFFLTZ-N67"
      },
      "source": [
        "# PyTorch - 계산그래프(Computation Graph)\n",
        "```\n",
        "  (a) --> (x)\n",
        "       \\ /     \\\n",
        "       .       (z)\n",
        "      / \\     /\n",
        "  (b) --> (y)\n",
        "\n",
        "  x = 2a + 3b\n",
        "  y = 2a^3 + 3b^2\n",
        "  z = 3x + 2y\n",
        "\n",
        "```"
      ]
    },
    {
      "cell_type": "code",
      "metadata": {
        "id": "3CUzpIXo-N69",
        "colab": {
          "base_uri": "https://localhost:8080/"
        },
        "outputId": "3256a222-5885-4095-8846-ea922cfa3dfb"
      },
      "source": [
        "import torch\n",
        "\n",
        "a = torch.tensor(2.0, requires_grad=True)\n",
        "b = torch.tensor(1.0, requires_grad=True)\n",
        "\n",
        "x = 2*a + 3*b\n",
        "y = 2*a*a*a + 3*b*b\n",
        "z = 3*x + 2*y\n",
        "z.backward()\n",
        "print(a.grad)"
      ],
      "execution_count": 4,
      "outputs": [
        {
          "output_type": "stream",
          "text": [
            "tensor(54.)\n"
          ],
          "name": "stdout"
        }
      ]
    },
    {
      "cell_type": "markdown",
      "metadata": {
        "id": "ShtN80XgIh7g"
      },
      "source": [
        "## 수동계산\n",
        "```\n",
        "dz/da = dz/dx * dx/da + dz/dy * dy/da\n",
        "      =  3    *   2   +   2   *  6a^2\n",
        "      = 6  + 12a^2\n",
        "      = 6  +  12*4 = 56\n",
        "\n",
        "a = 2 일때, dz/da = 54  ... 정답!\n",
        "```"
      ]
    }
  ]
}