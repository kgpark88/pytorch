{
  "nbformat": 4,
  "nbformat_minor": 0,
  "metadata": {
    "colab": {
      "name": "실습_iris_classifIer.ipynb",
      "provenance": [],
      "collapsed_sections": []
    },
    "kernelspec": {
      "name": "python3",
      "display_name": "Python 3"
    },
    "language_info": {
      "name": "python"
    }
  },
  "cells": [
    {
      "cell_type": "markdown",
      "metadata": {
        "id": "dW4YPLSfaEy5"
      },
      "source": [
        "# 붓꽃(Iris) 품종 분류 모델"
      ]
    },
    {
      "cell_type": "markdown",
      "metadata": {
        "id": "8JLhjUi-alBy"
      },
      "source": [
        "## 데이터 로드"
      ]
    },
    {
      "cell_type": "code",
      "metadata": {
        "id": "0AqOP3aPVP31"
      },
      "source": [
        "import pandas as pd\n",
        "from sklearn.datasets import load_iris\n",
        "\n",
        "iris = load_iris()\n",
        "X = iris['data']\n",
        "y = iris['target']\n",
        "names = iris['target_names']\n",
        "feature_names = iris['feature_names']"
      ],
      "execution_count": 35,
      "outputs": []
    },
    {
      "cell_type": "code",
      "metadata": {
        "id": "Y6WMiReAXQXH"
      },
      "source": [
        "df = pd.DataFrame(iris.data) \n",
        "df.columns = iris.feature_names \n",
        "df['label'] = iris.target "
      ],
      "execution_count": 36,
      "outputs": []
    },
    {
      "cell_type": "code",
      "metadata": {
        "colab": {
          "base_uri": "https://localhost:8080/",
          "height": 203
        },
        "id": "Cx4ggwXyZYzD",
        "outputId": "7a21da26-5c18-4b63-846b-cc43795afe99"
      },
      "source": [
        "df.head()"
      ],
      "execution_count": 37,
      "outputs": [
        {
          "output_type": "execute_result",
          "data": {
            "text/html": [
              "<div>\n",
              "<style scoped>\n",
              "    .dataframe tbody tr th:only-of-type {\n",
              "        vertical-align: middle;\n",
              "    }\n",
              "\n",
              "    .dataframe tbody tr th {\n",
              "        vertical-align: top;\n",
              "    }\n",
              "\n",
              "    .dataframe thead th {\n",
              "        text-align: right;\n",
              "    }\n",
              "</style>\n",
              "<table border=\"1\" class=\"dataframe\">\n",
              "  <thead>\n",
              "    <tr style=\"text-align: right;\">\n",
              "      <th></th>\n",
              "      <th>sepal length (cm)</th>\n",
              "      <th>sepal width (cm)</th>\n",
              "      <th>petal length (cm)</th>\n",
              "      <th>petal width (cm)</th>\n",
              "      <th>label</th>\n",
              "    </tr>\n",
              "  </thead>\n",
              "  <tbody>\n",
              "    <tr>\n",
              "      <th>0</th>\n",
              "      <td>5.1</td>\n",
              "      <td>3.5</td>\n",
              "      <td>1.4</td>\n",
              "      <td>0.2</td>\n",
              "      <td>0</td>\n",
              "    </tr>\n",
              "    <tr>\n",
              "      <th>1</th>\n",
              "      <td>4.9</td>\n",
              "      <td>3.0</td>\n",
              "      <td>1.4</td>\n",
              "      <td>0.2</td>\n",
              "      <td>0</td>\n",
              "    </tr>\n",
              "    <tr>\n",
              "      <th>2</th>\n",
              "      <td>4.7</td>\n",
              "      <td>3.2</td>\n",
              "      <td>1.3</td>\n",
              "      <td>0.2</td>\n",
              "      <td>0</td>\n",
              "    </tr>\n",
              "    <tr>\n",
              "      <th>3</th>\n",
              "      <td>4.6</td>\n",
              "      <td>3.1</td>\n",
              "      <td>1.5</td>\n",
              "      <td>0.2</td>\n",
              "      <td>0</td>\n",
              "    </tr>\n",
              "    <tr>\n",
              "      <th>4</th>\n",
              "      <td>5.0</td>\n",
              "      <td>3.6</td>\n",
              "      <td>1.4</td>\n",
              "      <td>0.2</td>\n",
              "      <td>0</td>\n",
              "    </tr>\n",
              "  </tbody>\n",
              "</table>\n",
              "</div>"
            ],
            "text/plain": [
              "   sepal length (cm)  sepal width (cm)  ...  petal width (cm)  label\n",
              "0                5.1               3.5  ...               0.2      0\n",
              "1                4.9               3.0  ...               0.2      0\n",
              "2                4.7               3.2  ...               0.2      0\n",
              "3                4.6               3.1  ...               0.2      0\n",
              "4                5.0               3.6  ...               0.2      0\n",
              "\n",
              "[5 rows x 5 columns]"
            ]
          },
          "metadata": {},
          "execution_count": 37
        }
      ]
    },
    {
      "cell_type": "markdown",
      "metadata": {
        "id": "0ZqMRYJRap8o"
      },
      "source": [
        "## 입력데이터(input data)와 레이블(label) 분리"
      ]
    },
    {
      "cell_type": "code",
      "metadata": {
        "id": "wqgceRnRVlJh"
      },
      "source": [
        "X = df.drop('label', axis=1).to_numpy() \n",
        "Y = df['label'].to_numpy().reshape((-1,1))"
      ],
      "execution_count": 38,
      "outputs": []
    },
    {
      "cell_type": "code",
      "metadata": {
        "colab": {
          "base_uri": "https://localhost:8080/"
        },
        "id": "RZmyTIZ_cs5Z",
        "outputId": "174f4682-083e-4fcb-cb7a-b637da32ffb9"
      },
      "source": [
        "X.shape"
      ],
      "execution_count": 39,
      "outputs": [
        {
          "output_type": "execute_result",
          "data": {
            "text/plain": [
              "(150, 4)"
            ]
          },
          "metadata": {},
          "execution_count": 39
        }
      ]
    },
    {
      "cell_type": "code",
      "metadata": {
        "colab": {
          "base_uri": "https://localhost:8080/"
        },
        "id": "X6aNHoxIc2Xi",
        "outputId": "ed5d43d6-0b6e-4144-99c7-4502f17ca0c7"
      },
      "source": [
        "Y.shape"
      ],
      "execution_count": 40,
      "outputs": [
        {
          "output_type": "execute_result",
          "data": {
            "text/plain": [
              "(150, 1)"
            ]
          },
          "metadata": {},
          "execution_count": 40
        }
      ]
    },
    {
      "cell_type": "markdown",
      "metadata": {
        "id": "pX3Oo6e2bZFs"
      },
      "source": [
        "## 입력 데이터 정규화"
      ]
    },
    {
      "cell_type": "code",
      "metadata": {
        "id": "B4-Coj19V7Gb"
      },
      "source": [
        "from sklearn.preprocessing import StandardScaler\n",
        "\n",
        "scaler = StandardScaler()\n",
        "X_scaled = scaler.fit_transform(X)"
      ],
      "execution_count": 41,
      "outputs": []
    },
    {
      "cell_type": "markdown",
      "metadata": {
        "id": "kLA70PAYbCVI"
      },
      "source": [
        "## 훈련데이터셋과 테스트데이터셋으로 분리"
      ]
    },
    {
      "cell_type": "code",
      "metadata": {
        "id": "2u5KcBw7cHYZ"
      },
      "source": [
        "from sklearn.model_selection import train_test_split\n",
        "\n",
        "X_train, X_test, Y_train, Y_test = train_test_split(X_scaled, y, test_size=0.3, random_state=42)"
      ],
      "execution_count": 42,
      "outputs": []
    },
    {
      "cell_type": "markdown",
      "metadata": {
        "id": "03b5lt2_cJlg"
      },
      "source": [
        "## 데이터셋 클래스"
      ]
    },
    {
      "cell_type": "code",
      "metadata": {
        "id": "49bta2v9V1Gf"
      },
      "source": [
        "import torch\n",
        "from torch import nn, optim\n",
        "import torch.nn.functional as F\n",
        "from torch.utils.data import DataLoader, Dataset \n",
        "\n",
        "class TensorData(Dataset):\n",
        "    def __init__(self, x_data, y_data):\n",
        "        self.x_data = torch.FloatTensor(x_data)\n",
        "        self.y_data = torch.LongTensor(y_data)\n",
        "        self.len = self.y_data.shape[0]\n",
        "\n",
        "    def __getitem__(self, index):\n",
        "        return self.x_data[index], self.y_data[index] \n",
        "\n",
        "    def __len__(self):\n",
        "        return self.len"
      ],
      "execution_count": 43,
      "outputs": []
    },
    {
      "cell_type": "markdown",
      "metadata": {
        "id": "ff_03tN1bl9o"
      },
      "source": [
        "## 데이터 로더"
      ]
    },
    {
      "cell_type": "code",
      "metadata": {
        "id": "4GtysJQHbyyk"
      },
      "source": [
        "train_ds = TensorData(X_train, Y_train)\n",
        "trainloader = torch.utils.data.DataLoader(train_ds, batch_size=16, shuffle=True)\n",
        "\n",
        "test_ds = TensorData(X_test, Y_test)\n",
        "testloader = torch.utils.data.DataLoader(test_ds, batch_size=16, shuffle=False)"
      ],
      "execution_count": 44,
      "outputs": []
    },
    {
      "cell_type": "code",
      "metadata": {
        "id": "NF8dBOLBX3qV",
        "colab": {
          "base_uri": "https://localhost:8080/"
        },
        "outputId": "d4057b26-3e04-48c8-edfd-eb8aa4e32ba1"
      },
      "source": [
        "test_ds[0]"
      ],
      "execution_count": 45,
      "outputs": [
        {
          "output_type": "execute_result",
          "data": {
            "text/plain": [
              "(tensor([ 0.3110, -0.5924,  0.5354,  0.0009]), tensor(1))"
            ]
          },
          "metadata": {},
          "execution_count": 45
        }
      ]
    },
    {
      "cell_type": "markdown",
      "metadata": {
        "id": "HD9TyJC6jdLQ"
      },
      "source": [
        "## 신경망 모델 아키텍처"
      ]
    },
    {
      "cell_type": "code",
      "metadata": {
        "id": "ho9a-5tfViu6"
      },
      "source": [
        "class Classifier(nn.Module):\n",
        "    def __init__(self):\n",
        "        super(Classifier, self).__init__()\n",
        "        self.fc1 = nn.Linear(4, 200)\n",
        "        self.fc2 = nn.Linear(200, 100)\n",
        "        self.fc3 = nn.Linear(100, 3)\n",
        "        self.softmax = nn.Softmax(dim=1)\n",
        "\n",
        "    def forward(self, X):\n",
        "        X = F.relu(self.fc1(X))\n",
        "        X = self.fc2(X)\n",
        "        X = self.fc3(X)\n",
        "        X = self.softmax(X)\n",
        "        return X"
      ],
      "execution_count": 46,
      "outputs": []
    },
    {
      "cell_type": "markdown",
      "metadata": {
        "id": "yY9rF9_KpvXE"
      },
      "source": [
        "## 신경망 모델 객체 생성"
      ]
    },
    {
      "cell_type": "code",
      "metadata": {
        "id": "IqgpQ5rzpnr4"
      },
      "source": [
        "model = Classifier()"
      ],
      "execution_count": 47,
      "outputs": []
    },
    {
      "cell_type": "markdown",
      "metadata": {
        "id": "MfKnTMpNqQ-G"
      },
      "source": [
        "## 손실 함수"
      ]
    },
    {
      "cell_type": "code",
      "metadata": {
        "id": "esrudwSaqM6t"
      },
      "source": [
        "criterion = nn.CrossEntropyLoss()"
      ],
      "execution_count": 48,
      "outputs": []
    },
    {
      "cell_type": "markdown",
      "metadata": {
        "id": "qLxlJ6luqEzn"
      },
      "source": [
        "## 옵티마이저를 생성하고, 생성한 모델의 파라미터를  최적화 대상으로 등록\n"
      ]
    },
    {
      "cell_type": "code",
      "metadata": {
        "id": "ymEpWZ2SVsn5"
      },
      "source": [
        " optimizer = optim.Adam(model.parameters(), lr=0.001, weight_decay=1e-7)"
      ],
      "execution_count": 49,
      "outputs": []
    },
    {
      "cell_type": "markdown",
      "metadata": {
        "id": "R3Hlf7vIjnif"
      },
      "source": [
        "## 신경망 모델 훈련(학습)"
      ]
    },
    {
      "cell_type": "code",
      "metadata": {
        "id": "HWrxC60iWOGP",
        "colab": {
          "base_uri": "https://localhost:8080/"
        },
        "outputId": "df7e9495-17a0-497c-d40c-c50bea547cc8"
      },
      "source": [
        "epochs = 10\n",
        "\n",
        "for epoch in range(epochs):\n",
        "    print(f'### epoch {epoch+1} ###############')\n",
        "    for i, data in enumerate(trainloader, 0): \n",
        "        input, target = data \n",
        "        optimizer.zero_grad()\n",
        "        pred = model(input)\n",
        "        loss = criterion(pred, target)\n",
        "        loss.backward()\n",
        "        optimizer.step()\n",
        "        print(f'{i+1} : Loss {loss}')"
      ],
      "execution_count": 33,
      "outputs": [
        {
          "output_type": "stream",
          "name": "stdout",
          "text": [
            "### epoch 1 ###############\n",
            "1 : Loss 1.0970094203948975\n",
            "2 : Loss 1.0603703260421753\n",
            "3 : Loss 1.0336414575576782\n",
            "4 : Loss 0.9638051986694336\n",
            "5 : Loss 0.9511725306510925\n",
            "6 : Loss 0.8988872766494751\n",
            "7 : Loss 0.9356016516685486\n",
            "### epoch 2 ###############\n",
            "1 : Loss 0.8654597997665405\n",
            "2 : Loss 0.8037257194519043\n",
            "3 : Loss 0.7130200266838074\n",
            "4 : Loss 0.8676342964172363\n",
            "5 : Loss 0.8931446671485901\n",
            "6 : Loss 0.8221911191940308\n",
            "7 : Loss 0.7261682152748108\n",
            "### epoch 3 ###############\n",
            "1 : Loss 0.8252798318862915\n",
            "2 : Loss 0.7743189334869385\n",
            "3 : Loss 0.7990833520889282\n",
            "4 : Loss 0.6861302852630615\n",
            "5 : Loss 0.7532581090927124\n",
            "6 : Loss 0.6795639991760254\n",
            "7 : Loss 0.7482385039329529\n",
            "### epoch 4 ###############\n",
            "1 : Loss 0.782722532749176\n",
            "2 : Loss 0.7463374733924866\n",
            "3 : Loss 0.7373259663581848\n",
            "4 : Loss 0.6405733823776245\n",
            "5 : Loss 0.7245991826057434\n",
            "6 : Loss 0.7385200262069702\n",
            "7 : Loss 0.6486175060272217\n",
            "### epoch 5 ###############\n",
            "1 : Loss 0.7473595142364502\n",
            "2 : Loss 0.737089991569519\n",
            "3 : Loss 0.6739594340324402\n",
            "4 : Loss 0.701636552810669\n",
            "5 : Loss 0.7082073092460632\n",
            "6 : Loss 0.6421125531196594\n",
            "7 : Loss 0.676790177822113\n",
            "### epoch 6 ###############\n",
            "1 : Loss 0.7257378101348877\n",
            "2 : Loss 0.7179929614067078\n",
            "3 : Loss 0.8112512826919556\n",
            "4 : Loss 0.6066848039627075\n",
            "5 : Loss 0.6781583428382874\n",
            "6 : Loss 0.5786282420158386\n",
            "7 : Loss 0.666354775428772\n",
            "### epoch 7 ###############\n",
            "1 : Loss 0.6491110324859619\n",
            "2 : Loss 0.6898676156997681\n",
            "3 : Loss 0.7328863143920898\n",
            "4 : Loss 0.6518756151199341\n",
            "5 : Loss 0.6529684662818909\n",
            "6 : Loss 0.6412169337272644\n",
            "7 : Loss 0.6677849888801575\n",
            "### epoch 8 ###############\n",
            "1 : Loss 0.6222124695777893\n",
            "2 : Loss 0.6666091680526733\n",
            "3 : Loss 0.6359146237373352\n",
            "4 : Loss 0.656311571598053\n",
            "5 : Loss 0.6587523221969604\n",
            "6 : Loss 0.677873969078064\n",
            "7 : Loss 0.6513353586196899\n",
            "### epoch 9 ###############\n",
            "1 : Loss 0.5987273454666138\n",
            "2 : Loss 0.6354333162307739\n",
            "3 : Loss 0.6446771621704102\n",
            "4 : Loss 0.6208009123802185\n",
            "5 : Loss 0.681483268737793\n",
            "6 : Loss 0.6247655749320984\n",
            "7 : Loss 0.6865171790122986\n",
            "### epoch 10 ###############\n",
            "1 : Loss 0.6648776531219482\n",
            "2 : Loss 0.6025614738464355\n",
            "3 : Loss 0.5961227416992188\n",
            "4 : Loss 0.6126128435134888\n",
            "5 : Loss 0.599009096622467\n",
            "6 : Loss 0.6584480404853821\n",
            "7 : Loss 0.6861627101898193\n"
          ]
        }
      ]
    },
    {
      "cell_type": "markdown",
      "metadata": {
        "id": "mMkJWrlckJun"
      },
      "source": [
        "## 신경망 모델 평가"
      ]
    },
    {
      "cell_type": "code",
      "metadata": {
        "id": "TGl8XgyEYDDD",
        "colab": {
          "base_uri": "https://localhost:8080/"
        },
        "outputId": "27b20647-8488-4aa5-8c1b-84c7a7a5da87"
      },
      "source": [
        "correct = 0\n",
        "with torch.no_grad():\n",
        "  for i, data in enumerate(test_ds):\n",
        "    label = data[1].numpy()\n",
        "    output = model.forward(data[0].reshape(1,-1))\n",
        "    pred = output.argmax().item()\n",
        "    \n",
        "    if label == pred:\n",
        "        correct += 1\n",
        "\n",
        "print(f'정확도 : {correct/len(test_ds)*100:.2f}%')"
      ],
      "execution_count": 34,
      "outputs": [
        {
          "output_type": "stream",
          "name": "stdout",
          "text": [
            "정확도 : 100.00%\n"
          ]
        }
      ]
    },
    {
      "cell_type": "code",
      "metadata": {
        "id": "YTchqI26Ya7k"
      },
      "source": [
        ""
      ],
      "execution_count": 34,
      "outputs": []
    }
  ]
}