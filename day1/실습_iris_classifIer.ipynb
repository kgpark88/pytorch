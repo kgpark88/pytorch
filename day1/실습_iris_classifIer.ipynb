{
  "nbformat": 4,
  "nbformat_minor": 0,
  "metadata": {
    "colab": {
      "name": "실습_iris_classifIer.ipynb",
      "provenance": [],
      "collapsed_sections": []
    },
    "kernelspec": {
      "name": "python3",
      "display_name": "Python 3"
    },
    "language_info": {
      "name": "python"
    }
  },
  "cells": [
    {
      "cell_type": "markdown",
      "metadata": {
        "id": "dW4YPLSfaEy5"
      },
      "source": [
        "# 붓꽃(Iris) 품종 분류 모델"
      ]
    },
    {
      "cell_type": "markdown",
      "metadata": {
        "id": "8JLhjUi-alBy"
      },
      "source": [
        "## 데이터 로드"
      ]
    },
    {
      "cell_type": "code",
      "metadata": {
        "id": "0AqOP3aPVP31"
      },
      "source": [
        "import pandas as pd\n",
        "from sklearn.datasets import load_iris\n",
        "\n",
        "iris = load_iris()\n",
        "X = iris['data']\n",
        "y = iris['target']\n",
        "names = iris['target_names']\n",
        "feature_names = iris['feature_names']"
      ],
      "execution_count": null,
      "outputs": []
    },
    {
      "cell_type": "code",
      "metadata": {
        "id": "Y6WMiReAXQXH"
      },
      "source": [
        "df = pd.DataFrame(iris.data) \n",
        "df.columns = iris.feature_names \n",
        "df['label'] = iris.target "
      ],
      "execution_count": null,
      "outputs": []
    },
    {
      "cell_type": "code",
      "metadata": {
        "colab": {
          "base_uri": "https://localhost:8080/",
          "height": 202
        },
        "id": "Cx4ggwXyZYzD",
        "outputId": "9e22759a-b68c-4a30-a479-45d8a0be0453"
      },
      "source": [
        "df.head()"
      ],
      "execution_count": null,
      "outputs": [
        {
          "output_type": "execute_result",
          "data": {
            "text/html": [
              "<div>\n",
              "<style scoped>\n",
              "    .dataframe tbody tr th:only-of-type {\n",
              "        vertical-align: middle;\n",
              "    }\n",
              "\n",
              "    .dataframe tbody tr th {\n",
              "        vertical-align: top;\n",
              "    }\n",
              "\n",
              "    .dataframe thead th {\n",
              "        text-align: right;\n",
              "    }\n",
              "</style>\n",
              "<table border=\"1\" class=\"dataframe\">\n",
              "  <thead>\n",
              "    <tr style=\"text-align: right;\">\n",
              "      <th></th>\n",
              "      <th>sepal length (cm)</th>\n",
              "      <th>sepal width (cm)</th>\n",
              "      <th>petal length (cm)</th>\n",
              "      <th>petal width (cm)</th>\n",
              "      <th>label</th>\n",
              "    </tr>\n",
              "  </thead>\n",
              "  <tbody>\n",
              "    <tr>\n",
              "      <th>0</th>\n",
              "      <td>5.1</td>\n",
              "      <td>3.5</td>\n",
              "      <td>1.4</td>\n",
              "      <td>0.2</td>\n",
              "      <td>0</td>\n",
              "    </tr>\n",
              "    <tr>\n",
              "      <th>1</th>\n",
              "      <td>4.9</td>\n",
              "      <td>3.0</td>\n",
              "      <td>1.4</td>\n",
              "      <td>0.2</td>\n",
              "      <td>0</td>\n",
              "    </tr>\n",
              "    <tr>\n",
              "      <th>2</th>\n",
              "      <td>4.7</td>\n",
              "      <td>3.2</td>\n",
              "      <td>1.3</td>\n",
              "      <td>0.2</td>\n",
              "      <td>0</td>\n",
              "    </tr>\n",
              "    <tr>\n",
              "      <th>3</th>\n",
              "      <td>4.6</td>\n",
              "      <td>3.1</td>\n",
              "      <td>1.5</td>\n",
              "      <td>0.2</td>\n",
              "      <td>0</td>\n",
              "    </tr>\n",
              "    <tr>\n",
              "      <th>4</th>\n",
              "      <td>5.0</td>\n",
              "      <td>3.6</td>\n",
              "      <td>1.4</td>\n",
              "      <td>0.2</td>\n",
              "      <td>0</td>\n",
              "    </tr>\n",
              "  </tbody>\n",
              "</table>\n",
              "</div>"
            ],
            "text/plain": [
              "   sepal length (cm)  sepal width (cm)  ...  petal width (cm)  label\n",
              "0                5.1               3.5  ...               0.2      0\n",
              "1                4.9               3.0  ...               0.2      0\n",
              "2                4.7               3.2  ...               0.2      0\n",
              "3                4.6               3.1  ...               0.2      0\n",
              "4                5.0               3.6  ...               0.2      0\n",
              "\n",
              "[5 rows x 5 columns]"
            ]
          },
          "metadata": {
            "tags": []
          },
          "execution_count": 3
        }
      ]
    },
    {
      "cell_type": "markdown",
      "metadata": {
        "id": "0ZqMRYJRap8o"
      },
      "source": [
        "## 입력데이터(input data)와 레이블(label) 분리"
      ]
    },
    {
      "cell_type": "code",
      "metadata": {
        "id": "wqgceRnRVlJh"
      },
      "source": [
        "X = df.drop('label', axis=1).to_numpy() \n",
        "Y = df['label'].to_numpy().reshape((-1,1))"
      ],
      "execution_count": null,
      "outputs": []
    },
    {
      "cell_type": "code",
      "metadata": {
        "colab": {
          "base_uri": "https://localhost:8080/"
        },
        "id": "RZmyTIZ_cs5Z",
        "outputId": "83d4e8a7-08d7-49ad-fce4-3ce06e9f1ab1"
      },
      "source": [
        "X.shape"
      ],
      "execution_count": null,
      "outputs": [
        {
          "output_type": "execute_result",
          "data": {
            "text/plain": [
              "(150, 4)"
            ]
          },
          "metadata": {
            "tags": []
          },
          "execution_count": 5
        }
      ]
    },
    {
      "cell_type": "code",
      "metadata": {
        "colab": {
          "base_uri": "https://localhost:8080/"
        },
        "id": "X6aNHoxIc2Xi",
        "outputId": "594ccb83-d631-430a-df79-532d7a7ef778"
      },
      "source": [
        "Y.shape"
      ],
      "execution_count": null,
      "outputs": [
        {
          "output_type": "execute_result",
          "data": {
            "text/plain": [
              "(150, 1)"
            ]
          },
          "metadata": {
            "tags": []
          },
          "execution_count": 6
        }
      ]
    },
    {
      "cell_type": "markdown",
      "metadata": {
        "id": "pX3Oo6e2bZFs"
      },
      "source": [
        "## 입력 데이터 정규화"
      ]
    },
    {
      "cell_type": "code",
      "metadata": {
        "id": "B4-Coj19V7Gb"
      },
      "source": [
        "from sklearn.preprocessing import StandardScaler\n",
        "\n",
        "scaler = StandardScaler()\n",
        "X_scaled = scaler.fit_transform(X)"
      ],
      "execution_count": null,
      "outputs": []
    },
    {
      "cell_type": "markdown",
      "metadata": {
        "id": "kLA70PAYbCVI"
      },
      "source": [
        "## 훈련데이터셋과 테스트데이터셋으로 분리"
      ]
    },
    {
      "cell_type": "code",
      "metadata": {
        "id": "2u5KcBw7cHYZ"
      },
      "source": [
        "from sklearn.model_selection import train_test_split\n",
        "\n",
        "X_train, X_test, Y_train, Y_test = train_test_split(X_scaled, y, test_size=0.3, random_state=42)"
      ],
      "execution_count": null,
      "outputs": []
    },
    {
      "cell_type": "markdown",
      "metadata": {
        "id": "03b5lt2_cJlg"
      },
      "source": [
        "## 데이터셋 클래스"
      ]
    },
    {
      "cell_type": "code",
      "metadata": {
        "id": "49bta2v9V1Gf"
      },
      "source": [
        "import torch\n",
        "from torch import nn, optim\n",
        "import torch.nn.functional as F\n",
        "from torch.utils.data import DataLoader, Dataset \n",
        "\n",
        "class TensorData(Dataset):\n",
        "    def __init__(self, x_data, y_data):\n",
        "        self.x_data = torch.FloatTensor(x_data)\n",
        "        self.y_data = torch.LongTensor(y_data)\n",
        "        self.len = self.y_data.shape[0]\n",
        "\n",
        "    def __getitem__(self, index):\n",
        "        return self.x_data[index], self.y_data[index] \n",
        "\n",
        "    def __len__(self):\n",
        "        return self.len"
      ],
      "execution_count": null,
      "outputs": []
    },
    {
      "cell_type": "markdown",
      "metadata": {
        "id": "ff_03tN1bl9o"
      },
      "source": [
        "## 데이터 로더"
      ]
    },
    {
      "cell_type": "code",
      "metadata": {
        "id": "4GtysJQHbyyk"
      },
      "source": [
        "train_ds = TensorData(X_train, Y_train)\n",
        "trainloader = torch.utils.data.DataLoader(train_ds, batch_size=16, shuffle=True)\n",
        "\n",
        "test_ds = TensorData(X_test, Y_test)\n",
        "testloader = torch.utils.data.DataLoader(test_ds, batch_size=16, shuffle=False)"
      ],
      "execution_count": null,
      "outputs": []
    },
    {
      "cell_type": "code",
      "metadata": {
        "id": "NF8dBOLBX3qV",
        "colab": {
          "base_uri": "https://localhost:8080/"
        },
        "outputId": "6ac3f61c-857b-44c0-87af-30c7939f7e5a"
      },
      "source": [
        "test_ds[0]"
      ],
      "execution_count": null,
      "outputs": [
        {
          "output_type": "execute_result",
          "data": {
            "text/plain": [
              "(tensor([ 0.3110, -0.5924,  0.5354,  0.0009]), tensor(1))"
            ]
          },
          "metadata": {
            "tags": []
          },
          "execution_count": 11
        }
      ]
    },
    {
      "cell_type": "markdown",
      "metadata": {
        "id": "HD9TyJC6jdLQ"
      },
      "source": [
        "## 신경망 모델 아키텍처"
      ]
    },
    {
      "cell_type": "code",
      "metadata": {
        "id": "ho9a-5tfViu6"
      },
      "source": [
        "class Classifier(nn.Module):\n",
        "    def __init__(self):\n",
        "        super(Classifier, self).__init__()\n",
        "        self.fc1 = nn.Linear(4, 200)\n",
        "        self.fc2 = nn.Linear(200, 100)\n",
        "        self.fc3 = nn.Linear(100, 3)\n",
        "        self.softmax = nn.Softmax(dim=1)\n",
        "\n",
        "    def forward(self, X):\n",
        "        X = F.relu(self.fc1(X))\n",
        "        X = self.fc2(X)\n",
        "        X = self.fc3(X)\n",
        "        X = self.softmax(X)\n",
        "        return X"
      ],
      "execution_count": null,
      "outputs": []
    },
    {
      "cell_type": "markdown",
      "metadata": {
        "id": "yY9rF9_KpvXE"
      },
      "source": [
        "## 신경망 모델 객체 생성"
      ]
    },
    {
      "cell_type": "code",
      "metadata": {
        "id": "IqgpQ5rzpnr4"
      },
      "source": [
        "model = Classifier()"
      ],
      "execution_count": null,
      "outputs": []
    },
    {
      "cell_type": "markdown",
      "metadata": {
        "id": "MfKnTMpNqQ-G"
      },
      "source": [
        "## 손실 함수"
      ]
    },
    {
      "cell_type": "code",
      "metadata": {
        "id": "esrudwSaqM6t"
      },
      "source": [
        "criterion = nn.CrossEntropyLoss()"
      ],
      "execution_count": null,
      "outputs": []
    },
    {
      "cell_type": "markdown",
      "metadata": {
        "id": "qLxlJ6luqEzn"
      },
      "source": [
        "## 옵티마이저를 생성하고, 생성한 모델의 파라미터를  최적화 대상으로 등록\n"
      ]
    },
    {
      "cell_type": "code",
      "metadata": {
        "id": "ymEpWZ2SVsn5"
      },
      "source": [
        " optimizer = optim.Adam(model.parameters(), lr=0.001, weight_decay=1e-7)"
      ],
      "execution_count": null,
      "outputs": []
    },
    {
      "cell_type": "markdown",
      "metadata": {
        "id": "R3Hlf7vIjnif"
      },
      "source": [
        "## 신경망 모델 훈련(학습)"
      ]
    },
    {
      "cell_type": "code",
      "metadata": {
        "id": "HWrxC60iWOGP",
        "colab": {
          "base_uri": "https://localhost:8080/"
        },
        "outputId": "a4185f4e-18fb-435e-d441-b7c491a088d5"
      },
      "source": [
        "epochs = 10\n",
        "\n",
        "for epoch in range(epochs):\n",
        "    print(f'### epoch {epoch+1} ###############')\n",
        "    for i, data in enumerate(trainloader, 0): \n",
        "        input, target = data \n",
        "        optimizer.zero_grad()\n",
        "        pred = model(input)\n",
        "        loss = criterion(pred, target)\n",
        "        loss.backward()\n",
        "        optimizer.step()\n",
        "        print(f'{i+1} : Loss {loss}')"
      ],
      "execution_count": null,
      "outputs": [
        {
          "output_type": "stream",
          "text": [
            "### epoch 1 ###############\n",
            "1 : Loss 1.0966870784759521\n",
            "2 : Loss 1.0687446594238281\n",
            "3 : Loss 1.0175457000732422\n",
            "4 : Loss 1.0116595029830933\n",
            "5 : Loss 1.0091655254364014\n",
            "6 : Loss 0.8980752825737\n",
            "7 : Loss 0.9020828604698181\n",
            "### epoch 2 ###############\n",
            "1 : Loss 0.8000479936599731\n",
            "2 : Loss 0.8227065801620483\n",
            "3 : Loss 0.7491028904914856\n",
            "4 : Loss 0.8052451014518738\n",
            "5 : Loss 0.8107287287712097\n",
            "6 : Loss 0.8875216245651245\n",
            "7 : Loss 0.9376950860023499\n",
            "### epoch 3 ###############\n",
            "1 : Loss 0.8100994825363159\n",
            "2 : Loss 0.7622026801109314\n",
            "3 : Loss 0.7348368167877197\n",
            "4 : Loss 0.6670273542404175\n",
            "5 : Loss 0.8152891993522644\n",
            "6 : Loss 0.682107150554657\n",
            "7 : Loss 0.7522532343864441\n",
            "### epoch 4 ###############\n",
            "1 : Loss 0.6974712610244751\n",
            "2 : Loss 0.7867059707641602\n",
            "3 : Loss 0.7650312185287476\n",
            "4 : Loss 0.6753073930740356\n",
            "5 : Loss 0.718168318271637\n",
            "6 : Loss 0.6943297386169434\n",
            "7 : Loss 0.6233030557632446\n",
            "### epoch 5 ###############\n",
            "1 : Loss 0.7218785881996155\n",
            "2 : Loss 0.6548914909362793\n",
            "3 : Loss 0.7592387795448303\n",
            "4 : Loss 0.6733630895614624\n",
            "5 : Loss 0.6917029619216919\n",
            "6 : Loss 0.7062626481056213\n",
            "7 : Loss 0.7310717701911926\n",
            "### epoch 6 ###############\n",
            "1 : Loss 0.6679544448852539\n",
            "2 : Loss 0.6418643593788147\n",
            "3 : Loss 0.6378881931304932\n",
            "4 : Loss 0.8035513758659363\n",
            "5 : Loss 0.7974430322647095\n",
            "6 : Loss 0.6030482053756714\n",
            "7 : Loss 0.6179693937301636\n",
            "### epoch 7 ###############\n",
            "1 : Loss 0.6989290714263916\n",
            "2 : Loss 0.6404341459274292\n",
            "3 : Loss 0.6121330857276917\n",
            "4 : Loss 0.7339854836463928\n",
            "5 : Loss 0.7467531561851501\n",
            "6 : Loss 0.631859302520752\n",
            "7 : Loss 0.6109700202941895\n",
            "### epoch 8 ###############\n",
            "1 : Loss 0.6599505543708801\n",
            "2 : Loss 0.590058445930481\n",
            "3 : Loss 0.6297246217727661\n",
            "4 : Loss 0.6578854918479919\n",
            "5 : Loss 0.7255846261978149\n",
            "6 : Loss 0.6455693244934082\n",
            "7 : Loss 0.751397430896759\n",
            "### epoch 9 ###############\n",
            "1 : Loss 0.6076614856719971\n",
            "2 : Loss 0.8446171879768372\n",
            "3 : Loss 0.6445573568344116\n",
            "4 : Loss 0.6098544597625732\n",
            "5 : Loss 0.6589962244033813\n",
            "6 : Loss 0.5685663819313049\n",
            "7 : Loss 0.5788209438323975\n",
            "### epoch 10 ###############\n",
            "1 : Loss 0.6129650473594666\n",
            "2 : Loss 0.6486307382583618\n",
            "3 : Loss 0.6790820360183716\n",
            "4 : Loss 0.6675218939781189\n",
            "5 : Loss 0.5663621425628662\n",
            "6 : Loss 0.630410373210907\n",
            "7 : Loss 0.6555656790733337\n"
          ],
          "name": "stdout"
        }
      ]
    },
    {
      "cell_type": "markdown",
      "metadata": {
        "id": "mMkJWrlckJun"
      },
      "source": [
        "## 신경망 모델 평가"
      ]
    },
    {
      "cell_type": "code",
      "metadata": {
        "id": "TGl8XgyEYDDD",
        "colab": {
          "base_uri": "https://localhost:8080/"
        },
        "outputId": "b1f41c4a-de72-40cf-a420-50bea5bddeb9"
      },
      "source": [
        "correct = 0\n",
        "with torch.no_grad():\n",
        "  for i, data in enumerate(test_ds):\n",
        "    label = data[1].numpy()\n",
        "    output = model.forward(data[0].reshape(1,-1))\n",
        "    pred = output.argmax().item()\n",
        "    \n",
        "    if label == pred:\n",
        "      correct += 1\n",
        "\n",
        "print(f'정확도 : {correct/len(test_ds)*100:.2f}%')"
      ],
      "execution_count": null,
      "outputs": [
        {
          "output_type": "stream",
          "text": [
            "정확도 : 95.56%\n"
          ],
          "name": "stdout"
        }
      ]
    },
    {
      "cell_type": "code",
      "metadata": {
        "id": "YTchqI26Ya7k"
      },
      "source": [
        ""
      ],
      "execution_count": null,
      "outputs": []
    }
  ]
}